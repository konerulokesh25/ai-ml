{
  "nbformat": 4,
  "nbformat_minor": 0,
  "metadata": {
    "colab": {
      "name": "Assignment(11_06_2020).ipynb",
      "provenance": [],
      "include_colab_link": true
    },
    "kernelspec": {
      "name": "python3",
      "display_name": "Python 3"
    }
  },
  "cells": [
    {
      "cell_type": "markdown",
      "metadata": {
        "id": "view-in-github",
        "colab_type": "text"
      },
      "source": [
        "<a href=\"https://colab.research.google.com/github/konerulokesh25/ai-ml/blob/master/Assignment(11_06_2020).ipynb\" target=\"_parent\"><img src=\"https://colab.research.google.com/assets/colab-badge.svg\" alt=\"Open In Colab\"/></a>"
      ]
    },
    {
      "cell_type": "markdown",
      "metadata": {
        "id": "qhN1tNFkPPVU",
        "colab_type": "text"
      },
      "source": [
        "**CSE-221710313026-K.LOKESH**"
      ]
    },
    {
      "cell_type": "markdown",
      "metadata": {
        "id": "RVhFW91fPUeE",
        "colab_type": "text"
      },
      "source": [
        "Question 1: https://www.codechef.com/problems/RECNDSTR Chef has a string  S  consisting of lowercase English characters. Chef defined functions left shift  L(X)  and right shift  R(X)  as follows.  L(X)  is defined as shifting all characters of string  X  one step towards the left and moving the first character to the end.  R(X)  is defined as shifting all characters of string  X  one step towards the right and moving the last character to the beginning. For example, L(\"abcd\") = \"bcda\" and R(\"abcd\") = \"dabc\" Chef wants to find out whether there exists a string  V  of the same length as  S  such that both  L(V)=S  and  R(V)=S  holds.\n",
        "\n",
        "Input: The first line of the input contains a single integer  T  denoting the number of test cases. The description of  T  test cases follows. The first line of each test case contains a string  S . Output: For each test case, If there exists a valid string  V , print \"YES\", otherwise print \"NO\" (without the quotes). Sample Input: 4 a ab abcd aaaaa Sample Output: YES YES NO YES"
      ]
    },
    {
      "cell_type": "code",
      "metadata": {
        "id": "f5PpMxfkPV3S",
        "colab_type": "code",
        "outputId": "783c12c9-207e-4192-b49e-07b7b2292274",
        "colab": {
          "base_uri": "https://localhost:8080/",
          "height": 170
        }
      },
      "source": [
        "def L(x):\n",
        "    return x[1:]+x[0]\n",
        "def R(x):\n",
        "    return x[len(x)-1]+x[0:len(x)-1]\n",
        "t=int(input())\n",
        "list1=[input() for i in range(t)]\n",
        "for i in list1:\n",
        "    print(\"YES\") if L(i) == R(i) else print(\"NO\")"
      ],
      "execution_count": 0,
      "outputs": [
        {
          "output_type": "stream",
          "text": [
            "4\n",
            "a\n",
            "ab\n",
            "abxd\n",
            "aaaa\n",
            "YES\n",
            "YES\n",
            "NO\n",
            "YES\n"
          ],
          "name": "stdout"
        }
      ]
    },
    {
      "cell_type": "markdown",
      "metadata": {
        "id": "-mDXPRP2Ptsr",
        "colab_type": "text"
      },
      "source": [
        "Question 2: https://www.hackerrank.com/challenges/beautiful-days-at-the-movies/problem\n",
        "\n"
      ]
    },
    {
      "cell_type": "code",
      "metadata": {
        "id": "C3_QCxdWPu3B",
        "colab_type": "code",
        "outputId": "aa906fb4-e52b-4ddf-89d3-d44221d9b2ce",
        "colab": {
          "base_uri": "https://localhost:8080/",
          "height": 51
        }
      },
      "source": [
        "i,j,k=map(int,input().split())\n",
        "c=0\n",
        "for n in range(i,j+1):\n",
        "    if((n-int(str(n)[::-1]))%2==0):\n",
        "        c+=1\n",
        "print(c)"
      ],
      "execution_count": 0,
      "outputs": [
        {
          "output_type": "stream",
          "text": [
            "20 23 6\n",
            "2\n"
          ],
          "name": "stdout"
        }
      ]
    },
    {
      "cell_type": "markdown",
      "metadata": {
        "id": "gISLwqTZP9tp",
        "colab_type": "text"
      },
      "source": [
        "Question 3: https://www.hackerrank.com/challenges/birthday-cake-candles/problem"
      ]
    },
    {
      "cell_type": "code",
      "metadata": {
        "id": "NrjlJ4moP-9B",
        "colab_type": "code",
        "outputId": "327bfe6c-2192-47ed-961a-70153c34e424",
        "colab": {
          "base_uri": "https://localhost:8080/",
          "height": 68
        }
      },
      "source": [
        "n=int(input())\n",
        "a=list(map(int,input().split()))\n",
        "print(a.count(max(a)))"
      ],
      "execution_count": 0,
      "outputs": [
        {
          "output_type": "stream",
          "text": [
            "4\n",
            "3 2 1 3\n",
            "2\n"
          ],
          "name": "stdout"
        }
      ]
    },
    {
      "cell_type": "markdown",
      "metadata": {
        "id": "hp1gsW-mQUI7",
        "colab_type": "text"
      },
      "source": [
        "Question 4: (InfyTQ) Consider a non-empty array inarr containing non-zero positive single digit integers separated by “,” (comma).Print a string based on the below logic: From all possible unique three digit number combinations with the elements of inarr Identify the maximum number maxnum among the three digit combinations formed. Print the maxnum followed by the total number of unique digit combinations formed,separating them with a “,” (comma) Assumption: inarr will contain at least 3 elements Note : An element present at a particular index should not be considered more than once while forming a combination. Input format: Read the array inarr from the standard input stream Output format: Print the output to the standard output stream\n",
        "\n",
        "Sample Input : 1,2,1 Sample Output: 211,3\n",
        "\n",
        "Sample Input:1,2,1,4 Sample output:4211,12"
      ]
    },
    {
      "cell_type": "code",
      "metadata": {
        "id": "KkHnbcC4QYhh",
        "colab_type": "code",
        "outputId": "61bc537b-1ebc-4e1d-c38b-03d08944d587",
        "colab": {
          "base_uri": "https://localhost:8080/",
          "height": 51
        }
      },
      "source": [
        "import itertools as it\n",
        "a=list(map(str,input().split(',')))\n",
        "p = it.permutations(a, 3)\n",
        "x = list(set(p))               \n",
        "l = []\n",
        "for i in x:                          \n",
        "    p = ''.join(i)                   \n",
        "    l.append(int(p))\n",
        "l.sort()\n",
        "print(str(l[-1])+','+str(len(l)))"
      ],
      "execution_count": 0,
      "outputs": [
        {
          "output_type": "stream",
          "text": [
            "1,2,1\n",
            "211,3\n"
          ],
          "name": "stdout"
        }
      ]
    },
    {
      "cell_type": "markdown",
      "metadata": {
        "id": "qTsUuZZkQjMu",
        "colab_type": "text"
      },
      "source": [
        "Question 5:(InfyTQ) For a given positive number num,identify the palindrome formed by performing the following operations Add num and its reverse Check whether the sum is palindrome or not.If not,add the sum and its reverse and repeat the process until a palindrome is obtained. Input format : Read num from the standard input stream Output format: print the palindrome calculated to the standard output stream\n",
        "\n",
        "Sample input : 124 Sample Output : 545\n",
        "\n",
        "Sample input:195 Sample output: 9339"
      ]
    },
    {
      "cell_type": "code",
      "metadata": {
        "id": "GNvlhLp5QkSc",
        "colab_type": "code",
        "outputId": "0550d059-61aa-469b-d553-003897d5b24e",
        "colab": {
          "base_uri": "https://localhost:8080/",
          "height": 51
        }
      },
      "source": [
        "n=int(input())\n",
        "while(True):\n",
        "    n=str(n)\n",
        "    if(n ==n[::-1]):\n",
        "        print(n)\n",
        "        break\n",
        "    else:\n",
        "        n=int(n)+int(n[::-1])"
      ],
      "execution_count": 0,
      "outputs": [
        {
          "output_type": "stream",
          "text": [
            "124\n",
            "545\n"
          ],
          "name": "stdout"
        }
      ]
    },
    {
      "cell_type": "markdown",
      "metadata": {
        "id": "yF8UazTUQr3d",
        "colab_type": "text"
      },
      "source": [
        "Question 6: https://www.codechef.com/problems/SLAEL Find the length of the longest contiguous segment in an array, in which if a given element K K is inserted, K K becomes the second largest element of that subarray. Input: The first line will contain T, number of test cases. Then the test cases follow. The first line of each test case contains two integers N and K The next line contains N space-separated integers Ai denoting the elements of the array. Output: Print a single line corresponding to each test case — the length of the largest segment."
      ]
    },
    {
      "cell_type": "code",
      "metadata": {
        "id": "83l-ODrDQxB_",
        "colab_type": "code",
        "outputId": "0fe8aadc-e297-443b-8680-395b7248d954",
        "colab": {
          "base_uri": "https://localhost:8080/",
          "height": 138
        }
      },
      "source": [
        "t=int(input())\n",
        "while(t>0):\n",
        "    n,k=map(int,input().split())\n",
        "    a=list(map(int,input().split()))\n",
        "    gre=0\n",
        "    l=0\n",
        "    pos=-1\n",
        "    long=0\n",
        "    for i in range(n):\n",
        "        if a[i]>k and gre!=0 and a[i]!=gre:\n",
        "            gre = a[i]\n",
        "            if long<l:\n",
        "                long=l\n",
        "            l = i - pos\n",
        "            pos=i\n",
        "            continue\n",
        "        elif a[i]>k:\n",
        "            gre = a[i]\n",
        "            pos=i\n",
        "        l+=1\n",
        "    if long<l:\n",
        "        long=l\n",
        "    t-=1\n",
        "    print(\"output:\\n\",long,\"\\n\")"
      ],
      "execution_count": 0,
      "outputs": [
        {
          "output_type": "stream",
          "text": [
            "2\n",
            "5 3\n",
            "2 4 2 4 2\n",
            "output:\n",
            " 5 \n",
            "\n"
          ],
          "name": "stdout"
        }
      ]
    },
    {
      "cell_type": "code",
      "metadata": {
        "id": "D4p3cblRQ-XG",
        "colab_type": "code",
        "colab": {}
      },
      "source": [
        ""
      ],
      "execution_count": 0,
      "outputs": []
    },
    {
      "cell_type": "code",
      "metadata": {
        "id": "73l6TtuaQ-rm",
        "colab_type": "code",
        "colab": {}
      },
      "source": [
        ""
      ],
      "execution_count": 0,
      "outputs": []
    }
  ]
}