{
  "nbformat": 4,
  "nbformat_minor": 0,
  "metadata": {
    "kernelspec": {
      "display_name": "Python 3",
      "language": "python",
      "name": "python3"
    },
    "language_info": {
      "codemirror_mode": {
        "name": "ipython",
        "version": 3
      },
      "file_extension": ".py",
      "mimetype": "text/x-python",
      "name": "python",
      "nbconvert_exporter": "python",
      "pygments_lexer": "ipython3",
      "version": "3.7.6"
    },
    "colab": {
      "name": "03-06-2020.ipynb",
      "provenance": [],
      "include_colab_link": true
    }
  },
  "cells": [
    {
      "cell_type": "markdown",
      "metadata": {
        "id": "view-in-github",
        "colab_type": "text"
      },
      "source": [
        "<a href=\"https://colab.research.google.com/github/konerulokesh25/ai-ml/blob/master/03_06_2020.ipynb\" target=\"_parent\"><img src=\"https://colab.research.google.com/assets/colab-badge.svg\" alt=\"Open In Colab\"/></a>"
      ]
    },
    {
      "cell_type": "markdown",
      "metadata": {
        "id": "XfVTbML6oNn4",
        "colab_type": "text"
      },
      "source": [
        "### Module:\n",
        "1. Pre-defined modules\n",
        "2. User-defined modules\n"
      ]
    },
    {
      "cell_type": "code",
      "metadata": {
        "id": "ouSCQ6d9oNn6",
        "colab_type": "code",
        "colab": {},
        "outputId": "de5ac4a8-8fbc-4ef7-ea56-24ee0952310e"
      },
      "source": [
        "import string\n",
        "string.digits"
      ],
      "execution_count": null,
      "outputs": [
        {
          "output_type": "execute_result",
          "data": {
            "text/plain": [
              "'0123456789'"
            ]
          },
          "metadata": {
            "tags": []
          },
          "execution_count": 47
        }
      ]
    },
    {
      "cell_type": "code",
      "metadata": {
        "id": "4TsNYyt5oNoA",
        "colab_type": "code",
        "colab": {},
        "outputId": "2d560253-16ba-4b71-b881-0507bf263114"
      },
      "source": [
        "import string as s\n",
        "s.digits"
      ],
      "execution_count": null,
      "outputs": [
        {
          "output_type": "execute_result",
          "data": {
            "text/plain": [
              "'0123456789'"
            ]
          },
          "metadata": {
            "tags": []
          },
          "execution_count": 48
        }
      ]
    },
    {
      "cell_type": "code",
      "metadata": {
        "id": "3mzjNWAMoNoF",
        "colab_type": "code",
        "colab": {},
        "outputId": "c536010c-60ce-47c4-89aa-cbc9853b5ca4"
      },
      "source": [
        "from string import digits,punctuation\n",
        "print(digits)\n",
        "print(punctuation)"
      ],
      "execution_count": null,
      "outputs": [
        {
          "output_type": "stream",
          "text": [
            "0123456789\n",
            "!\"#$%&'()*+,-./:;<=>?@[\\]^_`{|}~\n"
          ],
          "name": "stdout"
        }
      ]
    },
    {
      "cell_type": "code",
      "metadata": {
        "id": "njeA_OnroNoK",
        "colab_type": "code",
        "colab": {}
      },
      "source": [
        "from string import *"
      ],
      "execution_count": null,
      "outputs": []
    },
    {
      "cell_type": "code",
      "metadata": {
        "id": "f6pvUL5xoNoO",
        "colab_type": "code",
        "colab": {}
      },
      "source": [
        "#list1=[1,2,3,4,5]\n",
        "#sum=0\n",
        "#for i in list1:\n",
        "#    sum+=i\n",
        "#print(sum)\n",
        "#print(sum(list1))"
      ],
      "execution_count": null,
      "outputs": []
    },
    {
      "cell_type": "markdown",
      "metadata": {
        "id": "XKeeb058oNoS",
        "colab_type": "text"
      },
      "source": [
        "### User-defined Modules:"
      ]
    },
    {
      "cell_type": "code",
      "metadata": {
        "id": "dz3gPEMyoNoT",
        "colab_type": "code",
        "colab": {},
        "outputId": "586fcaa2-8073-4254-8a10-bd2cf55c667a"
      },
      "source": [
        "import operations\n",
        "print(operations.add(12,23))\n",
        "operations.wish(\"sai\")\n",
        "print(operations.result)"
      ],
      "execution_count": null,
      "outputs": [
        {
          "output_type": "stream",
          "text": [
            "35\n",
            "Good Afternoon  sai\n",
            "True\n"
          ],
          "name": "stdout"
        }
      ]
    },
    {
      "cell_type": "code",
      "metadata": {
        "id": "eJwoucDloNoX",
        "colab_type": "code",
        "colab": {},
        "outputId": "2b1674a6-7eb3-45b9-d02f-b40cc11e7868"
      },
      "source": [
        "import operations as o\n",
        "print(o.add(10,20))\n",
        "o.wish(\"krish\")\n",
        "print(o.result)"
      ],
      "execution_count": null,
      "outputs": [
        {
          "output_type": "stream",
          "text": [
            "30\n",
            "Good Afternoon  krish\n",
            "True\n"
          ],
          "name": "stdout"
        }
      ]
    },
    {
      "cell_type": "code",
      "metadata": {
        "id": "C8ubsPMdoNob",
        "colab_type": "code",
        "colab": {},
        "outputId": "3197da4f-b447-429d-e8b0-865f85e82644"
      },
      "source": [
        "from operations import *\n",
        "print(add(10,54))\n",
        "wish(\"siva\")\n",
        "print(result)"
      ],
      "execution_count": null,
      "outputs": [
        {
          "output_type": "stream",
          "text": [
            "64\n",
            "Good Afternoon  siva\n",
            "True\n"
          ],
          "name": "stdout"
        }
      ]
    },
    {
      "cell_type": "code",
      "metadata": {
        "id": "za7dJ1AvoNof",
        "colab_type": "code",
        "colab": {},
        "outputId": "d785c61b-6657-4f2c-f17b-a58a09fb52ff"
      },
      "source": [
        "help(operations)"
      ],
      "execution_count": null,
      "outputs": [
        {
          "output_type": "stream",
          "text": [
            "Help on module operations:\n",
            "\n",
            "NAME\n",
            "    operations\n",
            "\n",
            "FUNCTIONS\n",
            "    add(x, y)\n",
            "    \n",
            "    wish(name)\n",
            "\n",
            "DATA\n",
            "    result = 'True'\n",
            "\n",
            "FILE\n",
            "    c:\\users\\saivetukuri\\desktop\\dhyanahita(ai-ml) internship\\operations.py\n",
            "\n",
            "\n"
          ],
          "name": "stdout"
        }
      ]
    },
    {
      "cell_type": "markdown",
      "metadata": {
        "id": "zNMLoBxuoNoj",
        "colab_type": "text"
      },
      "source": [
        "### Built-in Libraries:\n",
        "1. math\n",
        "2. statistics"
      ]
    },
    {
      "cell_type": "code",
      "metadata": {
        "id": "Hb8wEm37oNoj",
        "colab_type": "code",
        "colab": {},
        "outputId": "b3869fac-edc0-41ec-c39a-5d95afc4aac9"
      },
      "source": [
        "import math\n",
        "help(math)"
      ],
      "execution_count": null,
      "outputs": [
        {
          "output_type": "stream",
          "text": [
            "Help on built-in module math:\n",
            "\n",
            "NAME\n",
            "    math\n",
            "\n",
            "DESCRIPTION\n",
            "    This module provides access to the mathematical functions\n",
            "    defined by the C standard.\n",
            "\n",
            "FUNCTIONS\n",
            "    acos(x, /)\n",
            "        Return the arc cosine (measured in radians) of x.\n",
            "    \n",
            "    acosh(x, /)\n",
            "        Return the inverse hyperbolic cosine of x.\n",
            "    \n",
            "    asin(x, /)\n",
            "        Return the arc sine (measured in radians) of x.\n",
            "    \n",
            "    asinh(x, /)\n",
            "        Return the inverse hyperbolic sine of x.\n",
            "    \n",
            "    atan(x, /)\n",
            "        Return the arc tangent (measured in radians) of x.\n",
            "    \n",
            "    atan2(y, x, /)\n",
            "        Return the arc tangent (measured in radians) of y/x.\n",
            "        \n",
            "        Unlike atan(y/x), the signs of both x and y are considered.\n",
            "    \n",
            "    atanh(x, /)\n",
            "        Return the inverse hyperbolic tangent of x.\n",
            "    \n",
            "    ceil(x, /)\n",
            "        Return the ceiling of x as an Integral.\n",
            "        \n",
            "        This is the smallest integer >= x.\n",
            "    \n",
            "    copysign(x, y, /)\n",
            "        Return a float with the magnitude (absolute value) of x but the sign of y.\n",
            "        \n",
            "        On platforms that support signed zeros, copysign(1.0, -0.0)\n",
            "        returns -1.0.\n",
            "    \n",
            "    cos(x, /)\n",
            "        Return the cosine of x (measured in radians).\n",
            "    \n",
            "    cosh(x, /)\n",
            "        Return the hyperbolic cosine of x.\n",
            "    \n",
            "    degrees(x, /)\n",
            "        Convert angle x from radians to degrees.\n",
            "    \n",
            "    erf(x, /)\n",
            "        Error function at x.\n",
            "    \n",
            "    erfc(x, /)\n",
            "        Complementary error function at x.\n",
            "    \n",
            "    exp(x, /)\n",
            "        Return e raised to the power of x.\n",
            "    \n",
            "    expm1(x, /)\n",
            "        Return exp(x)-1.\n",
            "        \n",
            "        This function avoids the loss of precision involved in the direct evaluation of exp(x)-1 for small x.\n",
            "    \n",
            "    fabs(x, /)\n",
            "        Return the absolute value of the float x.\n",
            "    \n",
            "    factorial(x, /)\n",
            "        Find x!.\n",
            "        \n",
            "        Raise a ValueError if x is negative or non-integral.\n",
            "    \n",
            "    floor(x, /)\n",
            "        Return the floor of x as an Integral.\n",
            "        \n",
            "        This is the largest integer <= x.\n",
            "    \n",
            "    fmod(x, y, /)\n",
            "        Return fmod(x, y), according to platform C.\n",
            "        \n",
            "        x % y may differ.\n",
            "    \n",
            "    frexp(x, /)\n",
            "        Return the mantissa and exponent of x, as pair (m, e).\n",
            "        \n",
            "        m is a float and e is an int, such that x = m * 2.**e.\n",
            "        If x is 0, m and e are both 0.  Else 0.5 <= abs(m) < 1.0.\n",
            "    \n",
            "    fsum(seq, /)\n",
            "        Return an accurate floating point sum of values in the iterable seq.\n",
            "        \n",
            "        Assumes IEEE-754 floating point arithmetic.\n",
            "    \n",
            "    gamma(x, /)\n",
            "        Gamma function at x.\n",
            "    \n",
            "    gcd(x, y, /)\n",
            "        greatest common divisor of x and y\n",
            "    \n",
            "    hypot(x, y, /)\n",
            "        Return the Euclidean distance, sqrt(x*x + y*y).\n",
            "    \n",
            "    isclose(a, b, *, rel_tol=1e-09, abs_tol=0.0)\n",
            "        Determine whether two floating point numbers are close in value.\n",
            "        \n",
            "          rel_tol\n",
            "            maximum difference for being considered \"close\", relative to the\n",
            "            magnitude of the input values\n",
            "          abs_tol\n",
            "            maximum difference for being considered \"close\", regardless of the\n",
            "            magnitude of the input values\n",
            "        \n",
            "        Return True if a is close in value to b, and False otherwise.\n",
            "        \n",
            "        For the values to be considered close, the difference between them\n",
            "        must be smaller than at least one of the tolerances.\n",
            "        \n",
            "        -inf, inf and NaN behave similarly to the IEEE 754 Standard.  That\n",
            "        is, NaN is not close to anything, even itself.  inf and -inf are\n",
            "        only close to themselves.\n",
            "    \n",
            "    isfinite(x, /)\n",
            "        Return True if x is neither an infinity nor a NaN, and False otherwise.\n",
            "    \n",
            "    isinf(x, /)\n",
            "        Return True if x is a positive or negative infinity, and False otherwise.\n",
            "    \n",
            "    isnan(x, /)\n",
            "        Return True if x is a NaN (not a number), and False otherwise.\n",
            "    \n",
            "    ldexp(x, i, /)\n",
            "        Return x * (2**i).\n",
            "        \n",
            "        This is essentially the inverse of frexp().\n",
            "    \n",
            "    lgamma(x, /)\n",
            "        Natural logarithm of absolute value of Gamma function at x.\n",
            "    \n",
            "    log(...)\n",
            "        log(x, [base=math.e])\n",
            "        Return the logarithm of x to the given base.\n",
            "        \n",
            "        If the base not specified, returns the natural logarithm (base e) of x.\n",
            "    \n",
            "    log10(x, /)\n",
            "        Return the base 10 logarithm of x.\n",
            "    \n",
            "    log1p(x, /)\n",
            "        Return the natural logarithm of 1+x (base e).\n",
            "        \n",
            "        The result is computed in a way which is accurate for x near zero.\n",
            "    \n",
            "    log2(x, /)\n",
            "        Return the base 2 logarithm of x.\n",
            "    \n",
            "    modf(x, /)\n",
            "        Return the fractional and integer parts of x.\n",
            "        \n",
            "        Both results carry the sign of x and are floats.\n",
            "    \n",
            "    pow(x, y, /)\n",
            "        Return x**y (x to the power of y).\n",
            "    \n",
            "    radians(x, /)\n",
            "        Convert angle x from degrees to radians.\n",
            "    \n",
            "    remainder(x, y, /)\n",
            "        Difference between x and the closest integer multiple of y.\n",
            "        \n",
            "        Return x - n*y where n*y is the closest integer multiple of y.\n",
            "        In the case where x is exactly halfway between two multiples of\n",
            "        y, the nearest even value of n is used. The result is always exact.\n",
            "    \n",
            "    sin(x, /)\n",
            "        Return the sine of x (measured in radians).\n",
            "    \n",
            "    sinh(x, /)\n",
            "        Return the hyperbolic sine of x.\n",
            "    \n",
            "    sqrt(x, /)\n",
            "        Return the square root of x.\n",
            "    \n",
            "    tan(x, /)\n",
            "        Return the tangent of x (measured in radians).\n",
            "    \n",
            "    tanh(x, /)\n",
            "        Return the hyperbolic tangent of x.\n",
            "    \n",
            "    trunc(x, /)\n",
            "        Truncates the Real x to the nearest Integral toward 0.\n",
            "        \n",
            "        Uses the __trunc__ magic method.\n",
            "\n",
            "DATA\n",
            "    e = 2.718281828459045\n",
            "    inf = inf\n",
            "    nan = nan\n",
            "    pi = 3.141592653589793\n",
            "    tau = 6.283185307179586\n",
            "\n",
            "FILE\n",
            "    (built-in)\n",
            "\n",
            "\n"
          ],
          "name": "stdout"
        }
      ]
    },
    {
      "cell_type": "code",
      "metadata": {
        "id": "0Me5HLl1oNon",
        "colab_type": "code",
        "colab": {},
        "outputId": "75673b0a-54ba-468b-fa61-e5417be86a18"
      },
      "source": [
        "math.factorial(5)"
      ],
      "execution_count": null,
      "outputs": [
        {
          "output_type": "execute_result",
          "data": {
            "text/plain": [
              "120"
            ]
          },
          "metadata": {
            "tags": []
          },
          "execution_count": 57
        }
      ]
    },
    {
      "cell_type": "code",
      "metadata": {
        "id": "B3ZyA2bhoNos",
        "colab_type": "code",
        "colab": {},
        "outputId": "ea5bdd64-5a49-49a4-981d-dc1bc3dc78fd"
      },
      "source": [
        "#using math module find out Area of the circle\n",
        "def Area(radius):\n",
        "    return (math.pi) * (radius**2) \n",
        "Area(7)"
      ],
      "execution_count": null,
      "outputs": [
        {
          "output_type": "execute_result",
          "data": {
            "text/plain": [
              "153.93804002589985"
            ]
          },
          "metadata": {
            "tags": []
          },
          "execution_count": 58
        }
      ]
    },
    {
      "cell_type": "code",
      "metadata": {
        "id": "Mm-HlAMmoNow",
        "colab_type": "code",
        "colab": {},
        "outputId": "db35c13a-a123-4d9e-c0b1-92f0d18406d0"
      },
      "source": [
        "import statistics as st\n",
        "list1 = list(range(1,21))\n",
        "list1"
      ],
      "execution_count": null,
      "outputs": [
        {
          "output_type": "execute_result",
          "data": {
            "text/plain": [
              "[1, 2, 3, 4, 5, 6, 7, 8, 9, 10, 11, 12, 13, 14, 15, 16, 17, 18, 19, 20]"
            ]
          },
          "metadata": {
            "tags": []
          },
          "execution_count": 59
        }
      ]
    },
    {
      "cell_type": "code",
      "metadata": {
        "id": "dyHgTx9voNoz",
        "colab_type": "code",
        "colab": {},
        "outputId": "229a8846-0265-4520-f4ca-3fc911918b60"
      },
      "source": [
        "print(st.mean(list1))\n",
        "print(sum(list1)/len(list1))"
      ],
      "execution_count": null,
      "outputs": [
        {
          "output_type": "stream",
          "text": [
            "10.5\n",
            "10.5\n"
          ],
          "name": "stdout"
        }
      ]
    },
    {
      "cell_type": "code",
      "metadata": {
        "id": "H4GWTrjOoNo3",
        "colab_type": "code",
        "colab": {},
        "outputId": "30567352-bdf2-40c6-91ca-e06644e82d18"
      },
      "source": [
        "print(st.median(list1))"
      ],
      "execution_count": null,
      "outputs": [
        {
          "output_type": "stream",
          "text": [
            "10.5\n"
          ],
          "name": "stdout"
        }
      ]
    },
    {
      "cell_type": "code",
      "metadata": {
        "id": "g1o9SAY3oNo6",
        "colab_type": "code",
        "colab": {},
        "outputId": "0bbb15d3-9482-4e48-ac64-dd86c4fcc117"
      },
      "source": [
        "list2=[1,2,3,4,3,3,4,2,2,2]\n",
        "print(st.mode(list2))"
      ],
      "execution_count": null,
      "outputs": [
        {
          "output_type": "stream",
          "text": [
            "2\n"
          ],
          "name": "stdout"
        }
      ]
    },
    {
      "cell_type": "code",
      "metadata": {
        "id": "y1AEfYH8oNo-",
        "colab_type": "code",
        "colab": {},
        "outputId": "98580580-46ac-4394-f8d1-3475edc93a44"
      },
      "source": [
        "st.stdev(list2)"
      ],
      "execution_count": null,
      "outputs": [
        {
          "output_type": "execute_result",
          "data": {
            "text/plain": [
              "0.9660917830792959"
            ]
          },
          "metadata": {
            "tags": []
          },
          "execution_count": 63
        }
      ]
    },
    {
      "cell_type": "code",
      "metadata": {
        "id": "jgTDzUsSoNpC",
        "colab_type": "code",
        "colab": {},
        "outputId": "747b015a-6f8e-485e-c399-89dc2d361a8f"
      },
      "source": [
        "st.variance(list2)"
      ],
      "execution_count": null,
      "outputs": [
        {
          "output_type": "execute_result",
          "data": {
            "text/plain": [
              "0.9333333333333333"
            ]
          },
          "metadata": {
            "tags": []
          },
          "execution_count": 64
        }
      ]
    },
    {
      "cell_type": "markdown",
      "metadata": {
        "id": "cGcX9YksoNpH",
        "colab_type": "text"
      },
      "source": [
        "### random\n",
        "1. randint()\n",
        "2. randrange()\n",
        "3. random()\n",
        "4. choice()\n",
        "5. choices()"
      ]
    },
    {
      "cell_type": "code",
      "metadata": {
        "id": "LME5h2_PoNpI",
        "colab_type": "code",
        "colab": {},
        "outputId": "96047283-34a1-420b-d66b-cc0347da9071"
      },
      "source": [
        "from random import *\n",
        "from string import *\n",
        "print(randint(1,10))\n",
        "print(randrange(1,10))\n",
        "print(random())"
      ],
      "execution_count": null,
      "outputs": [
        {
          "output_type": "stream",
          "text": [
            "8\n",
            "8\n",
            "0.8181113494983904\n"
          ],
          "name": "stdout"
        }
      ]
    },
    {
      "cell_type": "code",
      "metadata": {
        "id": "p5i_bL0xoNpL",
        "colab_type": "code",
        "colab": {},
        "outputId": "ec4088a2-e47b-4677-8d25-c40a1fe2aa2d"
      },
      "source": [
        "list1=[1,2,3,4,5,6,7,8]\n",
        "print(choice(list1))"
      ],
      "execution_count": null,
      "outputs": [
        {
          "output_type": "stream",
          "text": [
            "5\n"
          ],
          "name": "stdout"
        }
      ]
    },
    {
      "cell_type": "code",
      "metadata": {
        "id": "ua7519odoNpO",
        "colab_type": "code",
        "colab": {},
        "outputId": "37b3774b-d16a-4a06-9376-fdbe354fe73f"
      },
      "source": [
        "print(choices(list1,k=3))"
      ],
      "execution_count": null,
      "outputs": [
        {
          "output_type": "stream",
          "text": [
            "[2, 6, 4]\n"
          ],
          "name": "stdout"
        }
      ]
    },
    {
      "cell_type": "markdown",
      "metadata": {
        "id": "PJrJu-i3oNpS",
        "colab_type": "text"
      },
      "source": [
        "### os:\n",
        "1. rename() --> Renaming\n",
        "2. remove() --> Removing\n",
        "3. mkdir() --> Make a directory\n",
        "4. getcwd() --> get current working directory\n",
        "5. listdir() --> gives you list of things\n",
        "6. chdir() --> change directory\n",
        "7. rmdir() --> Removing the directory"
      ]
    },
    {
      "cell_type": "code",
      "metadata": {
        "id": "IhOtj2-koNpS",
        "colab_type": "code",
        "colab": {}
      },
      "source": [
        "import os\n",
        "os.mkdir(\"sample\")"
      ],
      "execution_count": null,
      "outputs": []
    },
    {
      "cell_type": "code",
      "metadata": {
        "id": "_5qDkMb4oNpV",
        "colab_type": "code",
        "colab": {},
        "outputId": "0252e7aa-7e2b-491d-c07d-f8a27e5d2a63"
      },
      "source": [
        "os.getcwd()"
      ],
      "execution_count": null,
      "outputs": [
        {
          "output_type": "execute_result",
          "data": {
            "text/plain": [
              "'C:\\\\Users\\\\saivetukuri\\\\Desktop\\\\Dhyanahita(AI-ML) Internship'"
            ]
          },
          "metadata": {
            "tags": []
          },
          "execution_count": 69
        }
      ]
    },
    {
      "cell_type": "code",
      "metadata": {
        "id": "im_h0_AboNpY",
        "colab_type": "code",
        "colab": {},
        "outputId": "7dcc4d26-faa7-4b18-b5c6-aa36d650f591"
      },
      "source": [
        "os.listdir()"
      ],
      "execution_count": null,
      "outputs": [
        {
          "output_type": "execute_result",
          "data": {
            "text/plain": [
              "['.ipynb_checkpoints',\n",
              " '01-06-2020.ipynb',\n",
              " '02-06-2020.ipynb',\n",
              " '03-06-2020.ipynb',\n",
              " '27-05-2020.ipynb',\n",
              " '28-05-2020.ipynb',\n",
              " '29-05-2020.ipynb',\n",
              " '30-05-2020.ipynb',\n",
              " 'Assignment 1',\n",
              " 'operations.py',\n",
              " 'sample',\n",
              " 'sample.txt',\n",
              " '__pycache__']"
            ]
          },
          "metadata": {
            "tags": []
          },
          "execution_count": 70
        }
      ]
    },
    {
      "cell_type": "code",
      "metadata": {
        "id": "DWiwQKh2oNpc",
        "colab_type": "code",
        "colab": {}
      },
      "source": [
        "os.chdir('C:\\\\Users\\\\saivetukuri\\\\Desktop\\\\Dhyanahita(AI-ML) Internship\\\\sample')\n",
        "os.chdir('C:\\\\Users\\\\saivetukuri\\\\Desktop\\\\Dhyanahita(AI-ML) Internship')"
      ],
      "execution_count": null,
      "outputs": []
    },
    {
      "cell_type": "code",
      "metadata": {
        "id": "Aa3Q66GLoNpf",
        "colab_type": "code",
        "colab": {},
        "outputId": "b1869eb1-bdbb-4668-f9cc-c273b525bc4d"
      },
      "source": [
        "os.getcwd()"
      ],
      "execution_count": null,
      "outputs": [
        {
          "output_type": "execute_result",
          "data": {
            "text/plain": [
              "'C:\\\\Users\\\\saivetukuri\\\\Desktop\\\\Dhyanahita(AI-ML) Internship'"
            ]
          },
          "metadata": {
            "tags": []
          },
          "execution_count": 72
        }
      ]
    },
    {
      "cell_type": "code",
      "metadata": {
        "id": "mX0TPHU7oNpj",
        "colab_type": "code",
        "colab": {}
      },
      "source": [
        "os.rmdir('sample')"
      ],
      "execution_count": null,
      "outputs": []
    },
    {
      "cell_type": "markdown",
      "metadata": {
        "id": "gQCZHRnIoNpn",
        "colab_type": "text"
      },
      "source": [
        "### Numpy Package:\n",
        "1. operations related Numerics\n",
        "2. Computational operation"
      ]
    },
    {
      "cell_type": "code",
      "metadata": {
        "id": "1aG5E9ULoNpn",
        "colab_type": "code",
        "colab": {},
        "outputId": "68c83713-7970-41a5-b833-cb911b5e2051"
      },
      "source": [
        "import numpy as np\n",
        "list1=[1,2,3,4,5]\n",
        "arr1 = np.array(list1)\n",
        "type(arr1)"
      ],
      "execution_count": null,
      "outputs": [
        {
          "output_type": "execute_result",
          "data": {
            "text/plain": [
              "numpy.ndarray"
            ]
          },
          "metadata": {
            "tags": []
          },
          "execution_count": 74
        }
      ]
    },
    {
      "cell_type": "code",
      "metadata": {
        "id": "_LL0E167oNpr",
        "colab_type": "code",
        "colab": {},
        "outputId": "2f5a0cb3-8568-4f53-e590-8faaf8580579"
      },
      "source": [
        "list2 = list(range(1,11))\n",
        "list2"
      ],
      "execution_count": null,
      "outputs": [
        {
          "output_type": "execute_result",
          "data": {
            "text/plain": [
              "[1, 2, 3, 4, 5, 6, 7, 8, 9, 10]"
            ]
          },
          "metadata": {
            "tags": []
          },
          "execution_count": 75
        }
      ]
    },
    {
      "cell_type": "code",
      "metadata": {
        "id": "_fzQRjf7oNpu",
        "colab_type": "code",
        "colab": {},
        "outputId": "46ddc4f1-0814-48bf-de1b-8d709767e1eb"
      },
      "source": [
        "arr2 = np.arange(1,11)\n",
        "arr2"
      ],
      "execution_count": null,
      "outputs": [
        {
          "output_type": "execute_result",
          "data": {
            "text/plain": [
              "array([ 1,  2,  3,  4,  5,  6,  7,  8,  9, 10])"
            ]
          },
          "metadata": {
            "tags": []
          },
          "execution_count": 76
        }
      ]
    },
    {
      "cell_type": "markdown",
      "metadata": {
        "id": "tYO-2Gw8oNpy",
        "colab_type": "text"
      },
      "source": [
        "### Difference between Python list and Numpy Array\n",
        "1. less memory\n",
        "2. Fast\n",
        "3. Convenient"
      ]
    },
    {
      "cell_type": "code",
      "metadata": {
        "id": "eIXaMrl3oNpz",
        "colab_type": "code",
        "colab": {},
        "outputId": "d6cb3262-f55a-47a4-8220-f335772fa039"
      },
      "source": [
        "#Less memory\n",
        "import sys\n",
        "size=1000\n",
        "list1 = list(range(size))\n",
        "print(sys.getsizeof(list1[0])*size)\n",
        "arr1 = np.arange(1000)\n",
        "print(arr1.itemsize * arr1.size)"
      ],
      "execution_count": null,
      "outputs": [
        {
          "output_type": "stream",
          "text": [
            "24000\n",
            "4000\n"
          ],
          "name": "stdout"
        }
      ]
    },
    {
      "cell_type": "code",
      "metadata": {
        "id": "T1IlvQaHoNp2",
        "colab_type": "code",
        "colab": {},
        "outputId": "2675779f-1f2f-411e-e710-88a34b0a1577"
      },
      "source": [
        "import time\n",
        "size=20000\n",
        "list1 = list(range(size))\n",
        "list2 = list(range(size))\n",
        "start=time.time()\n",
        "result = [x+y for x,y in zip(list1,list2)]\n",
        "print(\"Time took for python list: \",time.time()-start)\n",
        "#print(result)\n",
        "\n",
        "arr1 = np.arange(size)\n",
        "arr2 = np.arange(size)\n",
        "start=time.time()\n",
        "result = arr1 + arr2\n",
        "print(\"Time took for python numpy array: \",time.time()-start)\n",
        "#print(result)"
      ],
      "execution_count": null,
      "outputs": [
        {
          "output_type": "stream",
          "text": [
            "Time took for python list:  0.001997232437133789\n",
            "Time took for python numpy array:  0.0\n"
          ],
          "name": "stdout"
        }
      ]
    },
    {
      "cell_type": "code",
      "metadata": {
        "id": "dfWUMcYmoNp5",
        "colab_type": "code",
        "colab": {},
        "outputId": "39a10263-bbed-418f-f368-c2aee3bccb88"
      },
      "source": [
        "l1=[1,2,3,4,5]\n",
        "l2=[10,11,12,13,14]\n",
        "result= [x+y for x,y in zip(l1,l2)]\n",
        "result"
      ],
      "execution_count": null,
      "outputs": [
        {
          "output_type": "execute_result",
          "data": {
            "text/plain": [
              "[11, 13, 15, 17, 19]"
            ]
          },
          "metadata": {
            "tags": []
          },
          "execution_count": 79
        }
      ]
    },
    {
      "cell_type": "code",
      "metadata": {
        "id": "8s4NNMoeoNp8",
        "colab_type": "code",
        "colab": {}
      },
      "source": [
        ""
      ],
      "execution_count": null,
      "outputs": []
    },
    {
      "cell_type": "code",
      "metadata": {
        "id": "9JJEsKecoNp-",
        "colab_type": "code",
        "colab": {}
      },
      "source": [
        ""
      ],
      "execution_count": null,
      "outputs": []
    }
  ]
}