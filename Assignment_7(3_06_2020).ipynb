{
  "nbformat": 4,
  "nbformat_minor": 0,
  "metadata": {
    "colab": {
      "name": "Assignment 7(3-06-2020).ipynb",
      "provenance": [],
      "authorship_tag": "ABX9TyP6wQFz/1Hvb4cBtrhy9r1g",
      "include_colab_link": true
    },
    "kernelspec": {
      "name": "python3",
      "display_name": "Python 3"
    }
  },
  "cells": [
    {
      "cell_type": "markdown",
      "metadata": {
        "id": "view-in-github",
        "colab_type": "text"
      },
      "source": [
        "<a href=\"https://colab.research.google.com/github/konerulokesh25/ai-ml/blob/master/Assignment_7(3_06_2020).ipynb\" target=\"_parent\"><img src=\"https://colab.research.google.com/assets/colab-badge.svg\" alt=\"Open In Colab\"/></a>"
      ]
    },
    {
      "cell_type": "code",
      "metadata": {
        "id": "LGpl4TGh4CBS",
        "colab_type": "code",
        "colab": {
          "base_uri": "https://localhost:8080/",
          "height": 34
        },
        "outputId": "8a1b6fe7-6e46-426e-f98f-9bc4439b9092"
      },
      "source": [
        "#1. Copy the contents of a text file into another, printing the reversed version of each input line\n",
        "f = open(\"file1.txt\", \"w\")\n",
        "f.write(\"Hello everyone. The internship course is AI/ML\")\n",
        "f.close()\n",
        "\n",
        "f = open(\"file1.txt\",\"r\")\n",
        "data = f.read()\n",
        "print(data)\n",
        "f.close()\n",
        "\n",
        "f = open(\"file2.txt\",\"w\")\n",
        "f.write(data[::-1])\n",
        "f.close()"
      ],
      "execution_count": 2,
      "outputs": [
        {
          "output_type": "stream",
          "text": [
            "Hello everyone. The internship course is AI/ML\n"
          ],
          "name": "stdout"
        }
      ]
    },
    {
      "cell_type": "code",
      "metadata": {
        "id": "h49uKaQd4UP6",
        "colab_type": "code",
        "colab": {
          "base_uri": "https://localhost:8080/",
          "height": 34
        },
        "outputId": "30552f1f-8c89-4c51-8258-28cd11629ba5"
      },
      "source": [
        "f=open(\"file2.txt\",\"r\")\n",
        "data1=f.read()\n",
        "print(data1)\n",
        "f.close()"
      ],
      "execution_count": 3,
      "outputs": [
        {
          "output_type": "stream",
          "text": [
            "LM/IA si esruoc pihsnretni ehT .enoyreve olleH\n"
          ],
          "name": "stdout"
        }
      ]
    },
    {
      "cell_type": "code",
      "metadata": {
        "id": "A3uTl81E4hhV",
        "colab_type": "code",
        "colab": {
          "base_uri": "https://localhost:8080/",
          "height": 136
        },
        "outputId": "471921eb-a1fa-494b-d3c7-8dc21cbd4acb"
      },
      "source": [
        "#2. Print the contents of a file line by line putting a line number for each line.\n",
        "L = [\"Data Science\\n\", \"Advanced Programming\\n\", \"AI and ML\\n\",\"Full Stack Web Development\\n\",\"Python Programming\\n\",\"Summer Internship\\n\"]\n",
        "\n",
        "f1 = open(\"myfile.txt\", \"w\") \n",
        "f1.writelines(L) \n",
        "f1.close()\n",
        "\n",
        "f1 = open(\"myfile.txt\", \"r\") \n",
        "count = 0\n",
        "\n",
        "print(\"Contents of file in order:\") \n",
        "for line in f1: \n",
        "    count += 1\n",
        "    print(\"{}. {}\".format(count, line.strip()))\n",
        "    \n",
        "f1.close()"
      ],
      "execution_count": 4,
      "outputs": [
        {
          "output_type": "stream",
          "text": [
            "Contents of file in order:\n",
            "1. Data Science\n",
            "2. Advanced Programming\n",
            "3. AI and ML\n",
            "4. Full Stack Web Development\n",
            "5. Python Programming\n",
            "6. Summer Internship\n"
          ],
          "name": "stdout"
        }
      ]
    },
    {
      "cell_type": "code",
      "metadata": {
        "id": "NqMhTKja4p3g",
        "colab_type": "code",
        "colab": {
          "base_uri": "https://localhost:8080/",
          "height": 34
        },
        "outputId": "0246fbb8-0f2d-40ff-f0df-ab35c12d7d54"
      },
      "source": [
        "#3. Avoiding Duplicates\n",
        "def Duplicates(listOfElems):\n",
        "    if len(list1) == len(set(list1)):\n",
        "        return False\n",
        "    else:\n",
        "        return True\n",
        "list1=[1,2,3,4,2]    \n",
        "result=Duplicates(list1)\n",
        "print(result)"
      ],
      "execution_count": 5,
      "outputs": [
        {
          "output_type": "stream",
          "text": [
            "True\n"
          ],
          "name": "stdout"
        }
      ]
    },
    {
      "cell_type": "code",
      "metadata": {
        "id": "UzYBfH414vzj",
        "colab_type": "code",
        "colab": {
          "base_uri": "https://localhost:8080/",
          "height": 34
        },
        "outputId": "037d451b-909c-4cf3-9a87-0f51632a0e10"
      },
      "source": [
        "#5. A permutation of a list is another list with the same elements\n",
        "l1=[1,2,1]\n",
        "l2=[2,1,1]\n",
        "def permutation(l1,l2):\n",
        "    if l1.sort()==l2.sort():\n",
        "        return True\n",
        "    else:\n",
        "        return False\n",
        "r=permutation(l1,l2)\n",
        "r"
      ],
      "execution_count": 6,
      "outputs": [
        {
          "output_type": "execute_result",
          "data": {
            "text/plain": [
              "True"
            ]
          },
          "metadata": {
            "tags": []
          },
          "execution_count": 6
        }
      ]
    },
    {
      "cell_type": "code",
      "metadata": {
        "id": "zGnjYJ1n5Rj7",
        "colab_type": "code",
        "colab": {}
      },
      "source": [
        "#4. \n",
        "import fraction as fr\n",
        "print(fr.add_fraction(2/3,4/6))\n",
        "print(fr.mul_fraction(2/3,4/6))\n",
        "\n",
        "print(fr.sub_fraction(2/3,1/2))"
      ],
      "execution_count": 0,
      "outputs": []
    }
  ]
}