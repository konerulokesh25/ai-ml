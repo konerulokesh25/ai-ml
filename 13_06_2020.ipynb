{
  "nbformat": 4,
  "nbformat_minor": 0,
  "metadata": {
    "kernelspec": {
      "display_name": "Python 3",
      "language": "python",
      "name": "python3"
    },
    "language_info": {
      "codemirror_mode": {
        "name": "ipython",
        "version": 3
      },
      "file_extension": ".py",
      "mimetype": "text/x-python",
      "name": "python",
      "nbconvert_exporter": "python",
      "pygments_lexer": "ipython3",
      "version": "3.7.6"
    },
    "colab": {
      "name": "13-06-2020.ipynb",
      "provenance": [],
      "include_colab_link": true
    }
  },
  "cells": [
    {
      "cell_type": "markdown",
      "metadata": {
        "id": "view-in-github",
        "colab_type": "text"
      },
      "source": [
        "<a href=\"https://colab.research.google.com/github/konerulokesh25/ai-ml/blob/master/13_06_2020.ipynb\" target=\"_parent\"><img src=\"https://colab.research.google.com/assets/colab-badge.svg\" alt=\"Open In Colab\"/></a>"
      ]
    },
    {
      "cell_type": "markdown",
      "metadata": {
        "id": "RdJt-r75r8Qa",
        "colab_type": "text"
      },
      "source": [
        "Question 11:\n",
        "Input:\n",
        "user_id = [1,1,2,3,3,4,4,4,5,5]\n",
        "ancestry=[\"England\",\"Ireland\",\"France\",\"Germany\",\"Poland\",\"England\",\"France\",\"Germany\",\"France\",\"Germany\"]\n",
        "\n",
        "If my required countries are France and Germany\n",
        "required = ['France', 'Germany']\n",
        "\n",
        "Output:\n",
        "4\n",
        "5\n"
      ]
    },
    {
      "cell_type": "code",
      "metadata": {
        "id": "RMQIISRKr8Qd",
        "colab_type": "code",
        "colab": {},
        "outputId": "4a7d1d9f-a835-4913-91aa-51274cf1315a"
      },
      "source": [
        "user_id=[1,1,2,3,3,4,4,4,5,5]\n",
        "user=list(set(user_id))\n",
        "ancestry=[\"England\",\"Ireland\",\"France\",\"Germany\",\"Poland\",\"England\",\"France\",\"Germany\",\"France\",\"Germany\"]\n",
        "r={}\n",
        "for i in range(0,len(user_id)):\n",
        "    if(user_id[i] not in r.keys()):\n",
        "        r[user_id[i]]=[]\n",
        "        r[user_id[i]].append(ancestry[i])\n",
        "    else:\n",
        "        r[user_id[i]].append(ancestry[i])\n",
        "required=['France', 'Germany']\n",
        "print(r)\n",
        "for i in range(0,len(user)):\n",
        "    if(set(required).issubset(set(r[user[i]]))):\n",
        "        print(user[i])\n",
        "        \n",
        "        \n",
        "    \n",
        "    \n",
        "    "
      ],
      "execution_count": null,
      "outputs": [
        {
          "output_type": "stream",
          "text": [
            "{1: ['England', 'Ireland'], 2: ['France'], 3: ['Germany', 'Poland'], 4: ['England', 'France', 'Germany'], 5: ['France', 'Germany']}\n",
            "4\n",
            "5\n"
          ],
          "name": "stdout"
        }
      ]
    },
    {
      "cell_type": "code",
      "metadata": {
        "id": "iuwYI7rir8Qm",
        "colab_type": "code",
        "colab": {}
      },
      "source": [
        ""
      ],
      "execution_count": null,
      "outputs": []
    }
  ]
}