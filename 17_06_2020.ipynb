{
  "nbformat": 4,
  "nbformat_minor": 0,
  "metadata": {
    "kernelspec": {
      "display_name": "Python 3",
      "language": "python",
      "name": "python3"
    },
    "language_info": {
      "codemirror_mode": {
        "name": "ipython",
        "version": 3
      },
      "file_extension": ".py",
      "mimetype": "text/x-python",
      "name": "python",
      "nbconvert_exporter": "python",
      "pygments_lexer": "ipython3",
      "version": "3.7.6"
    },
    "colab": {
      "name": "17-06-2020.ipynb",
      "provenance": [],
      "include_colab_link": true
    }
  },
  "cells": [
    {
      "cell_type": "markdown",
      "metadata": {
        "id": "view-in-github",
        "colab_type": "text"
      },
      "source": [
        "<a href=\"https://colab.research.google.com/github/konerulokesh25/ai-ml/blob/master/17_06_2020.ipynb\" target=\"_parent\"><img src=\"https://colab.research.google.com/assets/colab-badge.svg\" alt=\"Open In Colab\"/></a>"
      ]
    },
    {
      "cell_type": "code",
      "metadata": {
        "id": "61QQQWYTs-Ap",
        "colab_type": "code",
        "colab": {}
      },
      "source": [
        "import pandas as pd\n",
        "import numpy as np\n",
        "import sklearn"
      ],
      "execution_count": null,
      "outputs": []
    },
    {
      "cell_type": "code",
      "metadata": {
        "id": "Lp9VcI_6s-Av",
        "colab_type": "code",
        "colab": {},
        "outputId": "3dc72b7c-8567-42ac-f95b-1c79ecf0afe4"
      },
      "source": [
        "data=pd.read_csv(\"https://raw.githubusercontent.com/Mounika-Kajjam/Datasets/master/homeprices.csv\")\n",
        "data"
      ],
      "execution_count": null,
      "outputs": [
        {
          "output_type": "execute_result",
          "data": {
            "text/html": [
              "<div>\n",
              "<style scoped>\n",
              "    .dataframe tbody tr th:only-of-type {\n",
              "        vertical-align: middle;\n",
              "    }\n",
              "\n",
              "    .dataframe tbody tr th {\n",
              "        vertical-align: top;\n",
              "    }\n",
              "\n",
              "    .dataframe thead th {\n",
              "        text-align: right;\n",
              "    }\n",
              "</style>\n",
              "<table border=\"1\" class=\"dataframe\">\n",
              "  <thead>\n",
              "    <tr style=\"text-align: right;\">\n",
              "      <th></th>\n",
              "      <th>town</th>\n",
              "      <th>area</th>\n",
              "      <th>price</th>\n",
              "    </tr>\n",
              "  </thead>\n",
              "  <tbody>\n",
              "    <tr>\n",
              "      <th>0</th>\n",
              "      <td>monroe township</td>\n",
              "      <td>2600</td>\n",
              "      <td>550000</td>\n",
              "    </tr>\n",
              "    <tr>\n",
              "      <th>1</th>\n",
              "      <td>monroe township</td>\n",
              "      <td>3000</td>\n",
              "      <td>565000</td>\n",
              "    </tr>\n",
              "    <tr>\n",
              "      <th>2</th>\n",
              "      <td>monroe township</td>\n",
              "      <td>3200</td>\n",
              "      <td>610000</td>\n",
              "    </tr>\n",
              "    <tr>\n",
              "      <th>3</th>\n",
              "      <td>monroe township</td>\n",
              "      <td>3600</td>\n",
              "      <td>680000</td>\n",
              "    </tr>\n",
              "    <tr>\n",
              "      <th>4</th>\n",
              "      <td>monroe township</td>\n",
              "      <td>4000</td>\n",
              "      <td>725000</td>\n",
              "    </tr>\n",
              "    <tr>\n",
              "      <th>5</th>\n",
              "      <td>west windsor</td>\n",
              "      <td>2600</td>\n",
              "      <td>585000</td>\n",
              "    </tr>\n",
              "    <tr>\n",
              "      <th>6</th>\n",
              "      <td>west windsor</td>\n",
              "      <td>2800</td>\n",
              "      <td>615000</td>\n",
              "    </tr>\n",
              "    <tr>\n",
              "      <th>7</th>\n",
              "      <td>west windsor</td>\n",
              "      <td>3300</td>\n",
              "      <td>650000</td>\n",
              "    </tr>\n",
              "    <tr>\n",
              "      <th>8</th>\n",
              "      <td>west windsor</td>\n",
              "      <td>3600</td>\n",
              "      <td>710000</td>\n",
              "    </tr>\n",
              "    <tr>\n",
              "      <th>9</th>\n",
              "      <td>robinsville</td>\n",
              "      <td>2600</td>\n",
              "      <td>575000</td>\n",
              "    </tr>\n",
              "    <tr>\n",
              "      <th>10</th>\n",
              "      <td>robinsville</td>\n",
              "      <td>2900</td>\n",
              "      <td>600000</td>\n",
              "    </tr>\n",
              "    <tr>\n",
              "      <th>11</th>\n",
              "      <td>robinsville</td>\n",
              "      <td>3100</td>\n",
              "      <td>620000</td>\n",
              "    </tr>\n",
              "    <tr>\n",
              "      <th>12</th>\n",
              "      <td>robinsville</td>\n",
              "      <td>3600</td>\n",
              "      <td>695000</td>\n",
              "    </tr>\n",
              "  </tbody>\n",
              "</table>\n",
              "</div>"
            ],
            "text/plain": [
              "               town  area   price\n",
              "0   monroe township  2600  550000\n",
              "1   monroe township  3000  565000\n",
              "2   monroe township  3200  610000\n",
              "3   monroe township  3600  680000\n",
              "4   monroe township  4000  725000\n",
              "5      west windsor  2600  585000\n",
              "6      west windsor  2800  615000\n",
              "7      west windsor  3300  650000\n",
              "8      west windsor  3600  710000\n",
              "9       robinsville  2600  575000\n",
              "10      robinsville  2900  600000\n",
              "11      robinsville  3100  620000\n",
              "12      robinsville  3600  695000"
            ]
          },
          "metadata": {
            "tags": []
          },
          "execution_count": 2
        }
      ]
    },
    {
      "cell_type": "markdown",
      "metadata": {
        "id": "2CMB3VMgs-A0",
        "colab_type": "text"
      },
      "source": [
        "### Dummy Variables using Scikit-Learn Library"
      ]
    },
    {
      "cell_type": "markdown",
      "metadata": {
        "id": "1J8J6PtYs-A1",
        "colab_type": "text"
      },
      "source": [
        "- LabelEncoder -->we are creating dummy variables\n",
        "                -->class present in sklearn library\n",
        "                -->created and object for the LabelEncoder class\n",
        "                --> To apply the object to the dataset(town),we use fit_transform method\n",
        "                syntax: object_name.fit_transform(datasetName.columnName)\n",
        "- OneHotEncoder"
      ]
    },
    {
      "cell_type": "code",
      "metadata": {
        "id": "r_zcYNXVs-A2",
        "colab_type": "code",
        "colab": {}
      },
      "source": [
        "from sklearn.preprocessing import LabelEncoder\n",
        "le = LabelEncoder()"
      ],
      "execution_count": null,
      "outputs": []
    },
    {
      "cell_type": "code",
      "metadata": {
        "id": "QnAkZ_OJs-A6",
        "colab_type": "code",
        "colab": {},
        "outputId": "5c5eb3a7-0aff-43aa-a4c6-ab75ae8893f9"
      },
      "source": [
        "# Creating the copy of  original data\n",
        "price_data = data.copy()\n",
        "price_data\n"
      ],
      "execution_count": null,
      "outputs": [
        {
          "output_type": "execute_result",
          "data": {
            "text/html": [
              "<div>\n",
              "<style scoped>\n",
              "    .dataframe tbody tr th:only-of-type {\n",
              "        vertical-align: middle;\n",
              "    }\n",
              "\n",
              "    .dataframe tbody tr th {\n",
              "        vertical-align: top;\n",
              "    }\n",
              "\n",
              "    .dataframe thead th {\n",
              "        text-align: right;\n",
              "    }\n",
              "</style>\n",
              "<table border=\"1\" class=\"dataframe\">\n",
              "  <thead>\n",
              "    <tr style=\"text-align: right;\">\n",
              "      <th></th>\n",
              "      <th>town</th>\n",
              "      <th>area</th>\n",
              "      <th>price</th>\n",
              "    </tr>\n",
              "  </thead>\n",
              "  <tbody>\n",
              "    <tr>\n",
              "      <th>0</th>\n",
              "      <td>monroe township</td>\n",
              "      <td>2600</td>\n",
              "      <td>550000</td>\n",
              "    </tr>\n",
              "    <tr>\n",
              "      <th>1</th>\n",
              "      <td>monroe township</td>\n",
              "      <td>3000</td>\n",
              "      <td>565000</td>\n",
              "    </tr>\n",
              "    <tr>\n",
              "      <th>2</th>\n",
              "      <td>monroe township</td>\n",
              "      <td>3200</td>\n",
              "      <td>610000</td>\n",
              "    </tr>\n",
              "    <tr>\n",
              "      <th>3</th>\n",
              "      <td>monroe township</td>\n",
              "      <td>3600</td>\n",
              "      <td>680000</td>\n",
              "    </tr>\n",
              "    <tr>\n",
              "      <th>4</th>\n",
              "      <td>monroe township</td>\n",
              "      <td>4000</td>\n",
              "      <td>725000</td>\n",
              "    </tr>\n",
              "    <tr>\n",
              "      <th>5</th>\n",
              "      <td>west windsor</td>\n",
              "      <td>2600</td>\n",
              "      <td>585000</td>\n",
              "    </tr>\n",
              "    <tr>\n",
              "      <th>6</th>\n",
              "      <td>west windsor</td>\n",
              "      <td>2800</td>\n",
              "      <td>615000</td>\n",
              "    </tr>\n",
              "    <tr>\n",
              "      <th>7</th>\n",
              "      <td>west windsor</td>\n",
              "      <td>3300</td>\n",
              "      <td>650000</td>\n",
              "    </tr>\n",
              "    <tr>\n",
              "      <th>8</th>\n",
              "      <td>west windsor</td>\n",
              "      <td>3600</td>\n",
              "      <td>710000</td>\n",
              "    </tr>\n",
              "    <tr>\n",
              "      <th>9</th>\n",
              "      <td>robinsville</td>\n",
              "      <td>2600</td>\n",
              "      <td>575000</td>\n",
              "    </tr>\n",
              "    <tr>\n",
              "      <th>10</th>\n",
              "      <td>robinsville</td>\n",
              "      <td>2900</td>\n",
              "      <td>600000</td>\n",
              "    </tr>\n",
              "    <tr>\n",
              "      <th>11</th>\n",
              "      <td>robinsville</td>\n",
              "      <td>3100</td>\n",
              "      <td>620000</td>\n",
              "    </tr>\n",
              "    <tr>\n",
              "      <th>12</th>\n",
              "      <td>robinsville</td>\n",
              "      <td>3600</td>\n",
              "      <td>695000</td>\n",
              "    </tr>\n",
              "  </tbody>\n",
              "</table>\n",
              "</div>"
            ],
            "text/plain": [
              "               town  area   price\n",
              "0   monroe township  2600  550000\n",
              "1   monroe township  3000  565000\n",
              "2   monroe township  3200  610000\n",
              "3   monroe township  3600  680000\n",
              "4   monroe township  4000  725000\n",
              "5      west windsor  2600  585000\n",
              "6      west windsor  2800  615000\n",
              "7      west windsor  3300  650000\n",
              "8      west windsor  3600  710000\n",
              "9       robinsville  2600  575000\n",
              "10      robinsville  2900  600000\n",
              "11      robinsville  3100  620000\n",
              "12      robinsville  3600  695000"
            ]
          },
          "metadata": {
            "tags": []
          },
          "execution_count": 4
        }
      ]
    },
    {
      "cell_type": "code",
      "metadata": {
        "id": "T9Vsx0EUs-A-",
        "colab_type": "code",
        "colab": {},
        "outputId": "c4a9404a-1b84-42bc-9f20-6fe77bd06976"
      },
      "source": [
        "price_data.town=le.fit_transform(data.town)\n",
        "price_data"
      ],
      "execution_count": null,
      "outputs": [
        {
          "output_type": "execute_result",
          "data": {
            "text/html": [
              "<div>\n",
              "<style scoped>\n",
              "    .dataframe tbody tr th:only-of-type {\n",
              "        vertical-align: middle;\n",
              "    }\n",
              "\n",
              "    .dataframe tbody tr th {\n",
              "        vertical-align: top;\n",
              "    }\n",
              "\n",
              "    .dataframe thead th {\n",
              "        text-align: right;\n",
              "    }\n",
              "</style>\n",
              "<table border=\"1\" class=\"dataframe\">\n",
              "  <thead>\n",
              "    <tr style=\"text-align: right;\">\n",
              "      <th></th>\n",
              "      <th>town</th>\n",
              "      <th>area</th>\n",
              "      <th>price</th>\n",
              "    </tr>\n",
              "  </thead>\n",
              "  <tbody>\n",
              "    <tr>\n",
              "      <th>0</th>\n",
              "      <td>0</td>\n",
              "      <td>2600</td>\n",
              "      <td>550000</td>\n",
              "    </tr>\n",
              "    <tr>\n",
              "      <th>1</th>\n",
              "      <td>0</td>\n",
              "      <td>3000</td>\n",
              "      <td>565000</td>\n",
              "    </tr>\n",
              "    <tr>\n",
              "      <th>2</th>\n",
              "      <td>0</td>\n",
              "      <td>3200</td>\n",
              "      <td>610000</td>\n",
              "    </tr>\n",
              "    <tr>\n",
              "      <th>3</th>\n",
              "      <td>0</td>\n",
              "      <td>3600</td>\n",
              "      <td>680000</td>\n",
              "    </tr>\n",
              "    <tr>\n",
              "      <th>4</th>\n",
              "      <td>0</td>\n",
              "      <td>4000</td>\n",
              "      <td>725000</td>\n",
              "    </tr>\n",
              "    <tr>\n",
              "      <th>5</th>\n",
              "      <td>2</td>\n",
              "      <td>2600</td>\n",
              "      <td>585000</td>\n",
              "    </tr>\n",
              "    <tr>\n",
              "      <th>6</th>\n",
              "      <td>2</td>\n",
              "      <td>2800</td>\n",
              "      <td>615000</td>\n",
              "    </tr>\n",
              "    <tr>\n",
              "      <th>7</th>\n",
              "      <td>2</td>\n",
              "      <td>3300</td>\n",
              "      <td>650000</td>\n",
              "    </tr>\n",
              "    <tr>\n",
              "      <th>8</th>\n",
              "      <td>2</td>\n",
              "      <td>3600</td>\n",
              "      <td>710000</td>\n",
              "    </tr>\n",
              "    <tr>\n",
              "      <th>9</th>\n",
              "      <td>1</td>\n",
              "      <td>2600</td>\n",
              "      <td>575000</td>\n",
              "    </tr>\n",
              "    <tr>\n",
              "      <th>10</th>\n",
              "      <td>1</td>\n",
              "      <td>2900</td>\n",
              "      <td>600000</td>\n",
              "    </tr>\n",
              "    <tr>\n",
              "      <th>11</th>\n",
              "      <td>1</td>\n",
              "      <td>3100</td>\n",
              "      <td>620000</td>\n",
              "    </tr>\n",
              "    <tr>\n",
              "      <th>12</th>\n",
              "      <td>1</td>\n",
              "      <td>3600</td>\n",
              "      <td>695000</td>\n",
              "    </tr>\n",
              "  </tbody>\n",
              "</table>\n",
              "</div>"
            ],
            "text/plain": [
              "    town  area   price\n",
              "0      0  2600  550000\n",
              "1      0  3000  565000\n",
              "2      0  3200  610000\n",
              "3      0  3600  680000\n",
              "4      0  4000  725000\n",
              "5      2  2600  585000\n",
              "6      2  2800  615000\n",
              "7      2  3300  650000\n",
              "8      2  3600  710000\n",
              "9      1  2600  575000\n",
              "10     1  2900  600000\n",
              "11     1  3100  620000\n",
              "12     1  3600  695000"
            ]
          },
          "metadata": {
            "tags": []
          },
          "execution_count": 5
        }
      ]
    },
    {
      "cell_type": "markdown",
      "metadata": {
        "id": "FKBXqm-Hs-BD",
        "colab_type": "text"
      },
      "source": [
        "### OneHotEncoder -->similar to pd.get_dummies<br>\n",
        "\n",
        "---> Import the OneHotEncoder Class\n",
        "---> Create an object for the class\n",
        "---> ColumnTransformer -->Insider this columntransform,we will pass this OneHotEncoder\n",
        "---> It has two mandatory  arguements --> transforms,remainder\n",
        "---> transformers argument,it will accept a list of tuple values"
      ]
    },
    {
      "cell_type": "code",
      "metadata": {
        "id": "_alW9yGfs-BD",
        "colab_type": "code",
        "colab": {}
      },
      "source": [
        "from sklearn.preprocessing import OneHotEncoder\n",
        "from sklearn.compose import ColumnTransformer\n"
      ],
      "execution_count": null,
      "outputs": []
    },
    {
      "cell_type": "code",
      "metadata": {
        "id": "wfXQHoeFs-BH",
        "colab_type": "code",
        "colab": {}
      },
      "source": [
        "# Insider the columntransformer , we have to pass the OneHotEncoder\n",
        "column_transformer = ColumnTransformer(transformers=[('encoder',OneHotEncoder(),[0])]\n",
        "                                                     ,remainder='passthrough')"
      ],
      "execution_count": null,
      "outputs": []
    },
    {
      "cell_type": "code",
      "metadata": {
        "id": "5qvdR5a2s-BM",
        "colab_type": "code",
        "colab": {},
        "outputId": "abe939cb-3a37-4fb3-addb-771b8a6af5f3"
      },
      "source": [
        "data1 = column_transformer.fit_transform(data)\n",
        "data1"
      ],
      "execution_count": null,
      "outputs": [
        {
          "output_type": "execute_result",
          "data": {
            "text/plain": [
              "array([[1.00e+00, 0.00e+00, 0.00e+00, 2.60e+03, 5.50e+05],\n",
              "       [1.00e+00, 0.00e+00, 0.00e+00, 3.00e+03, 5.65e+05],\n",
              "       [1.00e+00, 0.00e+00, 0.00e+00, 3.20e+03, 6.10e+05],\n",
              "       [1.00e+00, 0.00e+00, 0.00e+00, 3.60e+03, 6.80e+05],\n",
              "       [1.00e+00, 0.00e+00, 0.00e+00, 4.00e+03, 7.25e+05],\n",
              "       [0.00e+00, 0.00e+00, 1.00e+00, 2.60e+03, 5.85e+05],\n",
              "       [0.00e+00, 0.00e+00, 1.00e+00, 2.80e+03, 6.15e+05],\n",
              "       [0.00e+00, 0.00e+00, 1.00e+00, 3.30e+03, 6.50e+05],\n",
              "       [0.00e+00, 0.00e+00, 1.00e+00, 3.60e+03, 7.10e+05],\n",
              "       [0.00e+00, 1.00e+00, 0.00e+00, 2.60e+03, 5.75e+05],\n",
              "       [0.00e+00, 1.00e+00, 0.00e+00, 2.90e+03, 6.00e+05],\n",
              "       [0.00e+00, 1.00e+00, 0.00e+00, 3.10e+03, 6.20e+05],\n",
              "       [0.00e+00, 1.00e+00, 0.00e+00, 3.60e+03, 6.95e+05]])"
            ]
          },
          "metadata": {
            "tags": []
          },
          "execution_count": 8
        }
      ]
    },
    {
      "cell_type": "code",
      "metadata": {
        "id": "I0m7f7BUs-BP",
        "colab_type": "code",
        "colab": {},
        "outputId": "6bd9e484-aa67-4472-b4f7-8ebb0785fe23"
      },
      "source": [
        "# Creating dataframe out of array\n",
        "X=pd.DataFrame(data1)\n",
        "X"
      ],
      "execution_count": null,
      "outputs": [
        {
          "output_type": "execute_result",
          "data": {
            "text/html": [
              "<div>\n",
              "<style scoped>\n",
              "    .dataframe tbody tr th:only-of-type {\n",
              "        vertical-align: middle;\n",
              "    }\n",
              "\n",
              "    .dataframe tbody tr th {\n",
              "        vertical-align: top;\n",
              "    }\n",
              "\n",
              "    .dataframe thead th {\n",
              "        text-align: right;\n",
              "    }\n",
              "</style>\n",
              "<table border=\"1\" class=\"dataframe\">\n",
              "  <thead>\n",
              "    <tr style=\"text-align: right;\">\n",
              "      <th></th>\n",
              "      <th>0</th>\n",
              "      <th>1</th>\n",
              "      <th>2</th>\n",
              "      <th>3</th>\n",
              "      <th>4</th>\n",
              "    </tr>\n",
              "  </thead>\n",
              "  <tbody>\n",
              "    <tr>\n",
              "      <th>0</th>\n",
              "      <td>1.0</td>\n",
              "      <td>0.0</td>\n",
              "      <td>0.0</td>\n",
              "      <td>2600.0</td>\n",
              "      <td>550000.0</td>\n",
              "    </tr>\n",
              "    <tr>\n",
              "      <th>1</th>\n",
              "      <td>1.0</td>\n",
              "      <td>0.0</td>\n",
              "      <td>0.0</td>\n",
              "      <td>3000.0</td>\n",
              "      <td>565000.0</td>\n",
              "    </tr>\n",
              "    <tr>\n",
              "      <th>2</th>\n",
              "      <td>1.0</td>\n",
              "      <td>0.0</td>\n",
              "      <td>0.0</td>\n",
              "      <td>3200.0</td>\n",
              "      <td>610000.0</td>\n",
              "    </tr>\n",
              "    <tr>\n",
              "      <th>3</th>\n",
              "      <td>1.0</td>\n",
              "      <td>0.0</td>\n",
              "      <td>0.0</td>\n",
              "      <td>3600.0</td>\n",
              "      <td>680000.0</td>\n",
              "    </tr>\n",
              "    <tr>\n",
              "      <th>4</th>\n",
              "      <td>1.0</td>\n",
              "      <td>0.0</td>\n",
              "      <td>0.0</td>\n",
              "      <td>4000.0</td>\n",
              "      <td>725000.0</td>\n",
              "    </tr>\n",
              "    <tr>\n",
              "      <th>5</th>\n",
              "      <td>0.0</td>\n",
              "      <td>0.0</td>\n",
              "      <td>1.0</td>\n",
              "      <td>2600.0</td>\n",
              "      <td>585000.0</td>\n",
              "    </tr>\n",
              "    <tr>\n",
              "      <th>6</th>\n",
              "      <td>0.0</td>\n",
              "      <td>0.0</td>\n",
              "      <td>1.0</td>\n",
              "      <td>2800.0</td>\n",
              "      <td>615000.0</td>\n",
              "    </tr>\n",
              "    <tr>\n",
              "      <th>7</th>\n",
              "      <td>0.0</td>\n",
              "      <td>0.0</td>\n",
              "      <td>1.0</td>\n",
              "      <td>3300.0</td>\n",
              "      <td>650000.0</td>\n",
              "    </tr>\n",
              "    <tr>\n",
              "      <th>8</th>\n",
              "      <td>0.0</td>\n",
              "      <td>0.0</td>\n",
              "      <td>1.0</td>\n",
              "      <td>3600.0</td>\n",
              "      <td>710000.0</td>\n",
              "    </tr>\n",
              "    <tr>\n",
              "      <th>9</th>\n",
              "      <td>0.0</td>\n",
              "      <td>1.0</td>\n",
              "      <td>0.0</td>\n",
              "      <td>2600.0</td>\n",
              "      <td>575000.0</td>\n",
              "    </tr>\n",
              "    <tr>\n",
              "      <th>10</th>\n",
              "      <td>0.0</td>\n",
              "      <td>1.0</td>\n",
              "      <td>0.0</td>\n",
              "      <td>2900.0</td>\n",
              "      <td>600000.0</td>\n",
              "    </tr>\n",
              "    <tr>\n",
              "      <th>11</th>\n",
              "      <td>0.0</td>\n",
              "      <td>1.0</td>\n",
              "      <td>0.0</td>\n",
              "      <td>3100.0</td>\n",
              "      <td>620000.0</td>\n",
              "    </tr>\n",
              "    <tr>\n",
              "      <th>12</th>\n",
              "      <td>0.0</td>\n",
              "      <td>1.0</td>\n",
              "      <td>0.0</td>\n",
              "      <td>3600.0</td>\n",
              "      <td>695000.0</td>\n",
              "    </tr>\n",
              "  </tbody>\n",
              "</table>\n",
              "</div>"
            ],
            "text/plain": [
              "      0    1    2       3         4\n",
              "0   1.0  0.0  0.0  2600.0  550000.0\n",
              "1   1.0  0.0  0.0  3000.0  565000.0\n",
              "2   1.0  0.0  0.0  3200.0  610000.0\n",
              "3   1.0  0.0  0.0  3600.0  680000.0\n",
              "4   1.0  0.0  0.0  4000.0  725000.0\n",
              "5   0.0  0.0  1.0  2600.0  585000.0\n",
              "6   0.0  0.0  1.0  2800.0  615000.0\n",
              "7   0.0  0.0  1.0  3300.0  650000.0\n",
              "8   0.0  0.0  1.0  3600.0  710000.0\n",
              "9   0.0  1.0  0.0  2600.0  575000.0\n",
              "10  0.0  1.0  0.0  2900.0  600000.0\n",
              "11  0.0  1.0  0.0  3100.0  620000.0\n",
              "12  0.0  1.0  0.0  3600.0  695000.0"
            ]
          },
          "metadata": {
            "tags": []
          },
          "execution_count": 9
        }
      ]
    },
    {
      "cell_type": "code",
      "metadata": {
        "id": "5ehexdBgs-BT",
        "colab_type": "code",
        "colab": {}
      },
      "source": [
        "# Importing the Classes\n",
        "### Creating the objects\n",
        "### To apply the object to the dataframe(columns), we are using fit_transform --> With help of fit_transform method\n",
        "### we are encoding the categorical variables\n",
        "### LabelEncoder  is used only when we have to classes\n"
      ],
      "execution_count": null,
      "outputs": []
    },
    {
      "cell_type": "markdown",
      "metadata": {
        "id": "7MQmyU5hs-BX",
        "colab_type": "text"
      },
      "source": [
        "# Splitting the Dataset "
      ]
    },
    {
      "cell_type": "markdown",
      "metadata": {
        "id": "NtpjeIYHs-BX",
        "colab_type": "text"
      },
      "source": [
        "---> how well the model is working\n",
        "\n",
        "---> Seperate the Input and Output\n",
        "\n",
        "---> Input and Output seperately to the Model"
      ]
    },
    {
      "cell_type": "code",
      "metadata": {
        "id": "G_z3kkIhs-BY",
        "colab_type": "code",
        "colab": {},
        "outputId": "2d41a0bc-9c78-4165-a980-9fa2d8e7d67b"
      },
      "source": [
        "# town and area --> input columns\n",
        "\n",
        "X = data.iloc[:,0:2] # Preparing the input variables/columns\n",
        "X"
      ],
      "execution_count": null,
      "outputs": [
        {
          "output_type": "execute_result",
          "data": {
            "text/html": [
              "<div>\n",
              "<style scoped>\n",
              "    .dataframe tbody tr th:only-of-type {\n",
              "        vertical-align: middle;\n",
              "    }\n",
              "\n",
              "    .dataframe tbody tr th {\n",
              "        vertical-align: top;\n",
              "    }\n",
              "\n",
              "    .dataframe thead th {\n",
              "        text-align: right;\n",
              "    }\n",
              "</style>\n",
              "<table border=\"1\" class=\"dataframe\">\n",
              "  <thead>\n",
              "    <tr style=\"text-align: right;\">\n",
              "      <th></th>\n",
              "      <th>town</th>\n",
              "      <th>area</th>\n",
              "    </tr>\n",
              "  </thead>\n",
              "  <tbody>\n",
              "    <tr>\n",
              "      <th>0</th>\n",
              "      <td>monroe township</td>\n",
              "      <td>2600</td>\n",
              "    </tr>\n",
              "    <tr>\n",
              "      <th>1</th>\n",
              "      <td>monroe township</td>\n",
              "      <td>3000</td>\n",
              "    </tr>\n",
              "    <tr>\n",
              "      <th>2</th>\n",
              "      <td>monroe township</td>\n",
              "      <td>3200</td>\n",
              "    </tr>\n",
              "    <tr>\n",
              "      <th>3</th>\n",
              "      <td>monroe township</td>\n",
              "      <td>3600</td>\n",
              "    </tr>\n",
              "    <tr>\n",
              "      <th>4</th>\n",
              "      <td>monroe township</td>\n",
              "      <td>4000</td>\n",
              "    </tr>\n",
              "    <tr>\n",
              "      <th>5</th>\n",
              "      <td>west windsor</td>\n",
              "      <td>2600</td>\n",
              "    </tr>\n",
              "    <tr>\n",
              "      <th>6</th>\n",
              "      <td>west windsor</td>\n",
              "      <td>2800</td>\n",
              "    </tr>\n",
              "    <tr>\n",
              "      <th>7</th>\n",
              "      <td>west windsor</td>\n",
              "      <td>3300</td>\n",
              "    </tr>\n",
              "    <tr>\n",
              "      <th>8</th>\n",
              "      <td>west windsor</td>\n",
              "      <td>3600</td>\n",
              "    </tr>\n",
              "    <tr>\n",
              "      <th>9</th>\n",
              "      <td>robinsville</td>\n",
              "      <td>2600</td>\n",
              "    </tr>\n",
              "    <tr>\n",
              "      <th>10</th>\n",
              "      <td>robinsville</td>\n",
              "      <td>2900</td>\n",
              "    </tr>\n",
              "    <tr>\n",
              "      <th>11</th>\n",
              "      <td>robinsville</td>\n",
              "      <td>3100</td>\n",
              "    </tr>\n",
              "    <tr>\n",
              "      <th>12</th>\n",
              "      <td>robinsville</td>\n",
              "      <td>3600</td>\n",
              "    </tr>\n",
              "  </tbody>\n",
              "</table>\n",
              "</div>"
            ],
            "text/plain": [
              "               town  area\n",
              "0   monroe township  2600\n",
              "1   monroe township  3000\n",
              "2   monroe township  3200\n",
              "3   monroe township  3600\n",
              "4   monroe township  4000\n",
              "5      west windsor  2600\n",
              "6      west windsor  2800\n",
              "7      west windsor  3300\n",
              "8      west windsor  3600\n",
              "9       robinsville  2600\n",
              "10      robinsville  2900\n",
              "11      robinsville  3100\n",
              "12      robinsville  3600"
            ]
          },
          "metadata": {
            "tags": []
          },
          "execution_count": 11
        }
      ]
    },
    {
      "cell_type": "code",
      "metadata": {
        "id": "D_2ZhOTqs-Bc",
        "colab_type": "code",
        "colab": {},
        "outputId": "1c7b5db8-f63a-46f7-dad8-8fc8df643c98"
      },
      "source": [
        "y=data.price\n",
        "y"
      ],
      "execution_count": null,
      "outputs": [
        {
          "output_type": "execute_result",
          "data": {
            "text/plain": [
              "0     550000\n",
              "1     565000\n",
              "2     610000\n",
              "3     680000\n",
              "4     725000\n",
              "5     585000\n",
              "6     615000\n",
              "7     650000\n",
              "8     710000\n",
              "9     575000\n",
              "10    600000\n",
              "11    620000\n",
              "12    695000\n",
              "Name: price, dtype: int64"
            ]
          },
          "metadata": {
            "tags": []
          },
          "execution_count": 12
        }
      ]
    },
    {
      "cell_type": "code",
      "metadata": {
        "id": "-4PBYLXAs-Bg",
        "colab_type": "code",
        "colab": {}
      },
      "source": [
        "#Seperate the Input into training and testing\n",
        "#Seperate the Output into training and testing\n",
        "# 20% of the data to the testing data\n",
        "from sklearn.model_selection import train_test_split\n",
        "X_train,X_test,y_train,y_test = train_test_split(X,y,test_size=0.2,random_state=1)\n"
      ],
      "execution_count": null,
      "outputs": []
    },
    {
      "cell_type": "code",
      "metadata": {
        "id": "7MgCWAUes-Bj",
        "colab_type": "code",
        "colab": {},
        "outputId": "07e2cfe7-15a6-4bfe-b8ca-e338761e0d38"
      },
      "source": [
        "print(X_train.shape) # Input train\n",
        "print(X_test.shape)  # Input train\n",
        "print(y_train.shape) # Output train\n",
        "print(y_test.shape)  # Output test"
      ],
      "execution_count": null,
      "outputs": [
        {
          "output_type": "stream",
          "text": [
            "(10, 2)\n",
            "(3, 2)\n",
            "(10,)\n",
            "(3,)\n"
          ],
          "name": "stdout"
        }
      ]
    },
    {
      "cell_type": "code",
      "metadata": {
        "id": "eD9EC-Sas-Bm",
        "colab_type": "code",
        "colab": {},
        "outputId": "0898ba6c-9650-4ad1-9935-0019481ca587"
      },
      "source": [
        "X_train"
      ],
      "execution_count": null,
      "outputs": [
        {
          "output_type": "execute_result",
          "data": {
            "text/html": [
              "<div>\n",
              "<style scoped>\n",
              "    .dataframe tbody tr th:only-of-type {\n",
              "        vertical-align: middle;\n",
              "    }\n",
              "\n",
              "    .dataframe tbody tr th {\n",
              "        vertical-align: top;\n",
              "    }\n",
              "\n",
              "    .dataframe thead th {\n",
              "        text-align: right;\n",
              "    }\n",
              "</style>\n",
              "<table border=\"1\" class=\"dataframe\">\n",
              "  <thead>\n",
              "    <tr style=\"text-align: right;\">\n",
              "      <th></th>\n",
              "      <th>town</th>\n",
              "      <th>area</th>\n",
              "    </tr>\n",
              "  </thead>\n",
              "  <tbody>\n",
              "    <tr>\n",
              "      <th>10</th>\n",
              "      <td>robinsville</td>\n",
              "      <td>2900</td>\n",
              "    </tr>\n",
              "    <tr>\n",
              "      <th>1</th>\n",
              "      <td>monroe township</td>\n",
              "      <td>3000</td>\n",
              "    </tr>\n",
              "    <tr>\n",
              "      <th>6</th>\n",
              "      <td>west windsor</td>\n",
              "      <td>2800</td>\n",
              "    </tr>\n",
              "    <tr>\n",
              "      <th>0</th>\n",
              "      <td>monroe township</td>\n",
              "      <td>2600</td>\n",
              "    </tr>\n",
              "    <tr>\n",
              "      <th>7</th>\n",
              "      <td>west windsor</td>\n",
              "      <td>3300</td>\n",
              "    </tr>\n",
              "    <tr>\n",
              "      <th>12</th>\n",
              "      <td>robinsville</td>\n",
              "      <td>3600</td>\n",
              "    </tr>\n",
              "    <tr>\n",
              "      <th>9</th>\n",
              "      <td>robinsville</td>\n",
              "      <td>2600</td>\n",
              "    </tr>\n",
              "    <tr>\n",
              "      <th>8</th>\n",
              "      <td>west windsor</td>\n",
              "      <td>3600</td>\n",
              "    </tr>\n",
              "    <tr>\n",
              "      <th>11</th>\n",
              "      <td>robinsville</td>\n",
              "      <td>3100</td>\n",
              "    </tr>\n",
              "    <tr>\n",
              "      <th>5</th>\n",
              "      <td>west windsor</td>\n",
              "      <td>2600</td>\n",
              "    </tr>\n",
              "  </tbody>\n",
              "</table>\n",
              "</div>"
            ],
            "text/plain": [
              "               town  area\n",
              "10      robinsville  2900\n",
              "1   monroe township  3000\n",
              "6      west windsor  2800\n",
              "0   monroe township  2600\n",
              "7      west windsor  3300\n",
              "12      robinsville  3600\n",
              "9       robinsville  2600\n",
              "8      west windsor  3600\n",
              "11      robinsville  3100\n",
              "5      west windsor  2600"
            ]
          },
          "metadata": {
            "tags": []
          },
          "execution_count": 15
        }
      ]
    },
    {
      "cell_type": "markdown",
      "metadata": {
        "id": "Dq9QOuT7s-Bq",
        "colab_type": "text"
      },
      "source": [
        "### Feature Scaling: (Not mandatory for all the algorithms)"
      ]
    },
    {
      "cell_type": "code",
      "metadata": {
        "id": "Phzv_2b1s-Br",
        "colab_type": "code",
        "colab": {},
        "outputId": "3fe8486c-76b7-4c41-fcd9-80a4a3c24cc5"
      },
      "source": [
        "sample = pd.DataFrame({'W.E':[2,4,5,6,7,8],'Age':[28,25,32,45,33,32],'Salary':[300000,400000,500000,600000,700000,800000],'Distance':[10,12,23,32,15,17],'Expected Salary':[400000,500000,600000,700000,800000,900000]})\n",
        "sample"
      ],
      "execution_count": null,
      "outputs": [
        {
          "output_type": "execute_result",
          "data": {
            "text/html": [
              "<div>\n",
              "<style scoped>\n",
              "    .dataframe tbody tr th:only-of-type {\n",
              "        vertical-align: middle;\n",
              "    }\n",
              "\n",
              "    .dataframe tbody tr th {\n",
              "        vertical-align: top;\n",
              "    }\n",
              "\n",
              "    .dataframe thead th {\n",
              "        text-align: right;\n",
              "    }\n",
              "</style>\n",
              "<table border=\"1\" class=\"dataframe\">\n",
              "  <thead>\n",
              "    <tr style=\"text-align: right;\">\n",
              "      <th></th>\n",
              "      <th>W.E</th>\n",
              "      <th>Age</th>\n",
              "      <th>Salary</th>\n",
              "      <th>Distance</th>\n",
              "      <th>Expected Salary</th>\n",
              "    </tr>\n",
              "  </thead>\n",
              "  <tbody>\n",
              "    <tr>\n",
              "      <th>0</th>\n",
              "      <td>2</td>\n",
              "      <td>28</td>\n",
              "      <td>300000</td>\n",
              "      <td>10</td>\n",
              "      <td>400000</td>\n",
              "    </tr>\n",
              "    <tr>\n",
              "      <th>1</th>\n",
              "      <td>4</td>\n",
              "      <td>25</td>\n",
              "      <td>400000</td>\n",
              "      <td>12</td>\n",
              "      <td>500000</td>\n",
              "    </tr>\n",
              "    <tr>\n",
              "      <th>2</th>\n",
              "      <td>5</td>\n",
              "      <td>32</td>\n",
              "      <td>500000</td>\n",
              "      <td>23</td>\n",
              "      <td>600000</td>\n",
              "    </tr>\n",
              "    <tr>\n",
              "      <th>3</th>\n",
              "      <td>6</td>\n",
              "      <td>45</td>\n",
              "      <td>600000</td>\n",
              "      <td>32</td>\n",
              "      <td>700000</td>\n",
              "    </tr>\n",
              "    <tr>\n",
              "      <th>4</th>\n",
              "      <td>7</td>\n",
              "      <td>33</td>\n",
              "      <td>700000</td>\n",
              "      <td>15</td>\n",
              "      <td>800000</td>\n",
              "    </tr>\n",
              "    <tr>\n",
              "      <th>5</th>\n",
              "      <td>8</td>\n",
              "      <td>32</td>\n",
              "      <td>800000</td>\n",
              "      <td>17</td>\n",
              "      <td>900000</td>\n",
              "    </tr>\n",
              "  </tbody>\n",
              "</table>\n",
              "</div>"
            ],
            "text/plain": [
              "   W.E  Age  Salary  Distance  Expected Salary\n",
              "0    2   28  300000        10           400000\n",
              "1    4   25  400000        12           500000\n",
              "2    5   32  500000        23           600000\n",
              "3    6   45  600000        32           700000\n",
              "4    7   33  700000        15           800000\n",
              "5    8   32  800000        17           900000"
            ]
          },
          "metadata": {
            "tags": []
          },
          "execution_count": 16
        }
      ]
    },
    {
      "cell_type": "markdown",
      "metadata": {
        "id": "D0H-3HZSs-Bu",
        "colab_type": "text"
      },
      "source": [
        "--> Most the Machine Learning Algorithm,we use distance based formulas"
      ]
    },
    {
      "cell_type": "markdown",
      "metadata": {
        "id": "-4O_auzSs-Bv",
        "colab_type": "text"
      },
      "source": [
        "--> Salary column is hugely dominating the other columns in terms of magnitude\n",
        "\n",
        "--> Also,all the columns in our dataset,belong to different units,Exp -->Years,Salary--> Currency\n",
        "\n",
        "--> Units and Scale(magnitude)\n",
        "\n",
        "--> Feature Scaling --> when applied, this units and scaling will be removed<br>\n",
        "--> To make the data unitless and scaleless,we have to apply Feature Scaling\n"
      ]
    },
    {
      "cell_type": "code",
      "metadata": {
        "id": "JFq3OXFls-Bw",
        "colab_type": "code",
        "colab": {},
        "outputId": "5f486e64-c13f-4fdf-ff58-381cf06e807b"
      },
      "source": [
        "from sklearn.preprocessing import scale\n",
        "scaled_data=scale(sample)\n",
        "scaled_data"
      ],
      "execution_count": null,
      "outputs": [
        {
          "output_type": "execute_result",
          "data": {
            "text/plain": [
              "array([[-1.69030851, -0.72134777, -1.46385011, -1.09980534, -1.46385011],\n",
              "       [-0.6761234 , -1.20224629, -0.87831007, -0.83046526, -0.87831007],\n",
              "       [-0.16903085, -0.08014975, -0.29277002,  0.6509052 , -0.29277002],\n",
              "       [ 0.3380617 ,  2.00374382,  0.29277002,  1.86293558,  0.29277002],\n",
              "       [ 0.84515425,  0.08014975,  0.87831007, -0.42645513,  0.87831007],\n",
              "       [ 1.35224681, -0.08014975,  1.46385011, -0.15711505,  1.46385011]])"
            ]
          },
          "metadata": {
            "tags": []
          },
          "execution_count": 17
        }
      ]
    },
    {
      "cell_type": "code",
      "metadata": {
        "id": "jSW0jWP7s-B0",
        "colab_type": "code",
        "colab": {},
        "outputId": "e1fde4c7-0e74-4a43-9da1-e8c29a9b126a"
      },
      "source": [
        "scaled_data=pd.DataFrame(scaled_data)\n",
        "scaled_data"
      ],
      "execution_count": null,
      "outputs": [
        {
          "output_type": "execute_result",
          "data": {
            "text/html": [
              "<div>\n",
              "<style scoped>\n",
              "    .dataframe tbody tr th:only-of-type {\n",
              "        vertical-align: middle;\n",
              "    }\n",
              "\n",
              "    .dataframe tbody tr th {\n",
              "        vertical-align: top;\n",
              "    }\n",
              "\n",
              "    .dataframe thead th {\n",
              "        text-align: right;\n",
              "    }\n",
              "</style>\n",
              "<table border=\"1\" class=\"dataframe\">\n",
              "  <thead>\n",
              "    <tr style=\"text-align: right;\">\n",
              "      <th></th>\n",
              "      <th>0</th>\n",
              "      <th>1</th>\n",
              "      <th>2</th>\n",
              "      <th>3</th>\n",
              "      <th>4</th>\n",
              "    </tr>\n",
              "  </thead>\n",
              "  <tbody>\n",
              "    <tr>\n",
              "      <th>0</th>\n",
              "      <td>-1.690309</td>\n",
              "      <td>-0.721348</td>\n",
              "      <td>-1.46385</td>\n",
              "      <td>-1.099805</td>\n",
              "      <td>-1.46385</td>\n",
              "    </tr>\n",
              "    <tr>\n",
              "      <th>1</th>\n",
              "      <td>-0.676123</td>\n",
              "      <td>-1.202246</td>\n",
              "      <td>-0.87831</td>\n",
              "      <td>-0.830465</td>\n",
              "      <td>-0.87831</td>\n",
              "    </tr>\n",
              "    <tr>\n",
              "      <th>2</th>\n",
              "      <td>-0.169031</td>\n",
              "      <td>-0.080150</td>\n",
              "      <td>-0.29277</td>\n",
              "      <td>0.650905</td>\n",
              "      <td>-0.29277</td>\n",
              "    </tr>\n",
              "    <tr>\n",
              "      <th>3</th>\n",
              "      <td>0.338062</td>\n",
              "      <td>2.003744</td>\n",
              "      <td>0.29277</td>\n",
              "      <td>1.862936</td>\n",
              "      <td>0.29277</td>\n",
              "    </tr>\n",
              "    <tr>\n",
              "      <th>4</th>\n",
              "      <td>0.845154</td>\n",
              "      <td>0.080150</td>\n",
              "      <td>0.87831</td>\n",
              "      <td>-0.426455</td>\n",
              "      <td>0.87831</td>\n",
              "    </tr>\n",
              "    <tr>\n",
              "      <th>5</th>\n",
              "      <td>1.352247</td>\n",
              "      <td>-0.080150</td>\n",
              "      <td>1.46385</td>\n",
              "      <td>-0.157115</td>\n",
              "      <td>1.46385</td>\n",
              "    </tr>\n",
              "  </tbody>\n",
              "</table>\n",
              "</div>"
            ],
            "text/plain": [
              "          0         1        2         3        4\n",
              "0 -1.690309 -0.721348 -1.46385 -1.099805 -1.46385\n",
              "1 -0.676123 -1.202246 -0.87831 -0.830465 -0.87831\n",
              "2 -0.169031 -0.080150 -0.29277  0.650905 -0.29277\n",
              "3  0.338062  2.003744  0.29277  1.862936  0.29277\n",
              "4  0.845154  0.080150  0.87831 -0.426455  0.87831\n",
              "5  1.352247 -0.080150  1.46385 -0.157115  1.46385"
            ]
          },
          "metadata": {
            "tags": []
          },
          "execution_count": 18
        }
      ]
    },
    {
      "cell_type": "code",
      "metadata": {
        "id": "myemEoJGs-B3",
        "colab_type": "code",
        "colab": {}
      },
      "source": [
        "standard_data=sample.copy()\n",
        "s=sample.copy()"
      ],
      "execution_count": null,
      "outputs": []
    },
    {
      "cell_type": "code",
      "metadata": {
        "id": "i2aFONJUs-B6",
        "colab_type": "code",
        "colab": {},
        "outputId": "0da70e73-9cbf-451c-8c03-d7fde0003659"
      },
      "source": [
        "## Using StandardScaler\n",
        "from sklearn.preprocessing import StandardScaler\n",
        "sc = StandardScaler() # creating an object\n",
        "standard_data=sc.fit_transform(standard_data)\n",
        "standard_data"
      ],
      "execution_count": null,
      "outputs": [
        {
          "output_type": "execute_result",
          "data": {
            "text/plain": [
              "array([[-1.69030851, -0.72134777, -1.46385011, -1.09980534, -1.46385011],\n",
              "       [-0.6761234 , -1.20224629, -0.87831007, -0.83046526, -0.87831007],\n",
              "       [-0.16903085, -0.08014975, -0.29277002,  0.6509052 , -0.29277002],\n",
              "       [ 0.3380617 ,  2.00374382,  0.29277002,  1.86293558,  0.29277002],\n",
              "       [ 0.84515425,  0.08014975,  0.87831007, -0.42645513,  0.87831007],\n",
              "       [ 1.35224681, -0.08014975,  1.46385011, -0.15711505,  1.46385011]])"
            ]
          },
          "metadata": {
            "tags": []
          },
          "execution_count": 20
        }
      ]
    },
    {
      "cell_type": "code",
      "metadata": {
        "id": "rlYbeQGSs-B-",
        "colab_type": "code",
        "colab": {},
        "outputId": "ffeab4a5-de2f-4753-d81e-033a70b336d5"
      },
      "source": [
        "standard_data=pd.DataFrame(standard_data)\n",
        "standard_data"
      ],
      "execution_count": null,
      "outputs": [
        {
          "output_type": "execute_result",
          "data": {
            "text/html": [
              "<div>\n",
              "<style scoped>\n",
              "    .dataframe tbody tr th:only-of-type {\n",
              "        vertical-align: middle;\n",
              "    }\n",
              "\n",
              "    .dataframe tbody tr th {\n",
              "        vertical-align: top;\n",
              "    }\n",
              "\n",
              "    .dataframe thead th {\n",
              "        text-align: right;\n",
              "    }\n",
              "</style>\n",
              "<table border=\"1\" class=\"dataframe\">\n",
              "  <thead>\n",
              "    <tr style=\"text-align: right;\">\n",
              "      <th></th>\n",
              "      <th>0</th>\n",
              "      <th>1</th>\n",
              "      <th>2</th>\n",
              "      <th>3</th>\n",
              "      <th>4</th>\n",
              "    </tr>\n",
              "  </thead>\n",
              "  <tbody>\n",
              "    <tr>\n",
              "      <th>0</th>\n",
              "      <td>-1.690309</td>\n",
              "      <td>-0.721348</td>\n",
              "      <td>-1.46385</td>\n",
              "      <td>-1.099805</td>\n",
              "      <td>-1.46385</td>\n",
              "    </tr>\n",
              "    <tr>\n",
              "      <th>1</th>\n",
              "      <td>-0.676123</td>\n",
              "      <td>-1.202246</td>\n",
              "      <td>-0.87831</td>\n",
              "      <td>-0.830465</td>\n",
              "      <td>-0.87831</td>\n",
              "    </tr>\n",
              "    <tr>\n",
              "      <th>2</th>\n",
              "      <td>-0.169031</td>\n",
              "      <td>-0.080150</td>\n",
              "      <td>-0.29277</td>\n",
              "      <td>0.650905</td>\n",
              "      <td>-0.29277</td>\n",
              "    </tr>\n",
              "    <tr>\n",
              "      <th>3</th>\n",
              "      <td>0.338062</td>\n",
              "      <td>2.003744</td>\n",
              "      <td>0.29277</td>\n",
              "      <td>1.862936</td>\n",
              "      <td>0.29277</td>\n",
              "    </tr>\n",
              "    <tr>\n",
              "      <th>4</th>\n",
              "      <td>0.845154</td>\n",
              "      <td>0.080150</td>\n",
              "      <td>0.87831</td>\n",
              "      <td>-0.426455</td>\n",
              "      <td>0.87831</td>\n",
              "    </tr>\n",
              "    <tr>\n",
              "      <th>5</th>\n",
              "      <td>1.352247</td>\n",
              "      <td>-0.080150</td>\n",
              "      <td>1.46385</td>\n",
              "      <td>-0.157115</td>\n",
              "      <td>1.46385</td>\n",
              "    </tr>\n",
              "  </tbody>\n",
              "</table>\n",
              "</div>"
            ],
            "text/plain": [
              "          0         1        2         3        4\n",
              "0 -1.690309 -0.721348 -1.46385 -1.099805 -1.46385\n",
              "1 -0.676123 -1.202246 -0.87831 -0.830465 -0.87831\n",
              "2 -0.169031 -0.080150 -0.29277  0.650905 -0.29277\n",
              "3  0.338062  2.003744  0.29277  1.862936  0.29277\n",
              "4  0.845154  0.080150  0.87831 -0.426455  0.87831\n",
              "5  1.352247 -0.080150  1.46385 -0.157115  1.46385"
            ]
          },
          "metadata": {
            "tags": []
          },
          "execution_count": 21
        }
      ]
    },
    {
      "cell_type": "code",
      "metadata": {
        "id": "2dJx0Xwfs-CC",
        "colab_type": "code",
        "colab": {}
      },
      "source": [
        "## MinMaxScaler:"
      ],
      "execution_count": null,
      "outputs": []
    },
    {
      "cell_type": "code",
      "metadata": {
        "id": "QK-IDcfVs-CG",
        "colab_type": "code",
        "colab": {},
        "outputId": "66f46116-ded9-4d95-d6dd-8b22f2ad969f"
      },
      "source": [
        "from sklearn.preprocessing import MinMaxScaler\n",
        "ms = MinMaxScaler()\n",
        "ms.fit(s)\n",
        "s = ms.transform(s)\n",
        "s"
      ],
      "execution_count": null,
      "outputs": [
        {
          "output_type": "execute_result",
          "data": {
            "text/plain": [
              "array([[0.        , 0.15      , 0.        , 0.        , 0.        ],\n",
              "       [0.33333333, 0.        , 0.2       , 0.09090909, 0.2       ],\n",
              "       [0.5       , 0.35      , 0.4       , 0.59090909, 0.4       ],\n",
              "       [0.66666667, 1.        , 0.6       , 1.        , 0.6       ],\n",
              "       [0.83333333, 0.4       , 0.8       , 0.22727273, 0.8       ],\n",
              "       [1.        , 0.35      , 1.        , 0.31818182, 1.        ]])"
            ]
          },
          "metadata": {
            "tags": []
          },
          "execution_count": 23
        }
      ]
    },
    {
      "cell_type": "code",
      "metadata": {
        "id": "FeoqsI-Ms-CJ",
        "colab_type": "code",
        "colab": {},
        "outputId": "88ac4964-3bf6-45fe-bcbd-391d6357a442"
      },
      "source": [
        "from sklearn.preprocessing import MinMaxScaler\n",
        "ms = MinMaxScaler()\n",
        "ms.fit(standard_data)\n",
        "standard_data = ms.transform(standard_data)\n",
        "standard_data"
      ],
      "execution_count": null,
      "outputs": [
        {
          "output_type": "execute_result",
          "data": {
            "text/plain": [
              "array([[0.        , 0.15      , 0.        , 0.        , 0.        ],\n",
              "       [0.33333333, 0.        , 0.2       , 0.09090909, 0.2       ],\n",
              "       [0.5       , 0.35      , 0.4       , 0.59090909, 0.4       ],\n",
              "       [0.66666667, 1.        , 0.6       , 1.        , 0.6       ],\n",
              "       [0.83333333, 0.4       , 0.8       , 0.22727273, 0.8       ],\n",
              "       [1.        , 0.35      , 1.        , 0.31818182, 1.        ]])"
            ]
          },
          "metadata": {
            "tags": []
          },
          "execution_count": 24
        }
      ]
    },
    {
      "cell_type": "code",
      "metadata": {
        "id": "CVw8xNvvs-CN",
        "colab_type": "code",
        "colab": {},
        "outputId": "ce8c6f65-3a05-4558-cc9e-eb0d40c17dd5"
      },
      "source": [
        "s=pd.DataFrame(s)\n",
        "s"
      ],
      "execution_count": null,
      "outputs": [
        {
          "output_type": "execute_result",
          "data": {
            "text/html": [
              "<div>\n",
              "<style scoped>\n",
              "    .dataframe tbody tr th:only-of-type {\n",
              "        vertical-align: middle;\n",
              "    }\n",
              "\n",
              "    .dataframe tbody tr th {\n",
              "        vertical-align: top;\n",
              "    }\n",
              "\n",
              "    .dataframe thead th {\n",
              "        text-align: right;\n",
              "    }\n",
              "</style>\n",
              "<table border=\"1\" class=\"dataframe\">\n",
              "  <thead>\n",
              "    <tr style=\"text-align: right;\">\n",
              "      <th></th>\n",
              "      <th>0</th>\n",
              "      <th>1</th>\n",
              "      <th>2</th>\n",
              "      <th>3</th>\n",
              "      <th>4</th>\n",
              "    </tr>\n",
              "  </thead>\n",
              "  <tbody>\n",
              "    <tr>\n",
              "      <th>0</th>\n",
              "      <td>0.000000</td>\n",
              "      <td>0.15</td>\n",
              "      <td>0.0</td>\n",
              "      <td>0.000000</td>\n",
              "      <td>0.0</td>\n",
              "    </tr>\n",
              "    <tr>\n",
              "      <th>1</th>\n",
              "      <td>0.333333</td>\n",
              "      <td>0.00</td>\n",
              "      <td>0.2</td>\n",
              "      <td>0.090909</td>\n",
              "      <td>0.2</td>\n",
              "    </tr>\n",
              "    <tr>\n",
              "      <th>2</th>\n",
              "      <td>0.500000</td>\n",
              "      <td>0.35</td>\n",
              "      <td>0.4</td>\n",
              "      <td>0.590909</td>\n",
              "      <td>0.4</td>\n",
              "    </tr>\n",
              "    <tr>\n",
              "      <th>3</th>\n",
              "      <td>0.666667</td>\n",
              "      <td>1.00</td>\n",
              "      <td>0.6</td>\n",
              "      <td>1.000000</td>\n",
              "      <td>0.6</td>\n",
              "    </tr>\n",
              "    <tr>\n",
              "      <th>4</th>\n",
              "      <td>0.833333</td>\n",
              "      <td>0.40</td>\n",
              "      <td>0.8</td>\n",
              "      <td>0.227273</td>\n",
              "      <td>0.8</td>\n",
              "    </tr>\n",
              "    <tr>\n",
              "      <th>5</th>\n",
              "      <td>1.000000</td>\n",
              "      <td>0.35</td>\n",
              "      <td>1.0</td>\n",
              "      <td>0.318182</td>\n",
              "      <td>1.0</td>\n",
              "    </tr>\n",
              "  </tbody>\n",
              "</table>\n",
              "</div>"
            ],
            "text/plain": [
              "          0     1    2         3    4\n",
              "0  0.000000  0.15  0.0  0.000000  0.0\n",
              "1  0.333333  0.00  0.2  0.090909  0.2\n",
              "2  0.500000  0.35  0.4  0.590909  0.4\n",
              "3  0.666667  1.00  0.6  1.000000  0.6\n",
              "4  0.833333  0.40  0.8  0.227273  0.8\n",
              "5  1.000000  0.35  1.0  0.318182  1.0"
            ]
          },
          "metadata": {
            "tags": []
          },
          "execution_count": 25
        }
      ]
    },
    {
      "cell_type": "code",
      "metadata": {
        "id": "bYTSr6OYs-CS",
        "colab_type": "code",
        "colab": {},
        "outputId": "c39eaf04-30b3-4ff4-900b-4fca148713ea"
      },
      "source": [
        "standard_data=pd.DataFrame(standard_data)\n",
        "standard_data"
      ],
      "execution_count": null,
      "outputs": [
        {
          "output_type": "execute_result",
          "data": {
            "text/html": [
              "<div>\n",
              "<style scoped>\n",
              "    .dataframe tbody tr th:only-of-type {\n",
              "        vertical-align: middle;\n",
              "    }\n",
              "\n",
              "    .dataframe tbody tr th {\n",
              "        vertical-align: top;\n",
              "    }\n",
              "\n",
              "    .dataframe thead th {\n",
              "        text-align: right;\n",
              "    }\n",
              "</style>\n",
              "<table border=\"1\" class=\"dataframe\">\n",
              "  <thead>\n",
              "    <tr style=\"text-align: right;\">\n",
              "      <th></th>\n",
              "      <th>0</th>\n",
              "      <th>1</th>\n",
              "      <th>2</th>\n",
              "      <th>3</th>\n",
              "      <th>4</th>\n",
              "    </tr>\n",
              "  </thead>\n",
              "  <tbody>\n",
              "    <tr>\n",
              "      <th>0</th>\n",
              "      <td>0.000000</td>\n",
              "      <td>0.15</td>\n",
              "      <td>0.0</td>\n",
              "      <td>0.000000</td>\n",
              "      <td>0.0</td>\n",
              "    </tr>\n",
              "    <tr>\n",
              "      <th>1</th>\n",
              "      <td>0.333333</td>\n",
              "      <td>0.00</td>\n",
              "      <td>0.2</td>\n",
              "      <td>0.090909</td>\n",
              "      <td>0.2</td>\n",
              "    </tr>\n",
              "    <tr>\n",
              "      <th>2</th>\n",
              "      <td>0.500000</td>\n",
              "      <td>0.35</td>\n",
              "      <td>0.4</td>\n",
              "      <td>0.590909</td>\n",
              "      <td>0.4</td>\n",
              "    </tr>\n",
              "    <tr>\n",
              "      <th>3</th>\n",
              "      <td>0.666667</td>\n",
              "      <td>1.00</td>\n",
              "      <td>0.6</td>\n",
              "      <td>1.000000</td>\n",
              "      <td>0.6</td>\n",
              "    </tr>\n",
              "    <tr>\n",
              "      <th>4</th>\n",
              "      <td>0.833333</td>\n",
              "      <td>0.40</td>\n",
              "      <td>0.8</td>\n",
              "      <td>0.227273</td>\n",
              "      <td>0.8</td>\n",
              "    </tr>\n",
              "    <tr>\n",
              "      <th>5</th>\n",
              "      <td>1.000000</td>\n",
              "      <td>0.35</td>\n",
              "      <td>1.0</td>\n",
              "      <td>0.318182</td>\n",
              "      <td>1.0</td>\n",
              "    </tr>\n",
              "  </tbody>\n",
              "</table>\n",
              "</div>"
            ],
            "text/plain": [
              "          0     1    2         3    4\n",
              "0  0.000000  0.15  0.0  0.000000  0.0\n",
              "1  0.333333  0.00  0.2  0.090909  0.2\n",
              "2  0.500000  0.35  0.4  0.590909  0.4\n",
              "3  0.666667  1.00  0.6  1.000000  0.6\n",
              "4  0.833333  0.40  0.8  0.227273  0.8\n",
              "5  1.000000  0.35  1.0  0.318182  1.0"
            ]
          },
          "metadata": {
            "tags": []
          },
          "execution_count": 26
        }
      ]
    },
    {
      "cell_type": "code",
      "metadata": {
        "id": "6sgNTTews-CV",
        "colab_type": "code",
        "colab": {}
      },
      "source": [
        ""
      ],
      "execution_count": null,
      "outputs": []
    }
  ]
}