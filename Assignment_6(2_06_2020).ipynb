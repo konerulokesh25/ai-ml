{
  "nbformat": 4,
  "nbformat_minor": 0,
  "metadata": {
    "colab": {
      "name": "Assignment 6(2-06-2020).ipynb",
      "provenance": [],
      "authorship_tag": "ABX9TyNaivpXiWv2vL2r4fAU8GMa",
      "include_colab_link": true
    },
    "kernelspec": {
      "name": "python3",
      "display_name": "Python 3"
    }
  },
  "cells": [
    {
      "cell_type": "markdown",
      "metadata": {
        "id": "view-in-github",
        "colab_type": "text"
      },
      "source": [
        "<a href=\"https://colab.research.google.com/github/konerulokesh25/ai-ml/blob/master/Assignment_6(2_06_2020).ipynb\" target=\"_parent\"><img src=\"https://colab.research.google.com/assets/colab-badge.svg\" alt=\"Open In Colab\"/></a>"
      ]
    },
    {
      "cell_type": "code",
      "metadata": {
        "id": "3fxPvL_w6a8n",
        "colab_type": "code",
        "colab": {
          "base_uri": "https://localhost:8080/",
          "height": 238
        },
        "outputId": "5d9c0b37-4ba6-427a-c939-e5ad78416f36"
      },
      "source": [
        "import random\n",
        "l=9\n",
        "list1=('apple','build','pizza','plays')\n",
        "a=random.choice(list1)\n",
        "s=list('?????')\n",
        "g=False\n",
        "i=0\n",
        "while(l>0):\n",
        "    print(s)\n",
        "    letter=input(\"enter letter or word \")\n",
        "    if letter==a:\n",
        "        print(\"Won\")\n",
        "        g=True\n",
        "        break\n",
        "    elif letter in a:\n",
        "        while(i<len(a)):\n",
        "            if letter==a[i]:\n",
        "                s[i]=letter\n",
        "                i+=1\n",
        "            break\n",
        "    else:\n",
        "        l-=1\n",
        "        print(\"lives left\",l)\n",
        "if g==False:\n",
        "    print(\"Game over\")"
      ],
      "execution_count": 2,
      "outputs": [
        {
          "output_type": "stream",
          "text": [
            "['?', '?', '?', '?', '?']\n",
            "enter letter or word p\n",
            "['p', '?', '?', '?', '?']\n",
            "enter letter or word i\n",
            "['p', 'i', '?', '?', '?']\n",
            "enter letter or word z\n",
            "['p', 'i', 'z', '?', '?']\n",
            "enter letter or word z\n",
            "['p', 'i', 'z', 'z', '?']\n",
            "enter letter or word a\n",
            "['p', 'i', 'z', 'z', 'a']\n",
            "enter letter or word pizza\n",
            "Won\n"
          ],
          "name": "stdout"
        }
      ]
    },
    {
      "cell_type": "code",
      "metadata": {
        "id": "Dbirxbzg6__o",
        "colab_type": "code",
        "colab": {}
      },
      "source": [
        ""
      ],
      "execution_count": 0,
      "outputs": []
    }
  ]
}