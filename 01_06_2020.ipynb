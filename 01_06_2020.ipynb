{
  "nbformat": 4,
  "nbformat_minor": 0,
  "metadata": {
    "kernelspec": {
      "display_name": "Python 3",
      "language": "python",
      "name": "python3"
    },
    "language_info": {
      "codemirror_mode": {
        "name": "ipython",
        "version": 3
      },
      "file_extension": ".py",
      "mimetype": "text/x-python",
      "name": "python",
      "nbconvert_exporter": "python",
      "pygments_lexer": "ipython3",
      "version": "3.7.6"
    },
    "colab": {
      "name": "01-06-2020.ipynb",
      "provenance": [],
      "include_colab_link": true
    }
  },
  "cells": [
    {
      "cell_type": "markdown",
      "metadata": {
        "id": "view-in-github",
        "colab_type": "text"
      },
      "source": [
        "<a href=\"https://colab.research.google.com/github/konerulokesh25/ai-ml/blob/master/01_06_2020.ipynb\" target=\"_parent\"><img src=\"https://colab.research.google.com/assets/colab-badge.svg\" alt=\"Open In Colab\"/></a>"
      ]
    },
    {
      "cell_type": "code",
      "metadata": {
        "id": "69IogK0vk3qb",
        "colab_type": "code",
        "colab": {},
        "outputId": "5e79fa37-88d0-4bb9-b203-2627301750e2"
      },
      "source": [
        "import string\n",
        "string.ascii_letters"
      ],
      "execution_count": null,
      "outputs": [
        {
          "output_type": "execute_result",
          "data": {
            "text/plain": [
              "'abcdefghijklmnopqrstuvwxyzABCDEFGHIJKLMNOPQRSTUVWXYZ'"
            ]
          },
          "metadata": {
            "tags": []
          },
          "execution_count": 214
        }
      ]
    },
    {
      "cell_type": "code",
      "metadata": {
        "id": "vFd-vOEdk3ql",
        "colab_type": "code",
        "colab": {},
        "outputId": "ddf01a45-44e5-4df6-d1a8-12cb4c4899ae"
      },
      "source": [
        "string.punctuation"
      ],
      "execution_count": null,
      "outputs": [
        {
          "output_type": "execute_result",
          "data": {
            "text/plain": [
              "'!\"#$%&\\'()*+,-./:;<=>?@[\\\\]^_`{|}~'"
            ]
          },
          "metadata": {
            "tags": []
          },
          "execution_count": 215
        }
      ]
    },
    {
      "cell_type": "markdown",
      "metadata": {
        "id": "c83QZoDek3qq",
        "colab_type": "text"
      },
      "source": [
        "### Tuple:\n",
        "1. Immutable(changes are not allowed)\n",
        "2. using ( ) elements are seperated by,\n",
        "3. Indexed,Ordered"
      ]
    },
    {
      "cell_type": "code",
      "metadata": {
        "id": "IiPkWjnbk3qr",
        "colab_type": "code",
        "colab": {},
        "outputId": "2358e9ea-610e-46d2-b569-6f4a02ee327e"
      },
      "source": [
        "#Tuple\n",
        "tup1=(12,3,345.56,\"abc\",True)\n",
        "print(type(tup1))"
      ],
      "execution_count": null,
      "outputs": [
        {
          "output_type": "stream",
          "text": [
            "<class 'tuple'>\n"
          ],
          "name": "stdout"
        }
      ]
    },
    {
      "cell_type": "code",
      "metadata": {
        "id": "sWvTh_k_k3qv",
        "colab_type": "code",
        "colab": {},
        "outputId": "60cb758f-ee65-4752-dbff-da21ce1b134d"
      },
      "source": [
        "print(tup1[2])\n",
        "print(tup1[-1])"
      ],
      "execution_count": null,
      "outputs": [
        {
          "output_type": "stream",
          "text": [
            "345.56\n",
            "True\n"
          ],
          "name": "stdout"
        }
      ]
    },
    {
      "cell_type": "code",
      "metadata": {
        "id": "-ma8_NU2k3qz",
        "colab_type": "code",
        "colab": {},
        "outputId": "38965557-f682-4755-c844-05017f1c3b25"
      },
      "source": [
        "l=list(tup1)\n",
        "l[2]=100\n",
        "tup1 = tuple(l)\n",
        "tup1"
      ],
      "execution_count": null,
      "outputs": [
        {
          "output_type": "execute_result",
          "data": {
            "text/plain": [
              "(12, 3, 100, 'abc', True)"
            ]
          },
          "metadata": {
            "tags": []
          },
          "execution_count": 218
        }
      ]
    },
    {
      "cell_type": "markdown",
      "metadata": {
        "id": "vAuauM16k3q3",
        "colab_type": "text"
      },
      "source": [
        "# Built-in methods:\n",
        "1. count()\n",
        "2. index()"
      ]
    },
    {
      "cell_type": "code",
      "metadata": {
        "id": "bEvo51iSk3q4",
        "colab_type": "code",
        "colab": {},
        "outputId": "d4178659-3efe-4ccf-ad80-42ff5ab7220f"
      },
      "source": [
        "print(tup1.count(12))\n",
        "print(tup1.index(12))"
      ],
      "execution_count": null,
      "outputs": [
        {
          "output_type": "stream",
          "text": [
            "1\n",
            "0\n"
          ],
          "name": "stdout"
        }
      ]
    },
    {
      "cell_type": "code",
      "metadata": {
        "id": "DyA3dX01k3q8",
        "colab_type": "code",
        "colab": {},
        "outputId": "76da184c-8ef7-49df-94a5-200bab5648bb"
      },
      "source": [
        "#unpacking\n",
        "tup2=(12,232,4,354)\n",
        "a,b,c,d=tup2\n",
        "print(d)"
      ],
      "execution_count": null,
      "outputs": [
        {
          "output_type": "stream",
          "text": [
            "354\n"
          ],
          "name": "stdout"
        }
      ]
    },
    {
      "cell_type": "code",
      "metadata": {
        "id": "iajZDjudk3rB",
        "colab_type": "code",
        "colab": {},
        "outputId": "9f47ce92-86b2-4fe5-c341-035f127aef84"
      },
      "source": [
        "#packing\n",
        "x=10,20,30\n",
        "print(type(x))\n",
        "print(x)"
      ],
      "execution_count": null,
      "outputs": [
        {
          "output_type": "stream",
          "text": [
            "<class 'tuple'>\n",
            "(10, 20, 30)\n"
          ],
          "name": "stdout"
        }
      ]
    },
    {
      "cell_type": "code",
      "metadata": {
        "id": "jxiS4Qwjk3rE",
        "colab_type": "code",
        "colab": {},
        "outputId": "9fb5bddd-768f-4577-885f-4084bc0e3fa3"
      },
      "source": [
        "#tuple with single element\n",
        "y=(10,)\n",
        "print(type(y))"
      ],
      "execution_count": null,
      "outputs": [
        {
          "output_type": "stream",
          "text": [
            "<class 'tuple'>\n"
          ],
          "name": "stdout"
        }
      ]
    },
    {
      "cell_type": "code",
      "metadata": {
        "id": "TafsdTB1k3rI",
        "colab_type": "code",
        "colab": {},
        "outputId": "09ae3556-c49f-43e9-afa0-82ea832dba49"
      },
      "source": [
        "for ele in x:\n",
        "    print(ele,end=\" \")"
      ],
      "execution_count": null,
      "outputs": [
        {
          "output_type": "stream",
          "text": [
            "10 20 30 "
          ],
          "name": "stdout"
        }
      ]
    },
    {
      "cell_type": "markdown",
      "metadata": {
        "id": "kfVI_HQwk3rM",
        "colab_type": "text"
      },
      "source": [
        "### set:\n",
        "1. { }\n",
        "2. Does not allow duplicate values\n",
        "3. not ordered\n",
        "4. unindexed\n",
        "5. Mutable\n"
      ]
    },
    {
      "cell_type": "code",
      "metadata": {
        "id": "_MQZWtjNk3rM",
        "colab_type": "code",
        "colab": {},
        "outputId": "fcf4bbdc-004d-498d-b445-efd6f071f95b"
      },
      "source": [
        "set1 = {1,2,334,45,5,6,2,1}\n",
        "print(set1)\n"
      ],
      "execution_count": null,
      "outputs": [
        {
          "output_type": "stream",
          "text": [
            "{1, 2, 5, 6, 45, 334}\n"
          ],
          "name": "stdout"
        }
      ]
    },
    {
      "cell_type": "code",
      "metadata": {
        "id": "V14xXg6hk3rR",
        "colab_type": "code",
        "colab": {},
        "outputId": "b4aacb34-4fdc-435e-e4f7-de7bec99fe4a"
      },
      "source": [
        "for ele in set1:\n",
        "    print(ele)"
      ],
      "execution_count": null,
      "outputs": [
        {
          "output_type": "stream",
          "text": [
            "1\n",
            "2\n",
            "5\n",
            "6\n",
            "45\n",
            "334\n"
          ],
          "name": "stdout"
        }
      ]
    },
    {
      "cell_type": "markdown",
      "metadata": {
        "id": "SYu-lQukk3rU",
        "colab_type": "text"
      },
      "source": [
        "# Built-in functions\n",
        "1. max()\n",
        "2. len()\n",
        "3. min()\n",
        "4. set()"
      ]
    },
    {
      "cell_type": "code",
      "metadata": {
        "id": "MvgRXp-ik3rV",
        "colab_type": "code",
        "colab": {},
        "outputId": "0959f595-09e2-4e24-c5ed-02cc82c5a5be"
      },
      "source": [
        "print(set1)\n",
        "print(len(set1))\n",
        "print(min(set1))\n",
        "print(max(set1))"
      ],
      "execution_count": null,
      "outputs": [
        {
          "output_type": "stream",
          "text": [
            "{1, 2, 5, 6, 45, 334}\n",
            "6\n",
            "1\n",
            "334\n"
          ],
          "name": "stdout"
        }
      ]
    },
    {
      "cell_type": "code",
      "metadata": {
        "id": "yLqJtsn6k3rY",
        "colab_type": "code",
        "colab": {},
        "outputId": "ca0132de-3177-4aa1-97ae-5c1e2a5a2f8c"
      },
      "source": [
        "#Removing duplicates from the list\n",
        "list1=[1,2,3,4,5,1,2,3]\n",
        "list1=set(list1)\n",
        "list1"
      ],
      "execution_count": null,
      "outputs": [
        {
          "output_type": "execute_result",
          "data": {
            "text/plain": [
              "{1, 2, 3, 4, 5}"
            ]
          },
          "metadata": {
            "tags": []
          },
          "execution_count": 227
        }
      ]
    },
    {
      "cell_type": "markdown",
      "metadata": {
        "id": "yZBxCmr6k3rc",
        "colab_type": "text"
      },
      "source": [
        "### Built-in Methods:\n",
        "##### Adding an element\n",
        "1. add()\n",
        "\n",
        "##### Removing an element\n",
        "2. pop()\n",
        "3. remove()\n",
        "4. discard()\n",
        "5. clear()"
      ]
    },
    {
      "cell_type": "code",
      "metadata": {
        "id": "z7qR-pLEk3rd",
        "colab_type": "code",
        "colab": {},
        "outputId": "61403a9d-40c7-4ae2-822c-edaa12e06ac1"
      },
      "source": [
        "set2 =set()\n",
        "print(type(set2))"
      ],
      "execution_count": null,
      "outputs": [
        {
          "output_type": "stream",
          "text": [
            "<class 'set'>\n"
          ],
          "name": "stdout"
        }
      ]
    },
    {
      "cell_type": "code",
      "metadata": {
        "id": "0y-pIW8Hk3rg",
        "colab_type": "code",
        "colab": {},
        "outputId": "f739c141-a620-470e-f4bf-f690ad03b9a4"
      },
      "source": [
        "set2.add(12)\n",
        "set2.add(23)\n",
        "set2.add(100)\n",
        "set2"
      ],
      "execution_count": null,
      "outputs": [
        {
          "output_type": "execute_result",
          "data": {
            "text/plain": [
              "{12, 23, 100}"
            ]
          },
          "metadata": {
            "tags": []
          },
          "execution_count": 229
        }
      ]
    },
    {
      "cell_type": "code",
      "metadata": {
        "id": "XHAx7m1ck3rk",
        "colab_type": "code",
        "colab": {},
        "outputId": "87f0e249-f533-4997-b393-1c370129c051"
      },
      "source": [
        "set2.pop()"
      ],
      "execution_count": null,
      "outputs": [
        {
          "output_type": "execute_result",
          "data": {
            "text/plain": [
              "100"
            ]
          },
          "metadata": {
            "tags": []
          },
          "execution_count": 230
        }
      ]
    },
    {
      "cell_type": "code",
      "metadata": {
        "id": "QCObTciVk3ro",
        "colab_type": "code",
        "colab": {},
        "outputId": "8696cb38-0216-4bc9-8de8-fcd659f94679"
      },
      "source": [
        "print(set2)\n",
        "set2.remove(12)# error when element not present"
      ],
      "execution_count": null,
      "outputs": [
        {
          "output_type": "stream",
          "text": [
            "{12, 23}\n"
          ],
          "name": "stdout"
        }
      ]
    },
    {
      "cell_type": "code",
      "metadata": {
        "id": "veCieSl2k3rr",
        "colab_type": "code",
        "colab": {},
        "outputId": "8c9f0cd6-3f28-4f8d-a737-aba8f481e8e1"
      },
      "source": [
        "print(set2)"
      ],
      "execution_count": null,
      "outputs": [
        {
          "output_type": "stream",
          "text": [
            "{23}\n"
          ],
          "name": "stdout"
        }
      ]
    },
    {
      "cell_type": "code",
      "metadata": {
        "id": "y2kllBA-k3ru",
        "colab_type": "code",
        "colab": {}
      },
      "source": [
        "set2.discard(12)# no error when element not present"
      ],
      "execution_count": null,
      "outputs": []
    },
    {
      "cell_type": "code",
      "metadata": {
        "id": "72QmgxhKk3ry",
        "colab_type": "code",
        "colab": {},
        "outputId": "3583892c-d656-401b-986d-2887edc3dc13"
      },
      "source": [
        "set2.clear()\n",
        "print(set2)"
      ],
      "execution_count": null,
      "outputs": [
        {
          "output_type": "stream",
          "text": [
            "set()\n"
          ],
          "name": "stdout"
        }
      ]
    },
    {
      "cell_type": "code",
      "metadata": {
        "id": "ypxJEnsek3r1",
        "colab_type": "code",
        "colab": {},
        "outputId": "d4686cb6-88a9-4084-d841-7fe19f957a33"
      },
      "source": [
        "#union,difference,intersection,subset,super set,disjoint\n",
        "#symmetric difference\n",
        "A = {1,2,3,4,5}\n",
        "B = {3,4,5,6,7}\n",
        "#union A U b\n",
        "print(A.union(B))\n",
        "print(A.intersection(B))\n",
        "print(A.difference(B))\n",
        "print(A-B)\n",
        "print(B.difference(A))\n",
        "print(B-A)"
      ],
      "execution_count": null,
      "outputs": [
        {
          "output_type": "stream",
          "text": [
            "{1, 2, 3, 4, 5, 6, 7}\n",
            "{3, 4, 5}\n",
            "{1, 2}\n",
            "{1, 2}\n",
            "{6, 7}\n",
            "{6, 7}\n"
          ],
          "name": "stdout"
        }
      ]
    },
    {
      "cell_type": "code",
      "metadata": {
        "id": "aLvlKmAik3r4",
        "colab_type": "code",
        "colab": {},
        "outputId": "42cd4113-0a96-4d2c-cdbf-589cccbeeb50"
      },
      "source": [
        "#subset,super set,disjoint\n",
        "#symmetric difference\n",
        "C={1,2,3,4,5,6,7,8,9,10}\n",
        "print(A.issubset(C))#True\n",
        "print(A.issubset(B))#False\n",
        "print(C.issuperset(A))#True\n",
        "print(C.issuperset(B))#True"
      ],
      "execution_count": null,
      "outputs": [
        {
          "output_type": "stream",
          "text": [
            "True\n",
            "False\n",
            "True\n",
            "True\n"
          ],
          "name": "stdout"
        }
      ]
    },
    {
      "cell_type": "code",
      "metadata": {
        "id": "iTmPJHfbk3r7",
        "colab_type": "code",
        "colab": {},
        "outputId": "b4e1ef0c-734f-4753-bfb3-9d6136119e96"
      },
      "source": [
        "#disjoint\n",
        "X={1,2}\n",
        "Y={23,34,45}\n",
        "print(A.isdisjoint(B))#False\n",
        "print(X.isdisjoint(Y))#True"
      ],
      "execution_count": null,
      "outputs": [
        {
          "output_type": "stream",
          "text": [
            "False\n",
            "True\n"
          ],
          "name": "stdout"
        }
      ]
    },
    {
      "cell_type": "code",
      "metadata": {
        "id": "nmfBXLSWk3r-",
        "colab_type": "code",
        "colab": {},
        "outputId": "e50bdb8a-bb46-41e7-af07-86b577b4e5d1"
      },
      "source": [
        "#Symmetric difference\n",
        "print(A.symmetric_difference(B))\n",
        "print(A)\n",
        "print(B)"
      ],
      "execution_count": null,
      "outputs": [
        {
          "output_type": "stream",
          "text": [
            "{1, 2, 6, 7}\n",
            "{1, 2, 3, 4, 5}\n",
            "{3, 4, 5, 6, 7}\n"
          ],
          "name": "stdout"
        }
      ]
    },
    {
      "cell_type": "code",
      "metadata": {
        "id": "zyPZFvGjk3sC",
        "colab_type": "code",
        "colab": {},
        "outputId": "21c7240a-25c4-4857-8d30-b5e862d65ad5"
      },
      "source": [
        "A.update(B)# A=A.union(B)\n",
        "print(A)\n",
        "print(B)"
      ],
      "execution_count": null,
      "outputs": [
        {
          "output_type": "stream",
          "text": [
            "{1, 2, 3, 4, 5, 6, 7}\n",
            "{3, 4, 5, 6, 7}\n"
          ],
          "name": "stdout"
        }
      ]
    },
    {
      "cell_type": "code",
      "metadata": {
        "id": "wu7e6u3lk3sG",
        "colab_type": "code",
        "colab": {},
        "outputId": "e9d87dc5-1bd3-4790-c75d-7b5906940c33"
      },
      "source": [
        "A.intersection_update(B)\n",
        "print(A)\n",
        "print(B)"
      ],
      "execution_count": null,
      "outputs": [
        {
          "output_type": "stream",
          "text": [
            "{3, 4, 5, 6, 7}\n",
            "{3, 4, 5, 6, 7}\n"
          ],
          "name": "stdout"
        }
      ]
    },
    {
      "cell_type": "code",
      "metadata": {
        "id": "Rux7Y2fBk3sK",
        "colab_type": "code",
        "colab": {},
        "outputId": "72cc1ef2-1bff-46d3-b38d-5b2a4402e4d9"
      },
      "source": [
        "A.difference_update(B)\n",
        "print(A)\n",
        "print(B)"
      ],
      "execution_count": null,
      "outputs": [
        {
          "output_type": "stream",
          "text": [
            "set()\n",
            "{3, 4, 5, 6, 7}\n"
          ],
          "name": "stdout"
        }
      ]
    },
    {
      "cell_type": "code",
      "metadata": {
        "id": "JUnMmxA1k3sN",
        "colab_type": "code",
        "colab": {},
        "outputId": "8cbcb3e7-b40c-47b6-ea2f-e7d50456f1b5"
      },
      "source": [
        "A.symmetric_difference_update(B)\n",
        "print(A)\n",
        "print(B)"
      ],
      "execution_count": null,
      "outputs": [
        {
          "output_type": "stream",
          "text": [
            "{5, 4, 3, 6, 7}\n",
            "{3, 4, 5, 6, 7}\n"
          ],
          "name": "stdout"
        }
      ]
    },
    {
      "cell_type": "markdown",
      "metadata": {
        "id": "Xq5iC25-k3sR",
        "colab_type": "text"
      },
      "source": [
        "### Dictionary:\n",
        "\n",
        "dictionary name = {key1:value1,key2:value2,.......}\n",
        "\n",
        "#### Rules for key :\n",
        "1. keys should be unique\n",
        "2. keys should be immutable (example:numerics,string,tuple )\n"
      ]
    },
    {
      "cell_type": "code",
      "metadata": {
        "id": "heIJeo13k3sS",
        "colab_type": "code",
        "colab": {},
        "outputId": "0d0a711a-b9e0-416c-e9bf-6561b54a6fce"
      },
      "source": [
        "#creating a dictionary\n",
        "dict1 = {\"name\":\"sai\",\"rollno\":47,\"address\":\"hyd\"}\n",
        "print(dict1)"
      ],
      "execution_count": null,
      "outputs": [
        {
          "output_type": "stream",
          "text": [
            "{'name': 'sai', 'rollno': 47, 'address': 'hyd'}\n"
          ],
          "name": "stdout"
        }
      ]
    },
    {
      "cell_type": "code",
      "metadata": {
        "id": "qWAD2T1wk3sW",
        "colab_type": "code",
        "colab": {},
        "outputId": "4184627f-fe27-46d2-b3ce-73cdbfab81a5"
      },
      "source": [
        "#extracting an element\n",
        "print(dict1[\"rollno\"])"
      ],
      "execution_count": null,
      "outputs": [
        {
          "output_type": "stream",
          "text": [
            "47\n"
          ],
          "name": "stdout"
        }
      ]
    },
    {
      "cell_type": "code",
      "metadata": {
        "id": "JLaWbRwFk3sb",
        "colab_type": "code",
        "colab": {},
        "outputId": "cde5e256-a86d-4110-ca1c-be58416af6da"
      },
      "source": [
        "#creating a dictionary\n",
        "dict1 = {\"name\":\"sai\",\"rollno\":47,\"address\":\"hyd\",\"rollno\":13}\n",
        "print(dict1)"
      ],
      "execution_count": null,
      "outputs": [
        {
          "output_type": "stream",
          "text": [
            "{'name': 'sai', 'rollno': 13, 'address': 'hyd'}\n"
          ],
          "name": "stdout"
        }
      ]
    },
    {
      "cell_type": "code",
      "metadata": {
        "id": "7ffG-Du8k3se",
        "colab_type": "code",
        "colab": {},
        "outputId": "140b0e9c-3ad7-450c-d9bc-94db0425a7cb"
      },
      "source": [
        "#extracting an element\n",
        "print(dict1[\"rollno\"])"
      ],
      "execution_count": null,
      "outputs": [
        {
          "output_type": "stream",
          "text": [
            "13\n"
          ],
          "name": "stdout"
        }
      ]
    },
    {
      "cell_type": "code",
      "metadata": {
        "id": "r50IxRQok3sh",
        "colab_type": "code",
        "colab": {},
        "outputId": "7cbd4e45-106f-4d5b-81ba-bbc3f5e68963"
      },
      "source": [
        "#Removing or deleting an entry\n",
        "del dict1[\"address\"]\n",
        "print(dict1)"
      ],
      "execution_count": null,
      "outputs": [
        {
          "output_type": "stream",
          "text": [
            "{'name': 'sai', 'rollno': 13}\n"
          ],
          "name": "stdout"
        }
      ]
    },
    {
      "cell_type": "code",
      "metadata": {
        "id": "X_j9Y7e3k3sm",
        "colab_type": "code",
        "colab": {},
        "outputId": "1e0ddae4-a3fb-4f27-e958-9c0389052bf2"
      },
      "source": [
        "#Adding an entry\n",
        "dict1[\"course\"]=\"python\"\n",
        "print(dict1)"
      ],
      "execution_count": null,
      "outputs": [
        {
          "output_type": "stream",
          "text": [
            "{'name': 'sai', 'rollno': 13, 'course': 'python'}\n"
          ],
          "name": "stdout"
        }
      ]
    },
    {
      "cell_type": "markdown",
      "metadata": {
        "id": "4TS8fKfIk3sp",
        "colab_type": "text"
      },
      "source": [
        "### Built-in methods:\n",
        "1. keys()\n",
        "2. items()\n",
        "3. values()\n",
        "4. get()\n",
        "5. update()\n",
        "6. pop()\n",
        "7. popitem()"
      ]
    },
    {
      "cell_type": "code",
      "metadata": {
        "id": "njMC-CQ7k3sq",
        "colab_type": "code",
        "colab": {},
        "outputId": "689a405b-e543-48a6-99d8-a6c8bbfbd923"
      },
      "source": [
        "print(dict1.keys())\n",
        "print(dict1.values())\n",
        "print(dict1.items())"
      ],
      "execution_count": null,
      "outputs": [
        {
          "output_type": "stream",
          "text": [
            "dict_keys(['name', 'rollno', 'course'])\n",
            "dict_values(['sai', 13, 'python'])\n",
            "dict_items([('name', 'sai'), ('rollno', 13), ('course', 'python')])\n"
          ],
          "name": "stdout"
        }
      ]
    },
    {
      "cell_type": "code",
      "metadata": {
        "id": "8mXvDmMXk3su",
        "colab_type": "code",
        "colab": {},
        "outputId": "34ecadac-1ce6-4519-ddf9-e20ca3ef612c"
      },
      "source": [
        "#extracting an element\n",
        "print(dict1[\"name\"])\n",
        "print(dict1.get(\"name\"))"
      ],
      "execution_count": null,
      "outputs": [
        {
          "output_type": "stream",
          "text": [
            "sai\n",
            "sai\n"
          ],
          "name": "stdout"
        }
      ]
    },
    {
      "cell_type": "code",
      "metadata": {
        "id": "-CCoWPuRk3sy",
        "colab_type": "code",
        "colab": {},
        "outputId": "87a8502a-bb5e-42e3-a60b-a7521657bb80"
      },
      "source": [
        "#Adding an entry\n",
        "dict1[\"address\"]=\"hyd\"\n",
        "print(dict1)"
      ],
      "execution_count": null,
      "outputs": [
        {
          "output_type": "stream",
          "text": [
            "{'name': 'sai', 'rollno': 13, 'course': 'python', 'address': 'hyd'}\n"
          ],
          "name": "stdout"
        }
      ]
    },
    {
      "cell_type": "code",
      "metadata": {
        "id": "sqQFtHO2k3s1",
        "colab_type": "code",
        "colab": {},
        "outputId": "1bc7042f-9aae-4712-eb46-afed38011410"
      },
      "source": [
        "d = {1:1,2:2,3:3}\n",
        "dict1.update(d)\n",
        "print(dict1)"
      ],
      "execution_count": null,
      "outputs": [
        {
          "output_type": "stream",
          "text": [
            "{'name': 'sai', 'rollno': 13, 'course': 'python', 'address': 'hyd', 1: 1, 2: 2, 3: 3}\n"
          ],
          "name": "stdout"
        }
      ]
    },
    {
      "cell_type": "code",
      "metadata": {
        "id": "FBCMpuzgk3s4",
        "colab_type": "code",
        "colab": {},
        "outputId": "fc24ea48-2d30-448b-d3f3-d5bf53e21ad0"
      },
      "source": [
        "#Removing an entry --> pop(),popitem()\n",
        "dict1.pop(1)\n",
        "print(dict1)\n",
        "dict1.popitem()\n",
        "print(dict1)"
      ],
      "execution_count": null,
      "outputs": [
        {
          "output_type": "stream",
          "text": [
            "{'name': 'sai', 'rollno': 13, 'course': 'python', 'address': 'hyd', 2: 2, 3: 3}\n",
            "{'name': 'sai', 'rollno': 13, 'course': 'python', 'address': 'hyd', 2: 2}\n"
          ],
          "name": "stdout"
        }
      ]
    },
    {
      "cell_type": "code",
      "metadata": {
        "id": "-OTP7xcXk3s_",
        "colab_type": "code",
        "colab": {},
        "outputId": "d6cf2974-e83b-4c8e-fa70-d07e30e605e4"
      },
      "source": [
        "import random\n",
        "print(random.randint(0,100))\n",
        "print(random.choice([\"yes\",\"no\"]))"
      ],
      "execution_count": null,
      "outputs": [
        {
          "output_type": "stream",
          "text": [
            "5\n",
            "no\n"
          ],
          "name": "stdout"
        }
      ]
    },
    {
      "cell_type": "code",
      "metadata": {
        "id": "w8h18Sakk3tD",
        "colab_type": "code",
        "colab": {}
      },
      "source": [
        ""
      ],
      "execution_count": null,
      "outputs": []
    },
    {
      "cell_type": "code",
      "metadata": {
        "id": "lvBSLCIfk3tG",
        "colab_type": "code",
        "colab": {}
      },
      "source": [
        ""
      ],
      "execution_count": null,
      "outputs": []
    }
  ]
}