{
  "nbformat": 4,
  "nbformat_minor": 0,
  "metadata": {
    "colab": {
      "name": "Assignment_14(12_06_2020).ipynb",
      "provenance": [],
      "include_colab_link": true
    },
    "kernelspec": {
      "name": "python3",
      "display_name": "Python 3"
    }
  },
  "cells": [
    {
      "cell_type": "markdown",
      "metadata": {
        "id": "view-in-github",
        "colab_type": "text"
      },
      "source": [
        "<a href=\"https://colab.research.google.com/github/konerulokesh25/ai-ml/blob/master/Assignment_14(12_06_2020).ipynb\" target=\"_parent\"><img src=\"https://colab.research.google.com/assets/colab-badge.svg\" alt=\"Open In Colab\"/></a>"
      ]
    },
    {
      "cell_type": "markdown",
      "metadata": {
        "id": "NdP3qfsNERQ1",
        "colab_type": "text"
      },
      "source": [
        "**CSE-221710313026-K.LOKESH**"
      ]
    },
    {
      "cell_type": "code",
      "metadata": {
        "id": "gcKATYKvEWOv",
        "colab_type": "code",
        "outputId": "0b8e8c08-c8ed-42b7-8413-8673625bd98a",
        "colab": {
          "base_uri": "https://localhost:8080/",
          "height": 170
        }
      },
      "source": [
        "#7.\n",
        "def L(x):\n",
        "    return x[1:]+x[0]\n",
        "def R(x):\n",
        "    return x[len(x)-1]+x[0:len(x)-1]\n",
        "t=int(input())\n",
        "list1=[input() for i in range(t)]\n",
        "for i in list1:\n",
        "    print(\"YES\") if L(i) == R(i) else print(\"NO\")"
      ],
      "execution_count": 0,
      "outputs": [
        {
          "output_type": "stream",
          "text": [
            "4\n",
            "a\n",
            "ab\n",
            "abcd\n",
            "aaaa\n",
            "YES\n",
            "YES\n",
            "NO\n",
            "YES\n"
          ],
          "name": "stdout"
        }
      ]
    },
    {
      "cell_type": "code",
      "metadata": {
        "id": "xtXw2A4tEkKX",
        "colab_type": "code",
        "outputId": "9999e22a-0268-4fca-8974-3d002bc57cdc",
        "colab": {
          "base_uri": "https://localhost:8080/",
          "height": 34
        }
      },
      "source": [
        "#8.\n",
        "def groups_per_user(group_dictionary):\n",
        "    user_groups={}\n",
        "    for group,users in group_dictionary.items():\n",
        "        for user in users:\n",
        "            if user not in user_groups:\n",
        "                user_groups[user]=[]\n",
        "            user_groups[user].append(group)\n",
        "    return user_groups\n",
        "print(groups_per_user({\"local\":[\"admin\",\"userA\"],\"public\":[\"admin\",\"userB\"],\"administrator\":[\"admin\"]}))"
      ],
      "execution_count": 0,
      "outputs": [
        {
          "output_type": "stream",
          "text": [
            "{'admin': ['local', 'public', 'administrator'], 'userA': ['local'], 'userB': ['public']}\n"
          ],
          "name": "stdout"
        }
      ]
    },
    {
      "cell_type": "code",
      "metadata": {
        "id": "s_--UrsEEsHB",
        "colab_type": "code",
        "outputId": "5b1b043d-b3b5-490f-e3bc-85006decb30b",
        "colab": {
          "base_uri": "https://localhost:8080/",
          "height": 68
        }
      },
      "source": [
        "#9.\n",
        "s=input()\n",
        "s1=s.split(',')\n",
        "print(s1)\n",
        "a={}\n",
        "b={}\n",
        "al=[]\n",
        "bl=[]\n",
        "for i in s1:\n",
        "    a1=list(i.split())\n",
        "    a[a1[0]]=int(a1[1])\n",
        "    b[a1[0]]=int(a1[2])\n",
        "a1 = sorted(a.items(), key=lambda x: x[1],reverse=True)\n",
        "b1 = sorted(b.items(), key=lambda x: x[1])\n",
        "for i in a1:\n",
        "    al.append(i[0])\n",
        "for i in b1:\n",
        "    bl.append(i[0])\n",
        "for i in range(0,len(a1)):\n",
        "    if(al[i]==bl[i]):\n",
        "        print(al[i],end=\" \")"
      ],
      "execution_count": 0,
      "outputs": [
        {
          "output_type": "stream",
          "text": [
            "london 40000 12,chicago 60000 20, munich 50000 15, paris 70000 5\n",
            "['london 40000 12', 'chicago 60000 20', ' munich 50000 15', ' paris 70000 5']\n",
            "paris munich "
          ],
          "name": "stdout"
        }
      ]
    },
    {
      "cell_type": "code",
      "metadata": {
        "id": "4cT1VWkGFI0k",
        "colab_type": "code",
        "outputId": "b1acec5a-884f-42cc-caaf-a49aef80cd7b",
        "colab": {
          "base_uri": "https://localhost:8080/",
          "height": 51
        }
      },
      "source": [
        "#10.\n",
        "cap = (8,5,3)\n",
        "x = cap[0]\n",
        "y = cap[1]\n",
        "z = cap[2]\n",
        "memory = {}\n",
        "answer = []\n",
        "\n",
        "def get_all_states(state):\n",
        "    a = state[0]\n",
        "    b = state[1]\n",
        "    c = state[2]\n",
        "    if(a==4 and b==4):\n",
        "        answer.append(state)\n",
        "        return True\n",
        "    if((a,b,c) in memory):\n",
        "        return False\n",
        "    memory[(a,b,c)] = 1\n",
        "    if(a>0):\n",
        "        if(a+b<=y):\n",
        "            if( get_all_states((0,a+b,c)) ):\n",
        "                answer.append(state)\n",
        "                return True\n",
        "        else:\n",
        "            if( get_all_states((a-(y-b), y, c)) ):\n",
        "                answer.append(state)\n",
        "                return True\n",
        "        if(a+c<=z):\n",
        "            if( get_all_states((0,b,a+c)) ):\n",
        "                answer.append(state)\n",
        "                return True\n",
        "        else:\n",
        "          if( get_all_states((a-(z-c), b, z)) ):\n",
        "                answer.append(state)\n",
        "                return True\n",
        "    if(b>0):\n",
        "        if(a+b<=x):\n",
        "            if( get_all_states((a+b, 0, c)) ):\n",
        "                answer.append(state)\n",
        "                return True\n",
        "        else:\n",
        "            if( get_all_states((x, b-(x-a), c)) ):\n",
        "                answer.append(state)\n",
        "                return True\n",
        "        if(b+c<=z):\n",
        "            if( get_all_states((a, 0, b+c)) ):\n",
        "                answer.append(state)\n",
        "                return True\n",
        "        else:\n",
        "            if( get_all_states((a, b-(z-c), z)) ):\n",
        "                answer.append(state)\n",
        "                return True\n",
        "    if(c>0):\n",
        "        if(a+c<=x):\n",
        "            if( get_all_states((a+c, b, 0)) ):\n",
        "                ans.append(state)\n",
        "                return True\n",
        "        else:\n",
        "            if( get_all_states((x, b, c-(x-a))) ):\n",
        "                answer.append(state)\n",
        "                return True\n",
        "        if(b+c<=y):\n",
        "            if( get_all_states((a, b+c, 0)) ):\n",
        "                answer.append(state)\n",
        "                return True\n",
        "        else:\n",
        "          if( get_all_states((a, y, c-(y-b))) ):\n",
        "                answer.append(state)\n",
        "                return True\n",
        "    return False\n",
        "\n",
        "initial_state = (8,0,0)\n",
        "get_all_states(initial_state)\n",
        "answer.reverse()\n",
        "print(answer)\n",
        "print(len(answer))"
      ],
      "execution_count": 0,
      "outputs": [
        {
          "output_type": "stream",
          "text": [
            "[(8, 0, 0), (3, 5, 0), (0, 5, 3), (5, 0, 3), (5, 3, 0), (2, 3, 3), (2, 5, 1), (7, 0, 1), (7, 1, 0), (4, 1, 3), (4, 4, 0)]\n",
            "11\n"
          ],
          "name": "stdout"
        }
      ]
    },
    {
      "cell_type": "code",
      "metadata": {
        "id": "V_L2lAMnFdIl",
        "colab_type": "code",
        "colab": {}
      },
      "source": [
        ""
      ],
      "execution_count": 0,
      "outputs": []
    },
    {
      "cell_type": "code",
      "metadata": {
        "id": "mCQsd8XuFdVd",
        "colab_type": "code",
        "colab": {}
      },
      "source": [
        ""
      ],
      "execution_count": 0,
      "outputs": []
    }
  ]
}