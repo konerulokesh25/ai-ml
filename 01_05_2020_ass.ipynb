{
  "nbformat": 4,
  "nbformat_minor": 0,
  "metadata": {
    "colab": {
      "name": "01-05-2020 ass.ipynb",
      "provenance": [],
      "authorship_tag": "ABX9TyNjoOqe1SFu9YILvyWGRcOQ",
      "include_colab_link": true
    },
    "kernelspec": {
      "name": "python3",
      "display_name": "Python 3"
    }
  },
  "cells": [
    {
      "cell_type": "markdown",
      "metadata": {
        "id": "view-in-github",
        "colab_type": "text"
      },
      "source": [
        "<a href=\"https://colab.research.google.com/github/konerulokesh25/ai-ml/blob/master/01_05_2020_ass.ipynb\" target=\"_parent\"><img src=\"https://colab.research.google.com/assets/colab-badge.svg\" alt=\"Open In Colab\"/></a>"
      ]
    },
    {
      "cell_type": "code",
      "metadata": {
        "id": "K7VNVI4BP3xV",
        "colab_type": "code",
        "colab": {
          "base_uri": "https://localhost:8080/",
          "height": 362
        },
        "outputId": "27b39549-22ff-4ed1-cdcc-37ef4c286b37"
      },
      "source": [
        "import random\n",
        "a=['happy','sad','sleepy','annoy','dizzy','busy','famous','amazing','fancy','motionless']\n",
        "b=['dog','cat','rat','horse','bird','cow','dinosaur','ox','cow','buffalo']\n",
        "c=('!','@','#','$','(',')','*','+','-','.','/',':',';','<','=')\n",
        "while(True):\n",
        "    d=input(\"Enter yes if password is correct and no if the password is incorrect\")\n",
        "    if(d=='no'):\n",
        "        print(random.choice(a)+random.choice(b)+str(random.randint(1,10))+random.choice(c))\n",
        "    else:\n",
        "        break"
      ],
      "execution_count": 0,
      "outputs": [
        {
          "output_type": "stream",
          "text": [
            "Enter yes if password is correct and no if the password is incorrectno\n",
            "busybuffalo4#\n",
            "Enter yes if password is correct and no if the password is incorrectno\n",
            "busydog1(\n",
            "Enter yes if password is correct and no if the password is incorrectno\n",
            "amazingdinosaur4!\n",
            "Enter yes if password is correct and no if the password is incorrectno\n",
            "saddog4:\n",
            "Enter yes if password is correct and no if the password is incorrectno\n",
            "famouscow9(\n",
            "Enter yes if password is correct and no if the password is incorrectno\n",
            "dizzyhorse3-\n",
            "Enter yes if password is correct and no if the password is incorrectno\n",
            "amazinghorse8-\n",
            "Enter yes if password is correct and no if the password is incorrectno\n",
            "fancyhorse4(\n",
            "Enter yes if password is correct and no if the password is incorrectno\n",
            "annoydinosaur4<\n"
          ],
          "name": "stdout"
        }
      ]
    },
    {
      "cell_type": "markdown",
      "metadata": {
        "id": "Stlb7nMUQl6i",
        "colab_type": "text"
      },
      "source": [
        "#5. creating the folder--> 5files\n"
      ]
    },
    {
      "cell_type": "code",
      "metadata": {
        "id": "OutYjCdwQQIp",
        "colab_type": "code",
        "colab": {}
      },
      "source": [
        "import os \n",
        "import string\n",
        "import random\n",
        "#os.mkdir(\"python class\")\n",
        "for i in range (1,6):\n",
        "    file_name = \"C:\\\\Users\\\\DELL\\\\Desktop\\\\Internship\\\\Data Science\\\\python class\\\\file%d\"%(i)\n",
        "    f = open(file_name,\"a\")\n",
        "    data = \"\"\n",
        "    for i in range(512):\n",
        "        data = data + random.choice(string.ascii_letters) \n",
        "    f.write(data)\n",
        "    f.close()\n"
      ],
      "execution_count": 0,
      "outputs": []
    }
  ]
}