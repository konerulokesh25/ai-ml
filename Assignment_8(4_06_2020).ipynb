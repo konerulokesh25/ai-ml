{
  "nbformat": 4,
  "nbformat_minor": 0,
  "metadata": {
    "colab": {
      "name": "Assignment 8(4-06-2020).ipynb",
      "provenance": [],
      "authorship_tag": "ABX9TyOK5rVfB7laDFmBuE3megQf",
      "include_colab_link": true
    },
    "kernelspec": {
      "name": "python3",
      "display_name": "Python 3"
    }
  },
  "cells": [
    {
      "cell_type": "markdown",
      "metadata": {
        "id": "view-in-github",
        "colab_type": "text"
      },
      "source": [
        "<a href=\"https://colab.research.google.com/github/konerulokesh25/ai-ml/blob/master/Assignment_8(4_06_2020).ipynb\" target=\"_parent\"><img src=\"https://colab.research.google.com/assets/colab-badge.svg\" alt=\"Open In Colab\"/></a>"
      ]
    },
    {
      "cell_type": "code",
      "metadata": {
        "id": "AH_NsqoB1_fT",
        "colab_type": "code",
        "colab": {
          "base_uri": "https://localhost:8080/",
          "height": 51
        },
        "outputId": "1daceabf-82c6-49d8-a602-114895506a7c"
      },
      "source": [
        "#reverse of numpy array\n",
        "import numpy as np\n",
        "arr1=np.arange(12,37)\n",
        "result=arr1[::-1]\n",
        "result"
      ],
      "execution_count": 1,
      "outputs": [
        {
          "output_type": "execute_result",
          "data": {
            "text/plain": [
              "array([36, 35, 34, 33, 32, 31, 30, 29, 28, 27, 26, 25, 24, 23, 22, 21, 20,\n",
              "       19, 18, 17, 16, 15, 14, 13, 12])"
            ]
          },
          "metadata": {
            "tags": []
          },
          "execution_count": 1
        }
      ]
    },
    {
      "cell_type": "code",
      "metadata": {
        "id": "FKRAiFal2PsU",
        "colab_type": "code",
        "colab": {
          "base_uri": "https://localhost:8080/",
          "height": 34
        },
        "outputId": "30de302f-bf0f-4fce-a0bc-d033d4845fcb"
      },
      "source": [
        "#3 comparsion\n",
        "a=np.array([0,10,20,30,40,50,60])\n",
        "b=np.array([0,40])\n",
        "print(np.in1d(a,b))"
      ],
      "execution_count": 2,
      "outputs": [
        {
          "output_type": "stream",
          "text": [
            "[ True False False False  True False False]\n"
          ],
          "name": "stdout"
        }
      ]
    },
    {
      "cell_type": "code",
      "metadata": {
        "id": "HjW38XBG2UGs",
        "colab_type": "code",
        "colab": {
          "base_uri": "https://localhost:8080/",
          "height": 204
        },
        "outputId": "0d5b0980-8480-4462-b20d-92ee88dfbc5a"
      },
      "source": [
        "#2.Write a NumPy program to create a 2d array with 1 on the border and 0 inside. \n",
        "x = np.ones((5,5))\n",
        "print(x)\n",
        "print(\"1 on the border and 0 inside in the array\")\n",
        "x[1:-1,1:-1] = 0\n",
        "print(x)"
      ],
      "execution_count": 3,
      "outputs": [
        {
          "output_type": "stream",
          "text": [
            "[[1. 1. 1. 1. 1.]\n",
            " [1. 1. 1. 1. 1.]\n",
            " [1. 1. 1. 1. 1.]\n",
            " [1. 1. 1. 1. 1.]\n",
            " [1. 1. 1. 1. 1.]]\n",
            "1 on the border and 0 inside in the array\n",
            "[[1. 1. 1. 1. 1.]\n",
            " [1. 0. 0. 0. 1.]\n",
            " [1. 0. 0. 0. 1.]\n",
            " [1. 0. 0. 0. 1.]\n",
            " [1. 1. 1. 1. 1.]]\n"
          ],
          "name": "stdout"
        }
      ]
    },
    {
      "cell_type": "code",
      "metadata": {
        "id": "o1qQ7L_V2WDU",
        "colab_type": "code",
        "colab": {
          "base_uri": "https://localhost:8080/",
          "height": 85
        },
        "outputId": "abee4159-570e-4a6a-fb2e-3e020e3abc08"
      },
      "source": [
        "#4. Write a NumPy program to find the set difference of two arrays.\n",
        "array1 = np.array([0, 10, 20, 40, 60, 80])\n",
        "print(array1)\n",
        "array2 = [10, 30, 40, 50, 70]\n",
        "print(array2)\n",
        "print(\"Unique values in array1 that are not in array2:\")\n",
        "print(np.setdiff1d(array1, array2))"
      ],
      "execution_count": 4,
      "outputs": [
        {
          "output_type": "stream",
          "text": [
            "[ 0 10 20 40 60 80]\n",
            "[10, 30, 40, 50, 70]\n",
            "Unique values in array1 that are not in array2:\n",
            "[ 0 20 60 80]\n"
          ],
          "name": "stdout"
        }
      ]
    },
    {
      "cell_type": "code",
      "metadata": {
        "id": "p7I0wc4r2a8F",
        "colab_type": "code",
        "colab": {
          "base_uri": "https://localhost:8080/",
          "height": 85
        },
        "outputId": "c6675109-7cc2-4e74-de66-69a4ebd5af05"
      },
      "source": [
        "#5.Write a NumPy program to create a 2-D array whose diagonal equals [4, 5, 6, 8] and 0's elsewhere.\n",
        "x =  np.diagflat([4, 5, 6, 8])\n",
        "print(x)"
      ],
      "execution_count": 5,
      "outputs": [
        {
          "output_type": "stream",
          "text": [
            "[[4 0 0 0]\n",
            " [0 5 0 0]\n",
            " [0 0 6 0]\n",
            " [0 0 0 8]]\n"
          ],
          "name": "stdout"
        }
      ]
    }
  ]
}