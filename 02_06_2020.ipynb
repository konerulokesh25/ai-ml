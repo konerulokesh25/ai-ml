{
  "nbformat": 4,
  "nbformat_minor": 0,
  "metadata": {
    "kernelspec": {
      "display_name": "Python 3",
      "language": "python",
      "name": "python3"
    },
    "language_info": {
      "codemirror_mode": {
        "name": "ipython",
        "version": 3
      },
      "file_extension": ".py",
      "mimetype": "text/x-python",
      "name": "python",
      "nbconvert_exporter": "python",
      "pygments_lexer": "ipython3",
      "version": "3.7.6"
    },
    "colab": {
      "name": "02-06-2020.ipynb",
      "provenance": [],
      "include_colab_link": true
    }
  },
  "cells": [
    {
      "cell_type": "markdown",
      "metadata": {
        "id": "view-in-github",
        "colab_type": "text"
      },
      "source": [
        "<a href=\"https://colab.research.google.com/github/konerulokesh25/ai-ml/blob/master/02_06_2020.ipynb\" target=\"_parent\"><img src=\"https://colab.research.google.com/assets/colab-badge.svg\" alt=\"Open In Colab\"/></a>"
      ]
    },
    {
      "cell_type": "code",
      "metadata": {
        "id": "T--DTnuinnRG",
        "colab_type": "code",
        "colab": {},
        "outputId": "3d3c39e8-4830-4942-cf1c-8ab7b9cef4ba"
      },
      "source": [
        "pwd"
      ],
      "execution_count": null,
      "outputs": [
        {
          "output_type": "execute_result",
          "data": {
            "text/plain": [
              "'C:\\\\Users\\\\saivetukuri\\\\Desktop\\\\Dhyanahita(AI-ML) Internship'"
            ]
          },
          "metadata": {
            "tags": []
          },
          "execution_count": 1
        }
      ]
    },
    {
      "cell_type": "code",
      "metadata": {
        "id": "tWc_On_nnnRN",
        "colab_type": "code",
        "colab": {},
        "outputId": "e80f7ace-8ff0-4e89-a75a-993b6f1a626e"
      },
      "source": [
        "import string\n",
        "import random\n",
        "print(random.choice(string.ascii_letters))"
      ],
      "execution_count": null,
      "outputs": [
        {
          "output_type": "stream",
          "text": [
            "b\n"
          ],
          "name": "stdout"
        }
      ]
    },
    {
      "cell_type": "code",
      "metadata": {
        "id": "aF8i_x9unnRS",
        "colab_type": "code",
        "colab": {},
        "outputId": "5ca59a40-4793-460a-d25a-bf10fd76daeb"
      },
      "source": [
        "data=\"\"\n",
        "for i in range(512):\n",
        "    data=data+random.choice(string.ascii_letters)\n",
        "print(data)"
      ],
      "execution_count": null,
      "outputs": [
        {
          "output_type": "stream",
          "text": [
            "BlSJucfZZVOxldIVRXcXbfubsUplKpiicEjTdpYBApvJrbRLDHNtiWYFJJsyNskyCxqeWeneSfCqruZlcNBYXElzWZZIndyCPoJTWtGAzZJoaGMYDnLiNwvhxTtWoyjpimngQGQAieLXwtPEAAEjZmOgWbDsPqmhIBgBQWWtNbNfpSstMIYRXaKhQuPGSyblwFVwmCYvCdjqfXQpqMGJWtxvkGbVmUpWHDhNhpMMyzWMOeqidZnDIwPkiZkEZAJqKIKpVaFdfihNkqtySkFdQRXNMadKqPJAWHbPwKAXWlsPZSZFCctcoWfzJHNlaerWhYoXKsyWlHOWHESsQJipVFESjpejkDTwdLnRkejxkHWNscHlqQmufSYLcIojhSZQnIDOSJzDfRaaKRsuAIOHCaiiqiIsgjZgQlbmnuPJZfLUCwHPWjqytrljPalzjxxuCRGOkGnoPppNoHsCsezTvjAELzUafuFxVMQoxhTfPdMVmsWpejkkVffDehlKuHbK\n"
          ],
          "name": "stdout"
        }
      ]
    },
    {
      "cell_type": "code",
      "metadata": {
        "id": "UUuECL03nnRW",
        "colab_type": "code",
        "colab": {},
        "outputId": "a418e641-6a59-4894-a745-c3cbe6732c1b"
      },
      "source": [
        "list1=list(range(1,11))\n",
        "print(list1)\n"
      ],
      "execution_count": null,
      "outputs": [
        {
          "output_type": "stream",
          "text": [
            "[1, 2, 3, 4, 5, 6, 7, 8, 9, 10]\n"
          ],
          "name": "stdout"
        }
      ]
    },
    {
      "cell_type": "code",
      "metadata": {
        "id": "gLmniWAQnnRb",
        "colab_type": "code",
        "colab": {},
        "outputId": "3693f6db-1d6f-46c5-f4ec-c9006bccd59b"
      },
      "source": [
        "list1=[i for i in range(1,11) if i%2==0]\n",
        "print(list1)"
      ],
      "execution_count": null,
      "outputs": [
        {
          "output_type": "stream",
          "text": [
            "[2, 4, 6, 8, 10]\n"
          ],
          "name": "stdout"
        }
      ]
    },
    {
      "cell_type": "code",
      "metadata": {
        "id": "8LjtwbCrnnRf",
        "colab_type": "code",
        "colab": {},
        "outputId": "076b658f-8fb1-4286-ac5b-aaadc7bf2104"
      },
      "source": [
        "square = lambda x:x*x\n",
        "print(square(4))"
      ],
      "execution_count": null,
      "outputs": [
        {
          "output_type": "stream",
          "text": [
            "16\n"
          ],
          "name": "stdout"
        }
      ]
    },
    {
      "cell_type": "code",
      "metadata": {
        "id": "ghCr9OrCnnRj",
        "colab_type": "code",
        "colab": {},
        "outputId": "2051924b-6d3e-46c1-d222-35c1dd882114"
      },
      "source": [
        "#Accept string as an input and return or print all the digits and count of the digits using list comprehension\n",
        "# input : \"Hello 12345\"\n",
        "#output : ['1','2','3','4','5'],5\n",
        "s=input(\"enter the string\")\n",
        "d=[i for i in s if i.isdigit()]\n",
        "print(d,\",\",len(d))"
      ],
      "execution_count": null,
      "outputs": [
        {
          "output_type": "stream",
          "text": [
            "enter the stringHello 12345\n",
            "['1', '2', '3', '4', '5'] , 5\n"
          ],
          "name": "stdout"
        }
      ]
    },
    {
      "cell_type": "code",
      "metadata": {
        "id": "fVIPHvJennRo",
        "colab_type": "code",
        "colab": {},
        "outputId": "a870f296-7daf-435d-9798-39b215b04d39"
      },
      "source": [
        "list5=list(range(1,11))\n",
        "list6=list(range(11,21))\n",
        "print(list5+list6)"
      ],
      "execution_count": null,
      "outputs": [
        {
          "output_type": "stream",
          "text": [
            "[1, 2, 3, 4, 5, 6, 7, 8, 9, 10, 11, 12, 13, 14, 15, 16, 17, 18, 19, 20]\n"
          ],
          "name": "stdout"
        }
      ]
    },
    {
      "cell_type": "code",
      "metadata": {
        "id": "ed51AeocnnRt",
        "colab_type": "code",
        "colab": {},
        "outputId": "b61a9894-7892-4389-b514-6eaf5c01bb92"
      },
      "source": [
        "list7=[i for i in list5+list6 if i>10 and i%2==0]\n",
        "print(list7)"
      ],
      "execution_count": null,
      "outputs": [
        {
          "output_type": "stream",
          "text": [
            "[12, 14, 16, 18, 20]\n"
          ],
          "name": "stdout"
        }
      ]
    },
    {
      "cell_type": "code",
      "metadata": {
        "id": "4njx8e-1nnRx",
        "colab_type": "code",
        "colab": {},
        "outputId": "eeb01b7d-a769-497b-c26f-e6f1b2e5d30f"
      },
      "source": [
        "list8=[list5[i]+list6[i] for i in range(0,len(list5)) ]\n",
        "list8"
      ],
      "execution_count": null,
      "outputs": [
        {
          "output_type": "execute_result",
          "data": {
            "text/plain": [
              "[12, 14, 16, 18, 20, 22, 24, 26, 28, 30]"
            ]
          },
          "metadata": {
            "tags": []
          },
          "execution_count": 46
        }
      ]
    },
    {
      "cell_type": "code",
      "metadata": {
        "id": "QSyyjpqUnnR1",
        "colab_type": "code",
        "colab": {},
        "outputId": "7e150e03-fa67-4e9b-91d9-a860068ec206"
      },
      "source": [
        "#zip()\n",
        "result=[x+y for x,y in zip(list5,list6)]\n",
        "print(result)\n",
        "    "
      ],
      "execution_count": null,
      "outputs": [
        {
          "output_type": "stream",
          "text": [
            "[12, 14, 16, 18, 20, 22, 24, 26, 28, 30]\n"
          ],
          "name": "stdout"
        }
      ]
    },
    {
      "cell_type": "markdown",
      "metadata": {
        "id": "ruGop7THnnR5",
        "colab_type": "text"
      },
      "source": [
        "### Anonymous function(lambda functions)\n",
        "\n",
        "```lambda arguments: logic```"
      ]
    },
    {
      "cell_type": "code",
      "metadata": {
        "id": "fnN1gjgTnnR6",
        "colab_type": "code",
        "colab": {}
      },
      "source": [
        "s=lambda x : x**2"
      ],
      "execution_count": null,
      "outputs": []
    },
    {
      "cell_type": "code",
      "metadata": {
        "id": "gFoWM4tKnnR-",
        "colab_type": "code",
        "colab": {},
        "outputId": "ef6d14fd-e0fd-4488-8008-001d12e5383b"
      },
      "source": [
        "s(12)"
      ],
      "execution_count": null,
      "outputs": [
        {
          "output_type": "execute_result",
          "data": {
            "text/plain": [
              "144"
            ]
          },
          "metadata": {
            "tags": []
          },
          "execution_count": 50
        }
      ]
    },
    {
      "cell_type": "code",
      "metadata": {
        "id": "KDAS-WP5nnSB",
        "colab_type": "code",
        "colab": {},
        "outputId": "82bcee61-29ae-49af-c434-ef718be84463"
      },
      "source": [
        "s(4)"
      ],
      "execution_count": null,
      "outputs": [
        {
          "output_type": "execute_result",
          "data": {
            "text/plain": [
              "16"
            ]
          },
          "metadata": {
            "tags": []
          },
          "execution_count": 51
        }
      ]
    },
    {
      "cell_type": "code",
      "metadata": {
        "id": "RHfxG02gnnSG",
        "colab_type": "code",
        "colab": {},
        "outputId": "a4d585e7-619f-4575-a0d6-252a881b7602"
      },
      "source": [
        "add = lambda x,y : x+y\n",
        "add(10,20)"
      ],
      "execution_count": null,
      "outputs": [
        {
          "output_type": "execute_result",
          "data": {
            "text/plain": [
              "30"
            ]
          },
          "metadata": {
            "tags": []
          },
          "execution_count": 52
        }
      ]
    },
    {
      "cell_type": "markdown",
      "metadata": {
        "id": "Aa_bLPWKnnSK",
        "colab_type": "text"
      },
      "source": [
        "### map()"
      ]
    },
    {
      "cell_type": "code",
      "metadata": {
        "id": "SNwj4picnnSL",
        "colab_type": "code",
        "colab": {},
        "outputId": "b77e5d59-5061-4de5-b7b0-1a6641030bd7"
      },
      "source": [
        "list6=list(range(1,11))\n",
        "print(list6)"
      ],
      "execution_count": null,
      "outputs": [
        {
          "output_type": "stream",
          "text": [
            "[1, 2, 3, 4, 5, 6, 7, 8, 9, 10]\n"
          ],
          "name": "stdout"
        }
      ]
    },
    {
      "cell_type": "code",
      "metadata": {
        "id": "6ZiEIKnMnnSO",
        "colab_type": "code",
        "colab": {},
        "outputId": "31a99eff-7d05-42c0-8eda-7cecca32a746"
      },
      "source": [
        "#output: [2,4,6,8,10,12,14,16,18,20]\n",
        "result=[i*2 for i in list6]\n",
        "print(result)"
      ],
      "execution_count": null,
      "outputs": [
        {
          "output_type": "stream",
          "text": [
            "[2, 4, 6, 8, 10, 12, 14, 16, 18, 20]\n"
          ],
          "name": "stdout"
        }
      ]
    },
    {
      "cell_type": "code",
      "metadata": {
        "id": "-d0kZGRPnnSS",
        "colab_type": "code",
        "colab": {},
        "outputId": "f3693514-740b-4c98-87cf-fcc50073681b"
      },
      "source": [
        "#map(function_name,iterable object)\n",
        "result = list(map(lambda i: i*2,list6))\n",
        "result"
      ],
      "execution_count": null,
      "outputs": [
        {
          "output_type": "execute_result",
          "data": {
            "text/plain": [
              "[2, 4, 6, 8, 10, 12, 14, 16, 18, 20]"
            ]
          },
          "metadata": {
            "tags": []
          },
          "execution_count": 58
        }
      ]
    },
    {
      "cell_type": "code",
      "metadata": {
        "id": "aW4RHFoennSX",
        "colab_type": "code",
        "colab": {},
        "outputId": "5af4d54d-fd9b-45db-d434-933518366d6a"
      },
      "source": [
        "x,y,z=map(int,input().split())\n",
        "print(x,y,z)"
      ],
      "execution_count": null,
      "outputs": [
        {
          "output_type": "stream",
          "text": [
            "10 20 30\n",
            "10 20 30\n"
          ],
          "name": "stdout"
        }
      ]
    },
    {
      "cell_type": "code",
      "metadata": {
        "id": "29qdWabSnnSc",
        "colab_type": "code",
        "colab": {},
        "outputId": "7c73f60a-1487-4c22-c29d-8039476d5e40"
      },
      "source": [
        "'10 20 30'.split()"
      ],
      "execution_count": null,
      "outputs": [
        {
          "output_type": "execute_result",
          "data": {
            "text/plain": [
              "['10', '20', '30']"
            ]
          },
          "metadata": {
            "tags": []
          },
          "execution_count": 60
        }
      ]
    },
    {
      "cell_type": "code",
      "metadata": {
        "id": "pHmpRw6_nnSg",
        "colab_type": "code",
        "colab": {},
        "outputId": "9817066b-dd6c-4baf-f94c-e9224b5ae0b2"
      },
      "source": [
        "#unpacking\n",
        "x,y,z=list(map(int,input().split()))\n",
        "print(x,y,z)"
      ],
      "execution_count": null,
      "outputs": [
        {
          "output_type": "stream",
          "text": [
            "10 20 30\n",
            "10 20 30\n"
          ],
          "name": "stdout"
        }
      ]
    },
    {
      "cell_type": "markdown",
      "metadata": {
        "id": "fPeCmr5bnnSj",
        "colab_type": "text"
      },
      "source": [
        "### filter()"
      ]
    },
    {
      "cell_type": "code",
      "metadata": {
        "id": "pIhAwFLlnnSj",
        "colab_type": "code",
        "colab": {},
        "outputId": "f56e4139-7331-4887-c95e-dee491d75030"
      },
      "source": [
        "list6"
      ],
      "execution_count": null,
      "outputs": [
        {
          "output_type": "execute_result",
          "data": {
            "text/plain": [
              "[1, 2, 3, 4, 5, 6, 7, 8, 9, 10]"
            ]
          },
          "metadata": {
            "tags": []
          },
          "execution_count": 62
        }
      ]
    },
    {
      "cell_type": "code",
      "metadata": {
        "id": "xlI0tHOXnnSn",
        "colab_type": "code",
        "colab": {},
        "outputId": "089e4ce0-e9f8-4280-c82d-36d1aa09349e"
      },
      "source": [
        "list(filter(lambda x: (x%5==0),list6))"
      ],
      "execution_count": null,
      "outputs": [
        {
          "output_type": "execute_result",
          "data": {
            "text/plain": [
              "[5, 10]"
            ]
          },
          "metadata": {
            "tags": []
          },
          "execution_count": 65
        }
      ]
    },
    {
      "cell_type": "code",
      "metadata": {
        "id": "7Y1qwWV3nnSq",
        "colab_type": "code",
        "colab": {},
        "outputId": "fb23189f-08fb-4c7a-b461-a59eb54ef3a2"
      },
      "source": [
        "list(filter(lambda x: (x%3==0),list6))"
      ],
      "execution_count": null,
      "outputs": [
        {
          "output_type": "execute_result",
          "data": {
            "text/plain": [
              "[3, 6, 9]"
            ]
          },
          "metadata": {
            "tags": []
          },
          "execution_count": 66
        }
      ]
    },
    {
      "cell_type": "markdown",
      "metadata": {
        "id": "hXnrNhHGnnSt",
        "colab_type": "text"
      },
      "source": [
        "### reduce()"
      ]
    },
    {
      "cell_type": "code",
      "metadata": {
        "id": "GVRvjB07nnSu",
        "colab_type": "code",
        "colab": {},
        "outputId": "7d60fba4-f9d8-469b-a05e-d233527b250f"
      },
      "source": [
        "from functools import reduce\n",
        "list1=[1,2,3,4,5]\n",
        "reduce(lambda x,y: x*y,list1)\n"
      ],
      "execution_count": null,
      "outputs": [
        {
          "output_type": "execute_result",
          "data": {
            "text/plain": [
              "120"
            ]
          },
          "metadata": {
            "tags": []
          },
          "execution_count": 70
        }
      ]
    },
    {
      "cell_type": "code",
      "metadata": {
        "id": "xA_5QcjhnnSz",
        "colab_type": "code",
        "colab": {}
      },
      "source": [
        ""
      ],
      "execution_count": null,
      "outputs": []
    }
  ]
}