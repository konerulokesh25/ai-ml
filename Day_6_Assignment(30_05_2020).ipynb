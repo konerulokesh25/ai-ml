{
  "nbformat": 4,
  "nbformat_minor": 0,
  "metadata": {
    "kernelspec": {
      "display_name": "Python 3",
      "language": "python",
      "name": "python3"
    },
    "language_info": {
      "codemirror_mode": {
        "name": "ipython",
        "version": 3
      },
      "file_extension": ".py",
      "mimetype": "text/x-python",
      "name": "python",
      "nbconvert_exporter": "python",
      "pygments_lexer": "ipython3",
      "version": "3.7.3"
    },
    "colab": {
      "name": "Day 6 Assignment(30-05-2020).ipynb",
      "provenance": [],
      "include_colab_link": true
    }
  },
  "cells": [
    {
      "cell_type": "markdown",
      "metadata": {
        "id": "view-in-github",
        "colab_type": "text"
      },
      "source": [
        "<a href=\"https://colab.research.google.com/github/konerulokesh25/ai-ml/blob/master/Day_6_Assignment(30_05_2020).ipynb\" target=\"_parent\"><img src=\"https://colab.research.google.com/assets/colab-badge.svg\" alt=\"Open In Colab\"/></a>"
      ]
    },
    {
      "cell_type": "markdown",
      "metadata": {
        "id": "FlPyYGZ5FhNK",
        "colab_type": "text"
      },
      "source": [
        "## CSE-221710313026-k.lokesh\n",
        "### Day 6 Assignment(30-05-2020)"
      ]
    },
    {
      "cell_type": "code",
      "metadata": {
        "id": "otpiTHTjFhNL",
        "colab_type": "code",
        "colab": {}
      },
      "source": [
        "f = open(\"test.txt\",\"w\")\n",
        "f.write('''Hello everyone this is for assignment purpose\n",
        "counting number of lines words letters''')\n",
        "f.close()"
      ],
      "execution_count": 0,
      "outputs": []
    },
    {
      "cell_type": "code",
      "metadata": {
        "id": "T9VPNJ24FhNR",
        "colab_type": "code",
        "colab": {}
      },
      "source": [
        "f=open(\"name.txt\",\"w\")\n",
        "f.write(\"this file is for using remove function\")\n",
        "f.close()"
      ],
      "execution_count": 0,
      "outputs": []
    },
    {
      "cell_type": "code",
      "metadata": {
        "id": "B-huFno7FhNV",
        "colab_type": "code",
        "colab": {},
        "outputId": "044daabf-78f6-4008-8284-f4225c992ac0"
      },
      "source": [
        "#Q1)Count the no.of words,no.of letters,no.of lines available in your file\n",
        "\n",
        "f=open(\"test.txt\",\"r\")\n",
        "data=f.read()\n",
        "words=data.split()\n",
        "l=data.split('\\n')\n",
        "print(\"words:\",len(words),\"\\nCharecters:\",len(data),\"\\nLines:\",len(l))"
      ],
      "execution_count": 0,
      "outputs": [
        {
          "output_type": "stream",
          "text": [
            "words: 13 \n",
            "Charecters: 84 \n",
            "Lines: 2\n"
          ],
          "name": "stdout"
        }
      ]
    },
    {
      "cell_type": "code",
      "metadata": {
        "id": "F4yv1mwvFhNa",
        "colab_type": "code",
        "colab": {}
      },
      "source": [
        "#Q2)Copy the content of one file to another\n",
        "\n",
        "f=open(\"test.txt\")\n",
        "f1=open(\"output.txt\",\"a\")#a is for appending \n",
        "for line in f.readlines():\n",
        "    f1.write(line)\n",
        "f1.close()\n",
        "f.close()\n"
      ],
      "execution_count": 0,
      "outputs": []
    },
    {
      "cell_type": "code",
      "metadata": {
        "id": "-PcksIstFhNd",
        "colab_type": "code",
        "colab": {}
      },
      "source": [
        "# Hello everyone this is for assignment purpose\n",
        "# counting number of lines words letters\n",
        "#this will be displaye in \"output.txt\" file"
      ],
      "execution_count": 0,
      "outputs": []
    },
    {
      "cell_type": "code",
      "metadata": {
        "id": "8zRp2v1tFhNg",
        "colab_type": "code",
        "colab": {},
        "outputId": "6e501b68-02d9-49c5-93f2-c0e1bd551b7f"
      },
      "source": [
        "#Q3)Display the words starting with letter 'p'\n",
        "\n",
        "f=open(\"test.txt\",\"r\")\n",
        "data=f.read()\n",
        "c=0\n",
        "for i in data.split():\n",
        "    if i.startswith('p'):\n",
        "        c=c+1\n",
        "print(\"words starting with P:\",c)        "
      ],
      "execution_count": 0,
      "outputs": [
        {
          "output_type": "stream",
          "text": [
            "words starting with P: 1\n"
          ],
          "name": "stdout"
        }
      ]
    },
    {
      "cell_type": "code",
      "metadata": {
        "id": "hm26tzmDFhNk",
        "colab_type": "code",
        "colab": {},
        "outputId": "e15513c2-82c0-45bf-f9d2-23d7935a8717"
      },
      "source": [
        "#Q4)Rename and remove files\n",
        "\n",
        "import os\n",
        "os.rename(\"test.txt\",\"tes1.txt\")\n",
        "print(\"File Renamed\")\n",
        "os.remove(\"name.txt\")\n",
        "print(\"File Removed!\")"
      ],
      "execution_count": 0,
      "outputs": [
        {
          "output_type": "stream",
          "text": [
            "File Renamed\n",
            "File Removed!\n"
          ],
          "name": "stdout"
        }
      ]
    },
    {
      "cell_type": "code",
      "metadata": {
        "id": "h7UoHediFhNn",
        "colab_type": "code",
        "colab": {}
      },
      "source": [
        ""
      ],
      "execution_count": 0,
      "outputs": []
    }
  ]
}