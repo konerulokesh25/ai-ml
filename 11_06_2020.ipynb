{
  "nbformat": 4,
  "nbformat_minor": 0,
  "metadata": {
    "kernelspec": {
      "display_name": "Python 3",
      "language": "python",
      "name": "python3"
    },
    "language_info": {
      "codemirror_mode": {
        "name": "ipython",
        "version": 3
      },
      "file_extension": ".py",
      "mimetype": "text/x-python",
      "name": "python",
      "nbconvert_exporter": "python",
      "pygments_lexer": "ipython3",
      "version": "3.7.6"
    },
    "colab": {
      "name": "11-06-2020.ipynb",
      "provenance": [],
      "include_colab_link": true
    }
  },
  "cells": [
    {
      "cell_type": "markdown",
      "metadata": {
        "id": "view-in-github",
        "colab_type": "text"
      },
      "source": [
        "<a href=\"https://colab.research.google.com/github/konerulokesh25/ai-ml/blob/master/11_06_2020.ipynb\" target=\"_parent\"><img src=\"https://colab.research.google.com/assets/colab-badge.svg\" alt=\"Open In Colab\"/></a>"
      ]
    },
    {
      "cell_type": "code",
      "metadata": {
        "id": "dud8JFYtrNCF",
        "colab_type": "code",
        "colab": {}
      },
      "source": [
        "import pandas as pd # loading the data "
      ],
      "execution_count": null,
      "outputs": []
    },
    {
      "cell_type": "code",
      "metadata": {
        "id": "xMGcfAR_rNCO",
        "colab_type": "code",
        "colab": {},
        "outputId": "d8b9868d-2421-4e1c-96f5-b707a7b3163c"
      },
      "source": [
        "data = {\"Student ID\":[416,375,400,211,312],\n",
        "\"Communication\":[7,6,5,8,9],\n",
        "\"Placed\":[\"Yes\",\"No\",\"No\",\"Yes\",\"Yes\"]}\n",
        "\n",
        "placement_data  =  pd.DataFrame(data)\n",
        "placement_data"
      ],
      "execution_count": null,
      "outputs": [
        {
          "output_type": "execute_result",
          "data": {
            "text/html": [
              "<div>\n",
              "<style scoped>\n",
              "    .dataframe tbody tr th:only-of-type {\n",
              "        vertical-align: middle;\n",
              "    }\n",
              "\n",
              "    .dataframe tbody tr th {\n",
              "        vertical-align: top;\n",
              "    }\n",
              "\n",
              "    .dataframe thead th {\n",
              "        text-align: right;\n",
              "    }\n",
              "</style>\n",
              "<table border=\"1\" class=\"dataframe\">\n",
              "  <thead>\n",
              "    <tr style=\"text-align: right;\">\n",
              "      <th></th>\n",
              "      <th>Student ID</th>\n",
              "      <th>Communication</th>\n",
              "      <th>Placed</th>\n",
              "    </tr>\n",
              "  </thead>\n",
              "  <tbody>\n",
              "    <tr>\n",
              "      <th>0</th>\n",
              "      <td>416</td>\n",
              "      <td>7</td>\n",
              "      <td>Yes</td>\n",
              "    </tr>\n",
              "    <tr>\n",
              "      <th>1</th>\n",
              "      <td>375</td>\n",
              "      <td>6</td>\n",
              "      <td>No</td>\n",
              "    </tr>\n",
              "    <tr>\n",
              "      <th>2</th>\n",
              "      <td>400</td>\n",
              "      <td>5</td>\n",
              "      <td>No</td>\n",
              "    </tr>\n",
              "    <tr>\n",
              "      <th>3</th>\n",
              "      <td>211</td>\n",
              "      <td>8</td>\n",
              "      <td>Yes</td>\n",
              "    </tr>\n",
              "    <tr>\n",
              "      <th>4</th>\n",
              "      <td>312</td>\n",
              "      <td>9</td>\n",
              "      <td>Yes</td>\n",
              "    </tr>\n",
              "  </tbody>\n",
              "</table>\n",
              "</div>"
            ],
            "text/plain": [
              "   Student ID  Communication Placed\n",
              "0         416              7    Yes\n",
              "1         375              6     No\n",
              "2         400              5     No\n",
              "3         211              8    Yes\n",
              "4         312              9    Yes"
            ]
          },
          "metadata": {
            "tags": []
          },
          "execution_count": 2
        }
      ]
    },
    {
      "cell_type": "markdown",
      "metadata": {
        "id": "sqOe3TnRrNCV",
        "colab_type": "text"
      },
      "source": [
        "### Q1 How to write the logic you mentioned\n",
        "- The communication score should be greater than 6"
      ]
    },
    {
      "cell_type": "code",
      "metadata": {
        "id": "4J1s5KkbrNCX",
        "colab_type": "code",
        "colab": {},
        "outputId": "1b828fe3-624d-46a2-8314-a787cf42e673"
      },
      "source": [
        "placement_data['Communication']>6"
      ],
      "execution_count": null,
      "outputs": [
        {
          "output_type": "execute_result",
          "data": {
            "text/plain": [
              "0     True\n",
              "1    False\n",
              "2    False\n",
              "3     True\n",
              "4     True\n",
              "Name: Communication, dtype: bool"
            ]
          },
          "metadata": {
            "tags": []
          },
          "execution_count": 3
        }
      ]
    },
    {
      "cell_type": "code",
      "metadata": {
        "id": "Jtwru7AjrNCd",
        "colab_type": "code",
        "colab": {}
      },
      "source": [
        "st=[311,6]\n",
        "def placement_prediction(st):\n",
        "    if st[1]>6:\n",
        "        return \"Yes\"\n",
        "    else:\n",
        "        return \"No\"\n"
      ],
      "execution_count": null,
      "outputs": []
    },
    {
      "cell_type": "code",
      "metadata": {
        "id": "pItwh_PHrNCj",
        "colab_type": "code",
        "colab": {},
        "outputId": "0f6713be-cac0-4447-bcb2-6e64ede127d3"
      },
      "source": [
        "placement_prediction(st)"
      ],
      "execution_count": null,
      "outputs": [
        {
          "output_type": "execute_result",
          "data": {
            "text/plain": [
              "'No'"
            ]
          },
          "metadata": {
            "tags": []
          },
          "execution_count": 5
        }
      ]
    },
    {
      "cell_type": "markdown",
      "metadata": {
        "id": "TutJy_TSrNCo",
        "colab_type": "text"
      },
      "source": [
        "# Machine Learning"
      ]
    },
    {
      "cell_type": "markdown",
      "metadata": {
        "id": "wXoEMltGrNCp",
        "colab_type": "text"
      },
      "source": [
        "# Algorithm,Model\n",
        "- Decision Tree Classifier\n",
        "- Available DTC"
      ]
    },
    {
      "cell_type": "markdown",
      "metadata": {
        "id": "v-fPKV9jrNCq",
        "colab_type": "text"
      },
      "source": [
        "# Decision tree classifier\n",
        "- fit(features,target)/fit(inputs,outputs)\n",
        "    - Communication\n",
        "    - Placed\n",
        "- features -2D array\n",
        "- placed - 1d array\n",
        "- predict"
      ]
    },
    {
      "cell_type": "markdown",
      "metadata": {
        "id": "bk1XpAbvrNCr",
        "colab_type": "text"
      },
      "source": [
        "### Get the communication column as 2d Array"
      ]
    },
    {
      "cell_type": "code",
      "metadata": {
        "id": "cpIwmGazrNCs",
        "colab_type": "code",
        "colab": {},
        "outputId": "55f0e0f7-dd14-4ffa-a21c-c1099c4aa812"
      },
      "source": [
        "placement_data['Communication'].shape"
      ],
      "execution_count": null,
      "outputs": [
        {
          "output_type": "execute_result",
          "data": {
            "text/plain": [
              "(5,)"
            ]
          },
          "metadata": {
            "tags": []
          },
          "execution_count": 6
        }
      ]
    },
    {
      "cell_type": "code",
      "metadata": {
        "id": "xdJ9yqlIrNCx",
        "colab_type": "code",
        "colab": {},
        "outputId": "4a525604-b5f9-4e85-b5be-8e382ef968d0"
      },
      "source": [
        "placement_data[['Communication','Placed']]"
      ],
      "execution_count": null,
      "outputs": [
        {
          "output_type": "execute_result",
          "data": {
            "text/html": [
              "<div>\n",
              "<style scoped>\n",
              "    .dataframe tbody tr th:only-of-type {\n",
              "        vertical-align: middle;\n",
              "    }\n",
              "\n",
              "    .dataframe tbody tr th {\n",
              "        vertical-align: top;\n",
              "    }\n",
              "\n",
              "    .dataframe thead th {\n",
              "        text-align: right;\n",
              "    }\n",
              "</style>\n",
              "<table border=\"1\" class=\"dataframe\">\n",
              "  <thead>\n",
              "    <tr style=\"text-align: right;\">\n",
              "      <th></th>\n",
              "      <th>Communication</th>\n",
              "      <th>Placed</th>\n",
              "    </tr>\n",
              "  </thead>\n",
              "  <tbody>\n",
              "    <tr>\n",
              "      <th>0</th>\n",
              "      <td>7</td>\n",
              "      <td>Yes</td>\n",
              "    </tr>\n",
              "    <tr>\n",
              "      <th>1</th>\n",
              "      <td>6</td>\n",
              "      <td>No</td>\n",
              "    </tr>\n",
              "    <tr>\n",
              "      <th>2</th>\n",
              "      <td>5</td>\n",
              "      <td>No</td>\n",
              "    </tr>\n",
              "    <tr>\n",
              "      <th>3</th>\n",
              "      <td>8</td>\n",
              "      <td>Yes</td>\n",
              "    </tr>\n",
              "    <tr>\n",
              "      <th>4</th>\n",
              "      <td>9</td>\n",
              "      <td>Yes</td>\n",
              "    </tr>\n",
              "  </tbody>\n",
              "</table>\n",
              "</div>"
            ],
            "text/plain": [
              "   Communication Placed\n",
              "0              7    Yes\n",
              "1              6     No\n",
              "2              5     No\n",
              "3              8    Yes\n",
              "4              9    Yes"
            ]
          },
          "metadata": {
            "tags": []
          },
          "execution_count": 7
        }
      ]
    },
    {
      "cell_type": "code",
      "metadata": {
        "id": "f2ZA8gHerNC1",
        "colab_type": "code",
        "colab": {},
        "outputId": "e807688a-e6f3-42dc-b11f-7bb59995bb70"
      },
      "source": [
        "placement_data[['Communication']]"
      ],
      "execution_count": null,
      "outputs": [
        {
          "output_type": "execute_result",
          "data": {
            "text/html": [
              "<div>\n",
              "<style scoped>\n",
              "    .dataframe tbody tr th:only-of-type {\n",
              "        vertical-align: middle;\n",
              "    }\n",
              "\n",
              "    .dataframe tbody tr th {\n",
              "        vertical-align: top;\n",
              "    }\n",
              "\n",
              "    .dataframe thead th {\n",
              "        text-align: right;\n",
              "    }\n",
              "</style>\n",
              "<table border=\"1\" class=\"dataframe\">\n",
              "  <thead>\n",
              "    <tr style=\"text-align: right;\">\n",
              "      <th></th>\n",
              "      <th>Communication</th>\n",
              "    </tr>\n",
              "  </thead>\n",
              "  <tbody>\n",
              "    <tr>\n",
              "      <th>0</th>\n",
              "      <td>7</td>\n",
              "    </tr>\n",
              "    <tr>\n",
              "      <th>1</th>\n",
              "      <td>6</td>\n",
              "    </tr>\n",
              "    <tr>\n",
              "      <th>2</th>\n",
              "      <td>5</td>\n",
              "    </tr>\n",
              "    <tr>\n",
              "      <th>3</th>\n",
              "      <td>8</td>\n",
              "    </tr>\n",
              "    <tr>\n",
              "      <th>4</th>\n",
              "      <td>9</td>\n",
              "    </tr>\n",
              "  </tbody>\n",
              "</table>\n",
              "</div>"
            ],
            "text/plain": [
              "   Communication\n",
              "0              7\n",
              "1              6\n",
              "2              5\n",
              "3              8\n",
              "4              9"
            ]
          },
          "metadata": {
            "tags": []
          },
          "execution_count": 8
        }
      ]
    },
    {
      "cell_type": "code",
      "metadata": {
        "id": "STfToa2orNC5",
        "colab_type": "code",
        "colab": {},
        "outputId": "741ec439-1bba-4b12-c93d-a2c6f47ff5b8"
      },
      "source": [
        "import sklearn\n",
        "from sklearn.tree import DecisionTreeClassifier # Decision Tree classifier\n",
        "dtc = DecisionTreeClassifier()\n",
        "# Training the model\n",
        "dtc.fit(placement_data[['Communication']],placement_data[['Placed']])\n",
        "# After you run above line you will get trained model in dtc"
      ],
      "execution_count": null,
      "outputs": [
        {
          "output_type": "execute_result",
          "data": {
            "text/plain": [
              "DecisionTreeClassifier(ccp_alpha=0.0, class_weight=None, criterion='gini',\n",
              "                       max_depth=None, max_features=None, max_leaf_nodes=None,\n",
              "                       min_impurity_decrease=0.0, min_impurity_split=None,\n",
              "                       min_samples_leaf=1, min_samples_split=2,\n",
              "                       min_weight_fraction_leaf=0.0, presort='deprecated',\n",
              "                       random_state=None, splitter='best')"
            ]
          },
          "metadata": {
            "tags": []
          },
          "execution_count": 9
        }
      ]
    },
    {
      "cell_type": "code",
      "metadata": {
        "id": "54qRjD0mrNC9",
        "colab_type": "code",
        "colab": {},
        "outputId": "c3fe258f-6b4a-48b5-d34e-de550cc857c6"
      },
      "source": [
        "dtc.predict(placement_data[['Communication']])"
      ],
      "execution_count": null,
      "outputs": [
        {
          "output_type": "execute_result",
          "data": {
            "text/plain": [
              "array(['Yes', 'No', 'No', 'Yes', 'Yes'], dtype=object)"
            ]
          },
          "metadata": {
            "tags": []
          },
          "execution_count": 10
        }
      ]
    },
    {
      "cell_type": "code",
      "metadata": {
        "id": "Hptv9GIirNDB",
        "colab_type": "code",
        "colab": {},
        "outputId": "52e8619b-fc82-42e3-d871-aafbcbf8e8c4"
      },
      "source": [
        "placement_data['Placed']"
      ],
      "execution_count": null,
      "outputs": [
        {
          "output_type": "execute_result",
          "data": {
            "text/plain": [
              "0    Yes\n",
              "1     No\n",
              "2     No\n",
              "3    Yes\n",
              "4    Yes\n",
              "Name: Placed, dtype: object"
            ]
          },
          "metadata": {
            "tags": []
          },
          "execution_count": 11
        }
      ]
    },
    {
      "cell_type": "code",
      "metadata": {
        "id": "zbeN5iuLrNDG",
        "colab_type": "code",
        "colab": {},
        "outputId": "fb3e112e-0bb6-45a9-de1e-9ca268f0da74"
      },
      "source": [
        "## Predict for the unknown student data\n",
        "dtc.predict([[8]])"
      ],
      "execution_count": null,
      "outputs": [
        {
          "output_type": "execute_result",
          "data": {
            "text/plain": [
              "array(['Yes'], dtype=object)"
            ]
          },
          "metadata": {
            "tags": []
          },
          "execution_count": 14
        }
      ]
    },
    {
      "cell_type": "code",
      "metadata": {
        "id": "iLqh1fKErNDJ",
        "colab_type": "code",
        "colab": {},
        "outputId": "f87f6069-a8dc-4583-f69c-7799a02c9678"
      },
      "source": [
        "dtc.predict([[8],[7.5],[3.4]])"
      ],
      "execution_count": null,
      "outputs": [
        {
          "output_type": "execute_result",
          "data": {
            "text/plain": [
              "array(['Yes', 'Yes', 'No'], dtype=object)"
            ]
          },
          "metadata": {
            "tags": []
          },
          "execution_count": 13
        }
      ]
    },
    {
      "cell_type": "markdown",
      "metadata": {
        "id": "lP-Kb1ETrNDN",
        "colab_type": "text"
      },
      "source": [
        "### Labeled and unlabeled data\n",
        "- labeled means along with placed column\n",
        "- Unlabeled without placed column "
      ]
    },
    {
      "cell_type": "code",
      "metadata": {
        "id": "yduwZZTfrNDN",
        "colab_type": "code",
        "colab": {}
      },
      "source": [
        "data1 = {\"Student ID\":[416,375,400,211,312,523],\n",
        "        \"Taken Internship\":['Yes','No','Yes','No','Yes','Yes'],\n",
        "         \"Percentage\":[80,55,65,70,60,75],\n",
        "        \"Communication\":[7,6,5,8,9,5],\n",
        "        \"Placed\":[\"Yes\",\"No\",\"No\",\"Yes\",\"Yes\",\"Yes\"]}\n",
        "placement_data1  =  pd.DataFrame(data1)"
      ],
      "execution_count": null,
      "outputs": []
    },
    {
      "cell_type": "code",
      "metadata": {
        "id": "J6U6PdxmrNDS",
        "colab_type": "code",
        "colab": {},
        "outputId": "7bc71c6d-a565-49d1-d165-c35cc90b4e97"
      },
      "source": [
        "data3 = {\"Student ID\":[416,375,400,211],\n",
        "         \"Internal Marks\":[25,30,18,15],\n",
        "         \"No of Hours Study\":[2,1,2,3],\n",
        "         \"Marks\":[76.5,87,59,53.5]}\n",
        "marks_data2 = pd.DataFrame(data3)\n",
        "marks_data2\n",
        "\n"
      ],
      "execution_count": null,
      "outputs": [
        {
          "output_type": "execute_result",
          "data": {
            "text/html": [
              "<div>\n",
              "<style scoped>\n",
              "    .dataframe tbody tr th:only-of-type {\n",
              "        vertical-align: middle;\n",
              "    }\n",
              "\n",
              "    .dataframe tbody tr th {\n",
              "        vertical-align: top;\n",
              "    }\n",
              "\n",
              "    .dataframe thead th {\n",
              "        text-align: right;\n",
              "    }\n",
              "</style>\n",
              "<table border=\"1\" class=\"dataframe\">\n",
              "  <thead>\n",
              "    <tr style=\"text-align: right;\">\n",
              "      <th></th>\n",
              "      <th>Student ID</th>\n",
              "      <th>Internal Marks</th>\n",
              "      <th>No of Hours Study</th>\n",
              "      <th>Marks</th>\n",
              "    </tr>\n",
              "  </thead>\n",
              "  <tbody>\n",
              "    <tr>\n",
              "      <th>0</th>\n",
              "      <td>416</td>\n",
              "      <td>25</td>\n",
              "      <td>2</td>\n",
              "      <td>76.5</td>\n",
              "    </tr>\n",
              "    <tr>\n",
              "      <th>1</th>\n",
              "      <td>375</td>\n",
              "      <td>30</td>\n",
              "      <td>1</td>\n",
              "      <td>87.0</td>\n",
              "    </tr>\n",
              "    <tr>\n",
              "      <th>2</th>\n",
              "      <td>400</td>\n",
              "      <td>18</td>\n",
              "      <td>2</td>\n",
              "      <td>59.0</td>\n",
              "    </tr>\n",
              "    <tr>\n",
              "      <th>3</th>\n",
              "      <td>211</td>\n",
              "      <td>15</td>\n",
              "      <td>3</td>\n",
              "      <td>53.5</td>\n",
              "    </tr>\n",
              "  </tbody>\n",
              "</table>\n",
              "</div>"
            ],
            "text/plain": [
              "   Student ID  Internal Marks  No of Hours Study  Marks\n",
              "0         416              25                  2   76.5\n",
              "1         375              30                  1   87.0\n",
              "2         400              18                  2   59.0\n",
              "3         211              15                  3   53.5"
            ]
          },
          "metadata": {
            "tags": []
          },
          "execution_count": 16
        }
      ]
    },
    {
      "cell_type": "code",
      "metadata": {
        "id": "xKmcvPf3rNDV",
        "colab_type": "code",
        "colab": {},
        "outputId": "d9eab5c3-9ee2-4e73-f260-d1bce29bc0fc"
      },
      "source": [
        "from sklearn.linear_model import LinearRegression\n",
        "lr = LinearRegression()\n",
        "# training the model with two features\n",
        "lr.fit(marks_data2.iloc[:,1:3],marks_data2['Marks'])\n",
        "# After this cell in variable lr you have trained model"
      ],
      "execution_count": null,
      "outputs": [
        {
          "output_type": "execute_result",
          "data": {
            "text/plain": [
              "LinearRegression(copy_X=True, fit_intercept=True, n_jobs=None, normalize=False)"
            ]
          },
          "metadata": {
            "tags": []
          },
          "execution_count": 20
        }
      ]
    },
    {
      "cell_type": "markdown",
      "metadata": {
        "id": "T2SITD8rrNDY",
        "colab_type": "text"
      },
      "source": [
        "### y=m1 x1 + m2 x2+c\n",
        "predict m1,m2 and c\n",
        "- y - marks\n",
        "- x1 - internal marks\n",
        "- x2 - no of hours study"
      ]
    },
    {
      "cell_type": "code",
      "metadata": {
        "id": "O38F2TtSrNDZ",
        "colab_type": "code",
        "colab": {},
        "outputId": "fedf138c-f481-49c5-fca6-7fec436e6fa2"
      },
      "source": [
        "lr.coef_ ### m1 and m2"
      ],
      "execution_count": null,
      "outputs": [
        {
          "output_type": "execute_result",
          "data": {
            "text/plain": [
              "array([2.5, 2. ])"
            ]
          },
          "metadata": {
            "tags": []
          },
          "execution_count": 21
        }
      ]
    },
    {
      "cell_type": "code",
      "metadata": {
        "id": "t2PioZI8rNDd",
        "colab_type": "code",
        "colab": {},
        "outputId": "2c25c24b-1663-43f3-f1d3-fedd2fa3fedd"
      },
      "source": [
        "lr.intercept_ # c"
      ],
      "execution_count": null,
      "outputs": [
        {
          "output_type": "execute_result",
          "data": {
            "text/plain": [
              "10.000000000000007"
            ]
          },
          "metadata": {
            "tags": []
          },
          "execution_count": 22
        }
      ]
    },
    {
      "cell_type": "code",
      "metadata": {
        "id": "785NJHhUrNDj",
        "colab_type": "code",
        "colab": {},
        "outputId": "94a79d82-7394-4999-901c-8ec9e99c0029"
      },
      "source": [
        "lr.predict(marks_data2.iloc[:,1:3])"
      ],
      "execution_count": null,
      "outputs": [
        {
          "output_type": "execute_result",
          "data": {
            "text/plain": [
              "array([76.5, 87. , 59. , 53.5])"
            ]
          },
          "metadata": {
            "tags": []
          },
          "execution_count": 23
        }
      ]
    },
    {
      "cell_type": "code",
      "metadata": {
        "id": "U5GSkr8UrNDm",
        "colab_type": "code",
        "colab": {},
        "outputId": "2083da52-377b-4b11-ccfd-59266a712718"
      },
      "source": [
        "marks_data2['Marks']"
      ],
      "execution_count": null,
      "outputs": [
        {
          "output_type": "execute_result",
          "data": {
            "text/plain": [
              "0    76.5\n",
              "1    87.0\n",
              "2    59.0\n",
              "3    53.5\n",
              "Name: Marks, dtype: float64"
            ]
          },
          "metadata": {
            "tags": []
          },
          "execution_count": 24
        }
      ]
    },
    {
      "cell_type": "markdown",
      "metadata": {
        "id": "gKDwLyOXrNDp",
        "colab_type": "text"
      },
      "source": [
        "# Question 1:\n",
        "\n",
        "https://www.codechef.com/problems/RECNDSTR\n",
        "\n",
        "Chef has a string $S$ consisting of lowercase English characters. Chef defined functions left shift $L(X)$ and right shift $R(X)$ as follows.\n",
        "\n",
        "$L(X)$ is defined as shifting all characters of string $X$ one step towards the left and moving the first character to the end.\n",
        "\n",
        "$R(X)$ is defined as shifting all characters of string $X$ one step towards the right and moving the last character to the beginning.\n",
        "\n",
        "For example, L(\"abcd\") = \"bcda\" and R(\"abcd\") = \"dabc\"\n",
        "\n",
        "Chef wants to find out whether there exists a string $V$ of the same length as $S$ such that both $L(V) = S$ and $R(V) = S$ holds.\n",
        "\n",
        "Input:\n",
        "\n",
        "The first line of the input contains a single integer $T$ denoting the number of test cases. The description of $T$ test cases follows.\n",
        "\n",
        "The first line of each test case contains a string $S$.\n",
        "\n",
        "Output:\n",
        "\n",
        "For each test case, If there exists a valid string $V$, print \"YES\", otherwise print \"NO\" (without the quotes).\n",
        "\n",
        "Sample Input:\n",
        "\n",
        "4\n",
        "\n",
        "a\n",
        "\n",
        "ab\n",
        "\n",
        "abcd\n",
        "\n",
        "aaaaa\n",
        "\n",
        "Sample Output:\n",
        "\n",
        "YES\n",
        "\n",
        "YES\n",
        "\n",
        "NO\n",
        "\n",
        "YES\n",
        "\n"
      ]
    },
    {
      "cell_type": "code",
      "metadata": {
        "id": "jkEPdM9crNDq",
        "colab_type": "code",
        "colab": {},
        "outputId": "34c495a8-4a20-4eba-f970-4abb42a2de86"
      },
      "source": [
        "def L(x):\n",
        "    return x[1:]+x[0]\n",
        "def R(x):\n",
        "    return x[len(x)-1]+x[0:len(x)-1]\n",
        "t=int(input())\n",
        "list1=[input() for i in range(t)]\n",
        "for i in list1:\n",
        "    print(\"YES\") if L(i) == R(i) else print(\"NO\")"
      ],
      "execution_count": null,
      "outputs": [
        {
          "output_type": "stream",
          "text": [
            "4\n",
            "a\n",
            "ab\n",
            "abcd\n",
            "aaaaa\n",
            "YES\n",
            "YES\n",
            "NO\n",
            "YES\n"
          ],
          "name": "stdout"
        }
      ]
    },
    {
      "cell_type": "code",
      "metadata": {
        "id": "vaL5l_92rNDu",
        "colab_type": "code",
        "colab": {}
      },
      "source": [
        ""
      ],
      "execution_count": null,
      "outputs": []
    }
  ]
}